{
 "cells": [
  {
   "cell_type": "markdown",
   "id": "31e63ff8-1d6c-44c1-b862-aff99cdd0816",
   "metadata": {},
   "source": [
    "#### Q1. What is multithreading in python? Why is it used? Name the module used to handle threads in python."
   ]
  },
  {
   "cell_type": "markdown",
   "id": "932f11e7-1056-40e7-91c4-73c8bb59480c",
   "metadata": {},
   "source": [
    "#### a. Multithreading in Python refers to the ability of a program to execute multiple threads concurrently. A thread is a separate flow of execution within a process, and multithreading allows for parallel execution of multiple threads, thus achieving concurrent programming.\n",
    "\n",
    "#### b. Multithreading is used to improve the performance and responsiveness of certain types of applications. By dividing a program into multiple threads, it becomes possible to execute multiple tasks simultaneously. This is particularly useful in scenarios where a program needs to perform multiple independent or asynchronous operations, such as handling multiple network connections, processing large datasets, or performing time-consuming computations while keeping the user interface responsive.\n",
    "\n",
    "#### c. The module used to handle threads in Python is called threading. It provides a high-level interface for creating and managing threads within a Python program. The threading module allows us to create new threads, start them, control their execution, and synchronize their actions using locks, conditions, and other synchronization primitives."
   ]
  },
  {
   "cell_type": "markdown",
   "id": "af85b61e-fab6-47c5-9e02-46ccc1a9fb9b",
   "metadata": {},
   "source": [
    "#### Q2. Why threading module used? Write the use of the following functions :\n",
    "#### 1. activeCount()\n",
    "#### 2. currentThread()\n",
    "#### 3. enumerate()"
   ]
  },
  {
   "cell_type": "markdown",
   "id": "f8ef3451-5db0-4994-aa5b-806ddd8d79f6",
   "metadata": {},
   "source": [
    "#### a. The threading module in Python is used to handle threads and concurrent programming. It provides a high-level interface for creating, managing, and synchronizing threads within a Python program.\n",
    "\n",
    "#### 1. activeCount(): This function is used to get the number of Thread objects currently alive. It returns the number of Thread objects that have been created and have not yet been terminated. It can be useful to monitor the number of active threads in a program or to check if any threads are still running.\n",
    "\n",
    "#### 2. currentThread(): This function returns the current Thread object, representing the thread from which it is called. It allows us to obtain a reference to the currently executing thread. This can be helpful in scenarios where we need to perform operations specific to the current thread, such as obtaining its name, identifying the thread's ID, or setting thread-local data.\n",
    "\n",
    "#### 3. enumerate(): The enumerate() function returns a list of all currently active Thread objects. It provides a way to obtain references to all the running threads in a Python program. The list includes the current thread, as well as any other active threads that have been created. This function can be useful for monitoring or managing the state of multiple threads in a program, such as checking their names, IDs, or other attributes."
   ]
  },
  {
   "cell_type": "markdown",
   "id": "89959b03-c07e-42cb-8954-1f587025d8fa",
   "metadata": {},
   "source": [
    "#### Q3. Explain the following functions: \n",
    "#### 1. run()\n",
    "#### 2. start()\n",
    "#### 3. join()\n",
    "#### 4. isAlive()"
   ]
  },
  {
   "cell_type": "markdown",
   "id": "c0f433b6-19f0-4f45-953d-0cf73f52a0cc",
   "metadata": {},
   "source": [
    "#### 1. run(): The run() method is the entry point for the thread's activity. It is called when we directly invoke the run() method on a Thread object. However, calling run() directly does not create a new thread; instead, it runs the thread's activity in the current thread context. In most cases, it is recommended to use the start() method to start a new thread, as it will invoke run() in a separate thread of execution.\n",
    "\n",
    "#### 2. start(): The start() method is used to start a new thread by invoking its run() method in a separate thread of execution. When we call start(), it creates a new thread and then calls the run() method in that new thread. This allows the thread to run concurrently with other threads in the program. It is important to note that once a thread has been started, we cannot start it again.\n",
    "\n",
    "#### 3. join(): The join() method is used to wait for a thread to complete its execution. When we call join() on a Thread object, the calling thread will be blocked until the target thread has finished executing. This is useful when we want to ensure that the main thread waits for other threads to complete before continuing its own execution. Additionally, we can specify a timeout value as an argument to join() to limit the waiting time.\n",
    "\n",
    "#### 4. isAlive(): The isAlive() method is used to check if a thread is currently active and running. It returns a boolean value indicating whether the thread is alive or not. A thread is considered alive if it has been started and has not yet completed its execution. This method is often used to check the status of a thread and make decisions based on its current state.\n"
   ]
  },
  {
   "cell_type": "markdown",
   "id": "4b4f8df5-c26f-4a3a-ac6c-c5c68ad5981a",
   "metadata": {},
   "source": [
    "#### Q4. Write a python program to create two threads. Thread one must print the list of squares and thread two must print the list of cubes."
   ]
  },
  {
   "cell_type": "code",
   "execution_count": 20,
   "id": "75499683-4844-402c-acaf-1a2f3d94a414",
   "metadata": {},
   "outputs": [
    {
     "name": "stdout",
     "output_type": "stream",
     "text": [
      "[0, 1, 4, 9, 16, 25, 36, 49, 64, 81]\n",
      "[0, 1, 8, 27, 64, 125, 216, 343, 512, 729]\n"
     ]
    }
   ],
   "source": [
    "import threading\n",
    "\n",
    "def print_squares_list():\n",
    "    squre_list = [i**2 for i in range(10)]\n",
    "    return squre_list\n",
    "\n",
    "def print_cube_list():\n",
    "    cube_list = [i**3 for i in range(10)]\n",
    "    return cube_list\n",
    "\n",
    "thrad1 = threading.Thread(target=print_squares_list) \n",
    "thrad2 = threading.Thread(target=print_cube_list) \n",
    "\n",
    "thrad1.start()\n",
    "thrad2.start()\n",
    "\n",
    "\n",
    "print(print_squares_list())\n",
    "print(print_cube_list())"
   ]
  },
  {
   "cell_type": "markdown",
   "id": "3f630e03-0051-459d-bcf8-5bcba6f7ba2b",
   "metadata": {},
   "source": [
    "#### Q5. State advantages and disadvantages of multithreading."
   ]
  },
  {
   "cell_type": "markdown",
   "id": "9a842c99-f32d-4085-a4f9-48f0259be110",
   "metadata": {},
   "source": [
    "#### Advantages of Multithreading:\n",
    "#### 1. Increased Responsiveness: Multithreading allows an application to be more responsive by executing multiple tasks concurrently. It can prevent the user interface from becoming unresponsive during time-consuming operations by moving them to separate threads.\n",
    "\n",
    "#### 2. Enhanced Performance: Multithreading can improve performance by utilizing the available resources efficiently. It enables the execution of multiple tasks simultaneously, making better use of multi-core processors.\n",
    "\n",
    "#### 3. Resource Sharing: Threads within a process can share the same memory space, allowing them to communicate and share data more easily. This enables efficient resource sharing and coordination between threads.\n",
    "\n",
    "#### 4. Simplified Design: Multithreading can simplify the design of complex applications. By breaking down tasks into separate threads, we can manage different aspects of an application independently, leading to cleaner and more modular code.\n",
    "\n",
    "#### Disadvantages of Multithreading:\n",
    "#### 1. Increased Complexity: Multithreaded programming introduces additional complexity compared to single-threaded programming. It involves managing shared resources, handling synchronization, and dealing with potential issues such as race conditions and deadlocks.\n",
    "\n",
    "#### 2. Synchronization Overhead: When multiple threads access shared resources, synchronization mechanisms (such as locks or semaphores) are required to ensure data integrity and prevent conflicts. Implementing and managing these mechanisms can introduce overhead and potential performance bottlenecks.\n",
    "\n",
    "#### 3. Difficulty in Debugging: Debugging multithreaded applications can be more challenging due to non-deterministic behavior. Thread interactions and timing-dependent issues can be hard to reproduce and diagnose.\n",
    "\n",
    "#### 4. Scalability Limitations: Although multithreading can enhance performance, it may have limitations in terms of scalability. Some applications may reach a point of diminishing returns when adding more threads due to contention for shared resources or other bottlenecks.\n"
   ]
  },
  {
   "cell_type": "markdown",
   "id": "2f34bcc4-9354-4208-848b-d7f87b12deb8",
   "metadata": {},
   "source": [
    "#### Q6. Explain deadlocks and race conditions."
   ]
  },
  {
   "cell_type": "markdown",
   "id": "93f44501-1a4c-4a92-a77c-31104d655142",
   "metadata": {},
   "source": [
    "#### 1. Deadlocks: A deadlock occurs when two or more threads are unable to proceed because each is waiting for a resource that another thread holds, resulting in a deadlock situation where none of the threads can make progress. Deadlocks typically happen due to the following four conditions, known as the Coffman \n",
    "#### conditions:\n",
    "#### - Mutual Exclusion: At least one resource must be exclusively held or reserved by a thread, meaning it cannot be used by other threads simultaneously.\n",
    "#### - Hold and Wait: A thread holding a resource can request additional resources while still holding the current ones, without releasing them.\n",
    "#### - No Preemption: Resources cannot be forcibly taken away from a thread. They must be released voluntarily by the thread holding them.\n",
    "#### - Circular Wait: A cycle exists in the resource allocation graph, where each thread in the cycle is waiting for a resource held by another thread in the cycle.\n",
    "\n",
    "#### Deadlocks can lead to a program freeze or a state where no further progress can be made, requiring intervention or a restart of the program.\n",
    "\n",
    "#### 2. Race Conditions: A race condition occurs when two or more threads access shared data concurrently, and the final outcome depends on the timing or order of their execution. The result of the program becomes non-deterministic and may vary each time the program is run.\n",
    "\n",
    "#### Race conditions typically happen when multiple threads perform operations on shared data without proper synchronization. When threads access and modify shared data simultaneously, the order of their execution can lead to unexpected and incorrect results. Race conditions can manifest as data corruption, incorrect calculations, or other inconsistent behaviors.\n",
    "\n",
    "#### To mitigate race conditions, proper synchronization mechanisms such as locks, semaphores, or atomic operations need to be used to ensure that only one thread can access the shared data at a time or that data access is properly coordinated.\n"
   ]
  },
  {
   "cell_type": "code",
   "execution_count": null,
   "id": "f3e6ab0b-39f2-4fdd-ab78-713db23aeb25",
   "metadata": {},
   "outputs": [],
   "source": []
  }
 ],
 "metadata": {
  "kernelspec": {
   "display_name": "Python 3 (ipykernel)",
   "language": "python",
   "name": "python3"
  },
  "language_info": {
   "codemirror_mode": {
    "name": "ipython",
    "version": 3
   },
   "file_extension": ".py",
   "mimetype": "text/x-python",
   "name": "python",
   "nbconvert_exporter": "python",
   "pygments_lexer": "ipython3",
   "version": "3.10.6"
  }
 },
 "nbformat": 4,
 "nbformat_minor": 5
}
