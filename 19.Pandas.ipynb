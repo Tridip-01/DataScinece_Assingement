{
 "cells": [
  {
   "cell_type": "markdown",
   "id": "c38c5687-7964-4dd3-8e26-60d037d47d25",
   "metadata": {},
   "source": [
    "Q1. Create a Pandas Series that contains the following data: 4, 8, 15, 16, 23, and 42. Then, print the series."
   ]
  },
  {
   "cell_type": "code",
   "execution_count": 1,
   "id": "96a1c53e-b03d-4b65-bbee-ba4eb3eca7c1",
   "metadata": {},
   "outputs": [
    {
     "data": {
      "text/plain": [
       "0     4\n",
       "1     8\n",
       "2    15\n",
       "3    16\n",
       "4    42\n",
       "dtype: int64"
      ]
     },
     "execution_count": 1,
     "metadata": {},
     "output_type": "execute_result"
    }
   ],
   "source": [
    "import pandas as pd\n",
    "a = 4,8,15,16,42\n",
    "pan_ser = pd.Series(a)\n",
    "pan_ser"
   ]
  },
  {
   "cell_type": "markdown",
   "id": "550f411d-2bc6-4a31-9572-9e10e7c5554b",
   "metadata": {},
   "source": [
    "Q2. Create a variable of list type containing 10 elements in it, and apply pandas.Series function on the\n",
    "variable print it.\n"
   ]
  },
  {
   "cell_type": "code",
   "execution_count": 2,
   "id": "c44390cb-62fd-418e-9677-4ec25b7dbb37",
   "metadata": {},
   "outputs": [
    {
     "data": {
      "text/plain": [
       "0     1\n",
       "1     2\n",
       "2     3\n",
       "3     4\n",
       "4     5\n",
       "5     6\n",
       "6     7\n",
       "7     8\n",
       "8     9\n",
       "9    10\n",
       "dtype: int64"
      ]
     },
     "execution_count": 2,
     "metadata": {},
     "output_type": "execute_result"
    }
   ],
   "source": [
    "var_pd = [1,2,3,4,5,6,7,8,9,10]\n",
    "pd.Series(var_pd)"
   ]
  },
  {
   "cell_type": "markdown",
   "id": "7257515f-4b05-488d-8786-7bd08f7eca56",
   "metadata": {},
   "source": [
    "Q3. Create a Pandas DataFrame that contains the following data:\n",
    "```\n",
    "Name   | Age | Gender\n",
    "---------------------\n",
    "Alice  |25   |Female\n",
    "Bob    |30   |Male\n",
    "Claire |27   |Female\n",
    "```\n",
    "Then, print the DataFrame."
   ]
  },
  {
   "cell_type": "code",
   "execution_count": 3,
   "id": "6ab8392f-2cf0-4db2-8234-5d2ee5658fff",
   "metadata": {},
   "outputs": [
    {
     "data": {
      "text/html": [
       "<div>\n",
       "<style scoped>\n",
       "    .dataframe tbody tr th:only-of-type {\n",
       "        vertical-align: middle;\n",
       "    }\n",
       "\n",
       "    .dataframe tbody tr th {\n",
       "        vertical-align: top;\n",
       "    }\n",
       "\n",
       "    .dataframe thead th {\n",
       "        text-align: right;\n",
       "    }\n",
       "</style>\n",
       "<table border=\"1\" class=\"dataframe\">\n",
       "  <thead>\n",
       "    <tr style=\"text-align: right;\">\n",
       "      <th></th>\n",
       "      <th>Name</th>\n",
       "      <th>Age</th>\n",
       "      <th>Gender</th>\n",
       "    </tr>\n",
       "  </thead>\n",
       "  <tbody>\n",
       "    <tr>\n",
       "      <th>0</th>\n",
       "      <td>Alice</td>\n",
       "      <td>25</td>\n",
       "      <td>Female</td>\n",
       "    </tr>\n",
       "    <tr>\n",
       "      <th>1</th>\n",
       "      <td>Bob</td>\n",
       "      <td>30</td>\n",
       "      <td>Male</td>\n",
       "    </tr>\n",
       "    <tr>\n",
       "      <th>2</th>\n",
       "      <td>Claire</td>\n",
       "      <td>27</td>\n",
       "      <td>Female</td>\n",
       "    </tr>\n",
       "  </tbody>\n",
       "</table>\n",
       "</div>"
      ],
      "text/plain": [
       "     Name  Age  Gender\n",
       "0   Alice   25  Female\n",
       "1     Bob   30    Male\n",
       "2  Claire   27  Female"
      ]
     },
     "execution_count": 3,
     "metadata": {},
     "output_type": "execute_result"
    }
   ],
   "source": [
    "pd.read_csv(\"q1.csv\")"
   ]
  },
  {
   "cell_type": "markdown",
   "id": "e40a02a8-2aee-4ea1-9527-6d5001ea29a8",
   "metadata": {},
   "source": [
    "Q4. What is ‘DataFrame’ in pandas and how is it different from pandas.series? Explain with an example."
   ]
  },
  {
   "cell_type": "markdown",
   "id": "49ef36d9-2803-4a99-b26d-0a73b317e507",
   "metadata": {},
   "source": [
    "A DataFrame is a two-dimensional data structure, like a table or spreadsheet, that can hold heterogeneous data. It is one of the primary data structures provided by the pandas library, designed to handle and manipulate data effectively. We can think of a DataFrame as a collection of Series, where each Series represents a column of the DataFrame.\n",
    "\n",
    "On the other hand, a pandas.Series is a one-dimensional array-like object. It is similar to a list or a NumPy array but comes with additional functionality and flexibility. A Series can contain homogeneous data of any data type, such as integers, strings, or even objects.\n",
    "\n",
    "Here's a simple example to illustrate the difference between a DataFrame and a Series:\n",
    "\n",
    "Suppose we want to represent information about employees in a company. We can use a DataFrame to store this data:"
   ]
  },
  {
   "cell_type": "code",
   "execution_count": 10,
   "id": "70afbc67-a821-4095-bb25-689a64a00800",
   "metadata": {},
   "outputs": [],
   "source": [
    "import logging\n",
    "\n",
    "logging.basicConfig(filename= \"error.log\", level= logging.INFO)\n",
    "# Create a DataFrame\n",
    "data = {\n",
    "    'Name': ['Tridip', 'Suman', 'Abhijit', 'Sundar'],\n",
    "    'Age': [28, 24, 22, 31],\n",
    "    'Department': ['Python Developer', 'Data Engineer', 'Web Developer', 'Ml Engineer']\n",
    "}\n",
    "\n",
    "df = pd.DataFrame(data)\n",
    "logging.info(df)"
   ]
  },
  {
   "cell_type": "markdown",
   "id": "239a35bc-9fc9-41e8-b765-ce332c3b5cfa",
   "metadata": {},
   "source": [
    "In this example, we have created a DataFrame with three columns: 'Name', 'Age', and 'Department'. Each column is represented by a pandas.Series.\n",
    "Key differences between DataFrame and Series:\n",
    "\n",
    "1. Dimensionality:\n",
    "   - DataFrame: Two-dimensional (rows and columns)\n",
    "   - Series: One-dimensional (single row or column)\n",
    "\n",
    "2. Heterogeneity:\n",
    "   - DataFrame: Can hold multiple data types in different columns.\n",
    "   - Series: Typically holds a single data type (homogeneous).\n",
    "\n",
    "3. Representation:\n",
    "   - DataFrame: Tabular structure with rows and columns.\n",
    "   - Series: Index with values (column name in case of Series within a DataFrame).\n",
    "\n",
    "4. Functionality:\n",
    "   - DataFrame: Provides functionality to work with multiple columns and rows simultaneously.\n",
    "   - Series: Provides operations and methods for one-dimensional data manipulation."
   ]
  },
  {
   "cell_type": "code",
   "execution_count": 12,
   "id": "8270cd55-f0e8-405a-93fb-59fb43e216db",
   "metadata": {},
   "outputs": [],
   "source": [
    "# This is a DataFrame\n",
    "data = {\n",
    "    'Name': ['Tridip', 'Suman', 'Abhijit', 'Sundar'],\n",
    "    'Age': [28, 24, 22, 31],\n",
    "    'Department': ['Python Developer', 'Data Engineer', 'Web Developer', 'Ml Engineer']\n",
    "}\n",
    "\n",
    "df = pd.DataFrame(data)\n",
    "logging.info(df)\n",
    "\n",
    "# This is a series\n",
    "\n",
    "logging.info(df['Name'])"
   ]
  },
  {
   "cell_type": "markdown",
   "id": "0b175482-9152-4400-928f-62205b7f6f00",
   "metadata": {},
   "source": [
    "Q5. What are some common functions you can use to manipulate data in a Pandas DataFrame? Can\n",
    "you give an example of when you might use one of these functions?"
   ]
  },
  {
   "cell_type": "markdown",
   "id": "e906d88b-26ef-4295-99e6-ff523221ff7d",
   "metadata": {},
   "source": [
    "In pandas we can perfome verious types of functions, it has wide range of functions. Some commonly used functions are -\n",
    "\n",
    "1. filter(): Allows you to filter rows based on certain conditions.\n",
    "2. groupby(): Enables you to group data based on one or more columns and perform aggregate functions.\n",
    "3. merge(): Combines two DataFrames based on a common key or index.\n",
    "4. sort_values(): Sorts the DataFrame based on one or more columns.\n",
    "5. drop(): Removes rows or columns from the DataFrame.\n",
    "6. fillna(): Fills missing values in the DataFrame with specified values.\n",
    "7. apply(): Applies a function to each element or row of the DataFrame.\n",
    "8. pivot_table(): Creates a pivot table for data summarization.\n",
    "9. map(): Applies a function to each element of a specific column.\n",
    "10. rename(): Renames columns or index labels."
   ]
  },
  {
   "cell_type": "code",
   "execution_count": 30,
   "id": "ef5226a5-c314-4b15-9c7e-132c40ddb829",
   "metadata": {},
   "outputs": [
    {
     "data": {
      "text/html": [
       "<div>\n",
       "<style scoped>\n",
       "    .dataframe tbody tr th:only-of-type {\n",
       "        vertical-align: middle;\n",
       "    }\n",
       "\n",
       "    .dataframe tbody tr th {\n",
       "        vertical-align: top;\n",
       "    }\n",
       "\n",
       "    .dataframe thead th {\n",
       "        text-align: right;\n",
       "    }\n",
       "</style>\n",
       "<table border=\"1\" class=\"dataframe\">\n",
       "  <thead>\n",
       "    <tr style=\"text-align: right;\">\n",
       "      <th></th>\n",
       "      <th>Name</th>\n",
       "      <th>Age</th>\n",
       "      <th>Department</th>\n",
       "    </tr>\n",
       "  </thead>\n",
       "  <tbody>\n",
       "    <tr>\n",
       "      <th>0</th>\n",
       "      <td>Tridip</td>\n",
       "      <td>28</td>\n",
       "      <td>Python Developer</td>\n",
       "    </tr>\n",
       "    <tr>\n",
       "      <th>1</th>\n",
       "      <td>Suman</td>\n",
       "      <td>24</td>\n",
       "      <td>Data Engineer</td>\n",
       "    </tr>\n",
       "    <tr>\n",
       "      <th>2</th>\n",
       "      <td>Abhijit</td>\n",
       "      <td>22</td>\n",
       "      <td>Web Developer</td>\n",
       "    </tr>\n",
       "    <tr>\n",
       "      <th>3</th>\n",
       "      <td>Sundar</td>\n",
       "      <td>31</td>\n",
       "      <td>Ml Engineer</td>\n",
       "    </tr>\n",
       "  </tbody>\n",
       "</table>\n",
       "</div>"
      ],
      "text/plain": [
       "      Name  Age        Department\n",
       "0   Tridip   28  Python Developer\n",
       "1    Suman   24     Data Engineer\n",
       "2  Abhijit   22     Web Developer\n",
       "3   Sundar   31       Ml Engineer"
      ]
     },
     "execution_count": 30,
     "metadata": {},
     "output_type": "execute_result"
    }
   ],
   "source": [
    "data = {\n",
    "    'Name': ['Tridip', 'Suman', 'Abhijit', 'Sundar'],\n",
    "    'Age': [28, 24, 22, 31],\n",
    "    'Department': ['Python Developer', 'Data Engineer', 'Web Developer', 'Ml Engineer']\n",
    "}\n",
    "\n",
    "df = pd.DataFrame(data)\n",
    "df"
   ]
  },
  {
   "cell_type": "code",
   "execution_count": 54,
   "id": "4cdb46df-51c1-450d-8ee4-5b891feb49d5",
   "metadata": {},
   "outputs": [
    {
     "data": {
      "text/html": [
       "<div>\n",
       "<style scoped>\n",
       "    .dataframe tbody tr th:only-of-type {\n",
       "        vertical-align: middle;\n",
       "    }\n",
       "\n",
       "    .dataframe tbody tr th {\n",
       "        vertical-align: top;\n",
       "    }\n",
       "\n",
       "    .dataframe thead th {\n",
       "        text-align: right;\n",
       "    }\n",
       "</style>\n",
       "<table border=\"1\" class=\"dataframe\">\n",
       "  <thead>\n",
       "    <tr style=\"text-align: right;\">\n",
       "      <th></th>\n",
       "      <th>Name</th>\n",
       "      <th>Age</th>\n",
       "    </tr>\n",
       "  </thead>\n",
       "  <tbody>\n",
       "    <tr>\n",
       "      <th>0</th>\n",
       "      <td>Tridip</td>\n",
       "      <td>28</td>\n",
       "    </tr>\n",
       "    <tr>\n",
       "      <th>1</th>\n",
       "      <td>Suman</td>\n",
       "      <td>24</td>\n",
       "    </tr>\n",
       "    <tr>\n",
       "      <th>2</th>\n",
       "      <td>Abhijit</td>\n",
       "      <td>22</td>\n",
       "    </tr>\n",
       "    <tr>\n",
       "      <th>3</th>\n",
       "      <td>Sundar</td>\n",
       "      <td>31</td>\n",
       "    </tr>\n",
       "  </tbody>\n",
       "</table>\n",
       "</div>"
      ],
      "text/plain": [
       "      Name  Age\n",
       "0   Tridip   28\n",
       "1    Suman   24\n",
       "2  Abhijit   22\n",
       "3   Sundar   31"
      ]
     },
     "execution_count": 54,
     "metadata": {},
     "output_type": "execute_result"
    }
   ],
   "source": [
    "df.filter(items=['Name','Age'])"
   ]
  },
  {
   "cell_type": "markdown",
   "id": "5159947f-a97d-4686-a06e-2dd2b7ea2d5a",
   "metadata": {},
   "source": [
    "Q6. Which of the following is mutable in nature Series, DataFrame, Panel?"
   ]
  },
  {
   "cell_type": "markdown",
   "id": "059a3a81-cd29-4514-9a87-0f0ed2e8dbd0",
   "metadata": {},
   "source": [
    "Among the options given, the **Series** and **DataFrame** are mutable in nature.\n",
    "\n",
    "1. **Series**: A pandas Series is mutable, which means we can modify its elements after creation. We can change the values of individual elements, add new elements, or delete existing ones.\n",
    "\n",
    "2. **DataFrame**: A pandas DataFrame is also mutable. We can modify the data within the DataFrame, such as updating cell values, adding or removing rows/columns, and performing various data manipulations.\n",
    "\n",
    "3. **Panel**: The Panel was **immutable**, meaning we couldn't modify its contents after creation.\n",
    "\n",
    "To summarize, both the Series and DataFrame are mutable data structures in pandas, while the Panel (which is no longer commonly used) is immutable."
   ]
  },
  {
   "cell_type": "markdown",
   "id": "62d4b7be-ace2-44fd-a4c3-1e3fe59b1320",
   "metadata": {},
   "source": [
    "Q7. Create a DataFrame using multiple Series. Explain with an example."
   ]
  },
  {
   "cell_type": "code",
   "execution_count": 28,
   "id": "309f6299-0a6b-402d-9c4a-f1eb4960bf5d",
   "metadata": {},
   "outputs": [
    {
     "data": {
      "text/html": [
       "<div>\n",
       "<style scoped>\n",
       "    .dataframe tbody tr th:only-of-type {\n",
       "        vertical-align: middle;\n",
       "    }\n",
       "\n",
       "    .dataframe tbody tr th {\n",
       "        vertical-align: top;\n",
       "    }\n",
       "\n",
       "    .dataframe thead th {\n",
       "        text-align: right;\n",
       "    }\n",
       "</style>\n",
       "<table border=\"1\" class=\"dataframe\">\n",
       "  <thead>\n",
       "    <tr style=\"text-align: right;\">\n",
       "      <th></th>\n",
       "      <th>Name</th>\n",
       "      <th>Age</th>\n",
       "      <th>Deparment</th>\n",
       "    </tr>\n",
       "  </thead>\n",
       "  <tbody>\n",
       "    <tr>\n",
       "      <th>0</th>\n",
       "      <td>Tridip</td>\n",
       "      <td>28</td>\n",
       "      <td>Python Developer</td>\n",
       "    </tr>\n",
       "    <tr>\n",
       "      <th>1</th>\n",
       "      <td>Suman</td>\n",
       "      <td>24</td>\n",
       "      <td>Data Engineer</td>\n",
       "    </tr>\n",
       "    <tr>\n",
       "      <th>2</th>\n",
       "      <td>Abhijit</td>\n",
       "      <td>22</td>\n",
       "      <td>Web Developer</td>\n",
       "    </tr>\n",
       "    <tr>\n",
       "      <th>3</th>\n",
       "      <td>Sundar</td>\n",
       "      <td>31</td>\n",
       "      <td>Ml Engineer</td>\n",
       "    </tr>\n",
       "  </tbody>\n",
       "</table>\n",
       "</div>"
      ],
      "text/plain": [
       "      Name  Age         Deparment\n",
       "0   Tridip   28  Python Developer\n",
       "1    Suman   24     Data Engineer\n",
       "2  Abhijit   22     Web Developer\n",
       "3   Sundar   31       Ml Engineer"
      ]
     },
     "execution_count": 28,
     "metadata": {},
     "output_type": "execute_result"
    }
   ],
   "source": [
    "import pandas as pd\n",
    "\n",
    "Name = pd.Series(['Tridip', 'Suman', 'Abhijit', 'Sundar'])\n",
    "Age =  pd.Series([28, 24, 22, 31])\n",
    "Department =  pd.Series(['Python Developer', 'Data Engineer', 'Web Developer', 'Ml Engineer'])\n",
    "\n",
    "db = {'Name' : Name,\n",
    "      'Age' : Age,\n",
    "      'Deparment' : Department\n",
    "     }\n",
    "\n",
    "df = pd.DataFrame(db)\n",
    "df"
   ]
  },
  {
   "cell_type": "markdown",
   "id": "a185f576-5972-48a1-affe-26262c60bb74",
   "metadata": {},
   "source": [
    "In this example, we first created three separate Series: Name, Age, and Department. Next, we combined these Series into a dictionary called data, where the keys of the dictionary represent the column names, and the corresponding values are the Series.\n",
    "\n",
    "Finally, we used the pd.DataFrame() constructor and passed the data dictionary to create the DataFrame df. The resulting DataFrame now contains the information from the individual Series aligned by their indexes, creating a coherent tabular structure with three columns: 'Name', 'Age', and 'Department'. Each row represents information."
   ]
  }
 ],
 "metadata": {
  "kernelspec": {
   "display_name": "Python 3 (ipykernel)",
   "language": "python",
   "name": "python3"
  },
  "language_info": {
   "codemirror_mode": {
    "name": "ipython",
    "version": 3
   },
   "file_extension": ".py",
   "mimetype": "text/x-python",
   "name": "python",
   "nbconvert_exporter": "python",
   "pygments_lexer": "ipython3",
   "version": "3.10.6"
  }
 },
 "nbformat": 4,
 "nbformat_minor": 5
}
