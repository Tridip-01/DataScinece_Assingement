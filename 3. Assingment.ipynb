{
 "cells": [
  {
   "cell_type": "markdown",
   "id": "467ceac5-82ab-4f7b-99cc-72992f95f882",
   "metadata": {},
   "source": [
    "### Q1 Which keyword is used to create a function? Create a function to return a list of odd numbers in the range of 1 to 25.\n"
   ]
  },
  {
   "cell_type": "code",
   "execution_count": 5,
   "id": "e48903db-c078-4262-ac03-ba0f1ada7e03",
   "metadata": {},
   "outputs": [
    {
     "data": {
      "text/plain": [
       "\"The keyword used to create a function in Python is def. The def keyword is followed by the name of the function, \\nparentheses (), and a colon :. Here's the basic syntax of defining a function in Python: for exemple :\\n\\ndef function_name(parameters):\\n    # Function body\\n    # Statements to be executed\\n    # when the function is called\\n    return value  # Optional return statement \""
      ]
     },
     "execution_count": 5,
     "metadata": {},
     "output_type": "execute_result"
    }
   ],
   "source": [
    "'''The keyword used to create a function in Python is def. The def keyword is followed by the name of the function, \n",
    "parentheses (), and a colon :. Here's the basic syntax of defining a function in Python: for exemple :\n",
    "\n",
    "def function_name(parameters):\n",
    "    # Function body\n",
    "    # Statements to be executed\n",
    "    # when the function is called\n",
    "    return value  # Optional return statement '''"
   ]
  },
  {
   "cell_type": "code",
   "execution_count": 2,
   "id": "e3efc412-998e-4c28-ba04-cb0b2641638f",
   "metadata": {},
   "outputs": [],
   "source": [
    " def oddNumbers():  # This oddNumbers return a list of odd numbers in the range of 1 to 25.\n",
    "    l = []   \n",
    "    for i in range(1,26):  # using loop i iterate from 1 to 25 \n",
    "        if i % 2 != 0:  \n",
    "            l.append(i)  # if i in on the odd number then i is going to append on l\n",
    "    return l\n",
    "        "
   ]
  },
  {
   "cell_type": "code",
   "execution_count": 3,
   "id": "4edfbd63-bf77-43ad-aa68-5962b4baa360",
   "metadata": {},
   "outputs": [
    {
     "data": {
      "text/plain": [
       "[1, 3, 5, 7, 9, 11, 13, 15, 17, 19, 21, 23, 25]"
      ]
     },
     "execution_count": 3,
     "metadata": {},
     "output_type": "execute_result"
    }
   ],
   "source": [
    "oddNumbers() # we call the function "
   ]
  },
  {
   "cell_type": "markdown",
   "id": "b39b32e8-40ff-424c-a5e2-e87729d3f5f2",
   "metadata": {},
   "source": [
    "### Q2. Why *args and **kwargs is used in some functions? Create a function each for *args and **kwargs to demonstrate their use."
   ]
  },
  {
   "cell_type": "markdown",
   "id": "54614b4a-4360-4eed-910b-a31a52b5fe6d",
   "metadata": {},
   "source": [
    "The *args and **kwargs are special syntax used in Python to pass a variable number of arguments to a function. They provide flexibility when the number of arguments that a function needs to accept is unknown or may vary.\n",
    "\n",
    "The *args syntax allows a function to accept any number of positional arguments. It collects all the positional arguments into a tuple within the function. This is useful when you want to pass a variable number of arguments without explicitly specifying them.\n",
    "\n",
    "Here's an example function that demonstrates the use of *args:\n",
    "\n",
    "def sum_numbers(*args):\n",
    "    total = 0\n",
    "    for i in args:\n",
    "        total += i\n",
    "    return total\n",
    "\n",
    "Usage:\n",
    "\n",
    "print(sum_numbers(5, 6, 7))  # Output: 18\n",
    "print(sum_numbers(1, 2, 3, 4))  # Output: 10\n",
    "\n",
    "The **kwargs syntax allows a function to accept any number of keyword arguments. It collects all the keyword arguments into a dictionary within the function. This is useful when you want to pass a variable number of named arguments without explicitly specifying them.\n",
    "\n",
    "Here's an example function that demonstrates the use of **kwargs:\n",
    "\n",
    "def print_info(**kwargs):\n",
    "    for key, value in kwargs.items():\n",
    "        print(f\"{key}: {value}\")\n",
    "\n",
    "Usage:\n",
    "print_info(name=\"John\", age=25, country=\"USA\")\n",
    "Output:\n",
    "name: John\n",
    "age: 25\n",
    "country: USA\n"
   ]
  },
  {
   "cell_type": "code",
   "execution_count": 1,
   "id": "4b8d7ad9-5829-4126-99e5-c4d685f7f90c",
   "metadata": {},
   "outputs": [],
   "source": [
    "def printFunction(*args): # this is *args function\n",
    "    return args\n",
    "\n",
    "def printDisc(**kwargs): # this is **kwargs function\n",
    "    return kwargs\n"
   ]
  },
  {
   "cell_type": "code",
   "execution_count": 4,
   "id": "a1ccc5f2-6be1-4ff2-8677-667106760b6b",
   "metadata": {},
   "outputs": [
    {
     "name": "stdout",
     "output_type": "stream",
     "text": [
      "(1, 2, 3, 4)\n"
     ]
    },
    {
     "data": {
      "text/plain": [
       "tuple"
      ]
     },
     "execution_count": 4,
     "metadata": {},
     "output_type": "execute_result"
    }
   ],
   "source": [
    "print(printFunction(1,2,3,4)) \n",
    "type(printFunction(1,2,3,4))"
   ]
  },
  {
   "cell_type": "code",
   "execution_count": 5,
   "id": "1674b0a6-df9f-4b3e-bf51-b0707ba67f22",
   "metadata": {},
   "outputs": [
    {
     "name": "stdout",
     "output_type": "stream",
     "text": [
      "{'First_Name': 'Tridip', 'Last_Name': 'Karmakar'}\n"
     ]
    },
    {
     "data": {
      "text/plain": [
       "dict"
      ]
     },
     "execution_count": 5,
     "metadata": {},
     "output_type": "execute_result"
    }
   ],
   "source": [
    "print(printDisc(First_Name='Tridip',Last_Name='Karmakar'))\n",
    "type(printDisc(First_Name='Tridip',Last_Name='Karmakar'))"
   ]
  },
  {
   "cell_type": "markdown",
   "id": "d509a6c0-779c-4443-a96c-079697ae1878",
   "metadata": {},
   "source": [
    "### Q3. What is an iterator in python? Name the method used to initialise the iterator object and the method used for iteration. Use these methods to print the first five elements of the given list [2, 4, 6, 8, 10, 12, 14, 16, 18, 20]."
   ]
  },
  {
   "cell_type": "markdown",
   "id": "4ea3b52a-16e9-4bf9-8e5c-cc7b8046c0ca",
   "metadata": {},
   "source": [
    "In Python, an iterator is an object that implements the iterator protocol, which consists of the __iter__() and __next__() methods. Iterators are used to represent a stream of data or a sequence of elements that can be iterated (looped) over."
   ]
  },
  {
   "cell_type": "markdown",
   "id": "b394ea7c-b145-4f70-985a-a6370593a0da",
   "metadata": {},
   "source": [
    "The method used to initialize the iterator object is iter(). This method is called when an iterator object is created, and should return the iterator object itself.\n",
    "The method used for iteration is next(). This method is called repeatedly to get the next value in the sequence represented by the iterator, and should return the next value.\n",
    "\n"
   ]
  },
  {
   "cell_type": "code",
   "execution_count": 1,
   "id": "ac054730-0daf-4d7e-8423-bcab34607ec2",
   "metadata": {},
   "outputs": [
    {
     "name": "stdout",
     "output_type": "stream",
     "text": [
      "2\n",
      "4\n",
      "6\n",
      "8\n",
      "10\n"
     ]
    }
   ],
   "source": [
    "list1 = [2, 4, 6, 8, 10, 12, 14, 16, 18, 20]\n",
    "list_iterator_obj = iter(list1) # using iter() function we create a iterator object\n",
    "for i in range(5) :\n",
    "    print (next(list_iterator_obj)) # using next() function we get the value from iterator object "
   ]
  },
  {
   "cell_type": "markdown",
   "id": "0eac8b13-24df-406c-b2aa-60ea5ed22317",
   "metadata": {},
   "source": [
    "### Q4. What is a generator function in python? Why yield keyword is used? Give an example of a generator function.\n"
   ]
  },
  {
   "cell_type": "markdown",
   "id": "cf96473f-b5a5-4c3f-b06f-df47b5b99832",
   "metadata": {},
   "source": [
    "A generator function is a special type of function that generates a sequence of values using the yield keyword. Instead of returning a single value like a regular function, a generator function returns an iterator object that can be iterated over to obtain the successive values.\n",
    "\n",
    "The yield keyword is used in a generator function to define points at which the function should pause and yield a value to the caller. When a value is yielded, the function's state is saved, allowing it to be resumed later from where it left off. This unique behavior of generator functions makes them efficient for working with large datasets or infinite sequences, as they generate values on-the-fly, one at a time, without storing the entire sequence in memory.\n",
    "\n",
    "Here's an example of a generator function that generates a sequence of even numbers:\n",
    "\n",
    "def even_numbers(n):\n",
    "    for i in range(n):\n",
    "        if i % 2 == 0:\n",
    "            yield i\n",
    "\n",
    "Using the generator function\n",
    "even_gen = even_numbers(10)\n",
    "\n",
    "Iterating over the generator\n",
    "for num in even_gen:\n",
    "    print(num)\n",
    "In this example, the even_numbers() generator function generates even numbers from 0 to n-1. The yield statement is used to yield each even number as it is generated. When the generator is iterated over using a for loop, it will produce the even numbers one by one, printing them in this case."
   ]
  },
  {
   "cell_type": "markdown",
   "id": "9d7ca436-edd7-4e40-bdca-3af4beceda15",
   "metadata": {},
   "source": [
    "### Q5. Create a generator function for prime numbers less than 1000. Use the next() method to print the first 20 prime numbers.\n"
   ]
  },
  {
   "cell_type": "code",
   "execution_count": 3,
   "id": "6e4428cf-e2ba-4cfb-ba97-1e393fa319ab",
   "metadata": {
    "tags": []
   },
   "outputs": [],
   "source": [
    "def isprime():\n",
    "    i = 2\n",
    "    n = 1000\n",
    "    while (i < n ):\n",
    "        prime = True  \n",
    "        for a in range (2,i): # iterate from 2 to i \n",
    "            if (i % a == 0 ): # if i is divisible by 2 then it's not prime number \n",
    "                prime = False\n",
    "                break\n",
    "        if prime :\n",
    "            yield i\n",
    "        i += 1"
   ]
  },
  {
   "cell_type": "code",
   "execution_count": 4,
   "id": "504797b1-5692-4952-9964-4d6632110e45",
   "metadata": {},
   "outputs": [
    {
     "name": "stdout",
     "output_type": "stream",
     "text": [
      "2\n",
      "3\n",
      "5\n",
      "7\n",
      "11\n",
      "13\n",
      "17\n",
      "19\n",
      "23\n",
      "29\n",
      "31\n",
      "37\n",
      "41\n",
      "43\n",
      "47\n",
      "53\n",
      "59\n",
      "61\n",
      "67\n",
      "71\n"
     ]
    }
   ],
   "source": [
    "l1 = isprime()\n",
    "for i in range (0,20):\n",
    "    print (next(l1))\n"
   ]
  },
  {
   "cell_type": "markdown",
   "id": "0e72faa7-7148-4b68-bbdf-c5e61e310d53",
   "metadata": {},
   "source": [
    "### Q6. Write a python program to print the first 10 Fibonacci numbers using a while loop."
   ]
  },
  {
   "cell_type": "code",
   "execution_count": 83,
   "id": "15191cd7-43e8-4e73-aa62-73295ccd7229",
   "metadata": {},
   "outputs": [
    {
     "name": "stdout",
     "output_type": "stream",
     "text": [
      "1 Fibonacci numbers is :  1\n",
      "2 Fibonacci numbers is :  1\n",
      "3 Fibonacci numbers is :  2\n",
      "4 Fibonacci numbers is :  3\n",
      "5 Fibonacci numbers is :  5\n",
      "6 Fibonacci numbers is :  8\n",
      "7 Fibonacci numbers is :  13\n",
      "8 Fibonacci numbers is :  21\n",
      "9 Fibonacci numbers is :  34\n",
      "10 Fibonacci numbers is :  55\n"
     ]
    }
   ],
   "source": [
    "\n",
    "# fib =0+1 = 1 +2 =3+3 =6+4 = 10 +5 = 15 + 6 = 21 + 7 = 28 + 8 = 36 + 9 = 45 + 10 = 55\n",
    "a,b = 0,1\n",
    "i = 0\n",
    "while i < 10: \n",
    "    c = a + b\n",
    "    a = b\n",
    "    b = c\n",
    "    i = i + 1\n",
    "    print(f\"{i} Fibonacci numbers is : \" , a)\n"
   ]
  },
  {
   "cell_type": "markdown",
   "id": "f52816c3-8c2c-4983-bbe5-75bf8974cb48",
   "metadata": {},
   "source": [
    "### Q7. Write a List Comprehension to iterate through the given string: ‘pwskills’.\n",
    "### Expected output: ['p', 'w', 's', 'k', 'i', 'l', 'l', 's']"
   ]
  },
  {
   "cell_type": "code",
   "execution_count": 3,
   "id": "f472279a-0dae-4c4f-91d7-0c43f6715123",
   "metadata": {},
   "outputs": [],
   "source": [
    "String = 'pwskills'\n",
    "L1 = []"
   ]
  },
  {
   "cell_type": "code",
   "execution_count": 4,
   "id": "7ee2b6b0-e44a-40b9-9159-145c1b0c8f0d",
   "metadata": {},
   "outputs": [
    {
     "name": "stdout",
     "output_type": "stream",
     "text": [
      "['p', 'w', 's', 'k', 'i', 'l', 'l', 's']\n"
     ]
    }
   ],
   "source": [
    "[L1.append(i) for i in String ] # iterate in string and append to empty list\n",
    "print(L1)"
   ]
  },
  {
   "cell_type": "markdown",
   "id": "97880ef6-39a9-467e-8df8-6432be35a81c",
   "metadata": {},
   "source": [
    "### Q8. Write a python program to check whether a given number is Palindrome or not using a while loop."
   ]
  },
  {
   "cell_type": "code",
   "execution_count": 5,
   "id": "d94358d6-5de8-4104-82e9-60e01dc6a232",
   "metadata": {},
   "outputs": [
    {
     "name": "stdin",
     "output_type": "stream",
     "text": [
      "Please enter Your Number :  121\n"
     ]
    },
    {
     "name": "stdout",
     "output_type": "stream",
     "text": [
      "Given number is Palindrome\n"
     ]
    }
   ],
   "source": [
    "Input = int(input(\"Please enter Your Number : \"))\n",
    "number = Input \n",
    "P = 0\n",
    "\n",
    "while number > 0 :\n",
    "    P = P * 10\n",
    "    P = P + (number % 10)\n",
    "    number = int(number /10)\n",
    "if Input == P:\n",
    "    print (\"Given number is Palindrome\")\n",
    "else :\n",
    "    print (\"Given number is Not Palindrome\")"
   ]
  },
  {
   "cell_type": "markdown",
   "id": "6514cc25-4ca1-4af2-8637-87504349b46f",
   "metadata": {},
   "source": [
    "### Q9. Write a code to print odd numbers from 1 to 100 using list comprehension."
   ]
  },
  {
   "cell_type": "code",
   "execution_count": null,
   "id": "48c4c4c1-0907-486e-87c0-916c825b5b9f",
   "metadata": {},
   "outputs": [
    {
     "name": "stdout",
     "output_type": "stream",
     "text": [
      "[1, 3, 5, 7, 9, 11, 13, 15, 17, 19, 21, 23, 25, 27, 29, 31, 33, 35, 37, 39, 41, 43, 45, 47, 49, 51, 53, 55, 57, 59, 61, 63, 65, 67, 69, 71, 73, 75, 77, 79, 81, 83, 85, 87, 89, 91, 93, 95, 97, 99]\n"
     ]
    }
   ],
   "source": [
    "list1 = [i for i in range(1,100)]\n",
    "list2 = [i for i in list1 if i % 2 != 0 ]\n",
    "print (list2)"
   ]
  }
 ],
 "metadata": {
  "kernelspec": {
   "display_name": "Python 3 (ipykernel)",
   "language": "python",
   "name": "python3"
  },
  "language_info": {
   "codemirror_mode": {
    "name": "ipython",
    "version": 3
   },
   "file_extension": ".py",
   "mimetype": "text/x-python",
   "name": "python",
   "nbconvert_exporter": "python",
   "pygments_lexer": "ipython3",
   "version": "3.10.6"
  }
 },
 "nbformat": 4,
 "nbformat_minor": 5
}
