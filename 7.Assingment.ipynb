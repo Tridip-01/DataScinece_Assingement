{
 "cells": [
  {
   "cell_type": "markdown",
   "id": "9c74116c-a696-4bb4-8a64-d3973af457a4",
   "metadata": {},
   "source": [
    "### Q1. What is Abstraction in OOps? Explain with an example."
   ]
  },
  {
   "cell_type": "markdown",
   "id": "52aa2cd2-4b08-40d8-843f-9a82b543033d",
   "metadata": {},
   "source": [
    "#### In OOPs abstraction is a fundamental concept that allows you to create simplified models of complex systems by focusing on the essential features while hiding unnecessary details. It involves creating abstract classes or interfaces that define the common behavior and characteristics of a group of related objects."
   ]
  },
  {
   "cell_type": "code",
   "execution_count": 52,
   "id": "7248dadb-58c7-4e40-9dbd-b4242cf9885e",
   "metadata": {},
   "outputs": [],
   "source": [
    "import abc\n",
    "class laptops:\n",
    "    \n",
    "    @abc.abstractclassmethod\n",
    "    def __init__(self, laptop_brand, laptop_mfg_year) :\n",
    "        self.laptop_brand = laptop_brand\n",
    "        self.laptop_mfg_year = laptop_mfg_year\n",
    "        \n",
    "class laptop_price(laptops) :\n",
    "    \n",
    "    def __init__(self, price,laptop_brand,laptop_mfg_year) :\n",
    "        super().__init__(laptop_brand,laptop_mfg_year)\n",
    "        self.price = price\n",
    "        print( f\"The name of my Laptop is {self.laptop_brand}, and it's manufacturing year is {self.laptop_mfg_year},and the price is {self.price}\")\n",
    "        \n",
    "    "
   ]
  },
  {
   "cell_type": "code",
   "execution_count": 53,
   "id": "d0b868e9-fec0-4105-abfa-f7766651a9fc",
   "metadata": {},
   "outputs": [
    {
     "name": "stdout",
     "output_type": "stream",
     "text": [
      "The name of my Laptop is HP, and it's manufacturing year is 2015,and the price is 25000\n"
     ]
    }
   ],
   "source": [
    "price = laptop_price(25000,\"HP\",2015)"
   ]
  },
  {
   "cell_type": "markdown",
   "id": "acb9260a-2094-46ac-9ee8-6e2b610e8ded",
   "metadata": {},
   "source": [
    "#### In this example laptops class is defined as an abstract base class by inheriting from 'ABC'. Its method is decorated with @abc.abstractmethod, indicating that any concrete subclass of laptops must provide its own implementation for this method. The laptop_price classes are concrete subclasses of laptops that inherit the common attributes and methods. Subclass provide its own implementation based on the abstruct class."
   ]
  },
  {
   "cell_type": "markdown",
   "id": "f9041af3-2918-46ca-9cd7-ecd33d98409b",
   "metadata": {},
   "source": [
    "###  Q2. Differentiate between Abstraction and Encapsulation. Explain with an example."
   ]
  },
  {
   "cell_type": "markdown",
   "id": "ce5a0c9f-3fcf-4ed1-abe6-790bfb98de61",
   "metadata": {},
   "source": [
    "#### Abstraction and encapsulation are two important concepts in OOPs, but they serve different purposes. Let's differentiate between them:\n",
    "#### Abstraction:\n",
    "- Abstraction focuses on representing the essential features of a system while hiding unnecessary details.\n",
    "- It allows you to create simplified models of complex systems.\n",
    "- Abstraction provides a high-level view or perspective of the system, emphasizing the important aspects.\n",
    "- It involves creating abstract classes or interfaces that define common behavior and characteristics.\n",
    "- Abstraction promotes code reusability, modular design, and easier understanding of the system.\n",
    "\n",
    "#### Encapsulation:\n",
    "- Encapsulation focuses on bundling data and methods together within a class, hiding the internal details and implementation from outside access.\n",
    "- It provides a way to protect data from unauthorized access and modification.\n",
    "- Encapsulation enforces data hiding and access restrictions, making the class responsible for managing its own data and behavior.\n",
    "- It encapsulates related data and methods into a single unit, allowing for better organization and modular design.\n",
    "- Encapsulation helps in maintaining data integrity and providing a clear interface for interacting with the class.\n"
   ]
  },
  {
   "cell_type": "code",
   "execution_count": 50,
   "id": "dd1b5310-9ce5-4c9b-965c-1288255ea4cd",
   "metadata": {},
   "outputs": [
    {
     "name": "stdout",
     "output_type": "stream",
     "text": [
      "1. This is the example of abstruction \n",
      "The student name is Tridip, the id is 123 read in Data Science class in Data Science Master 2.0 course\n",
      "\n",
      "2. This is the example of Encapsulation \n"
     ]
    },
    {
     "data": {
      "text/plain": [
       "'The student name is Tridip, the id is 123 read in Data Science class'"
      ]
     },
     "execution_count": 50,
     "metadata": {},
     "output_type": "execute_result"
    }
   ],
   "source": [
    "# example of Abstraction\n",
    "\n",
    "import abc\n",
    "class student1:\n",
    "    \n",
    "    @abc.abstractclassmethod\n",
    "    def __init__(self, stu_name, stu_class, stu_id) :\n",
    "        self.stu_name = stu_name\n",
    "        self.stu_class = stu_class\n",
    "        self.stu_id = stu_id\n",
    "        \n",
    "class student_details(student1) :\n",
    "    \n",
    "    def __init__(self, course_details, stu_name,stu_class,stu_id) :\n",
    "        super().__init__(stu_name,stu_class,stu_id)\n",
    "        self.course_details = course_details\n",
    "        print (\"1. This is the example of abstruction \")\n",
    "    \n",
    "        print( f\"The student name is {self.stu_name}, the id is {self.stu_id} read in {self.stu_class} class in {self.course_details} course\" )\n",
    "        print()\n",
    "        \n",
    "\n",
    "student_details = student_details(\"Data Science Master 2.0\",\"Tridip\", \"Data Science\", 123)\n",
    "\n",
    "\n",
    "# Example of Encapsulation\n",
    "\n",
    "class student2:\n",
    "    \n",
    "    def __init__(self, stu_name, stu_class, stu_id) :\n",
    "        self.__stu_name = stu_name     # using '__' we can protect the instances within the class\n",
    "        self.__stu_class = stu_class\n",
    "        self.__stu_id = stu_id\n",
    "        \n",
    "    def get_student_details(self) : # using get methods to get the detials of student \n",
    "            print (\"2. This is the example of Encapsulation \")\n",
    "            return f\"The student name is {self.__stu_name}, the id is {self.__stu_id} read in {self.__stu_class} class\" \n",
    "        \n",
    "student2 = student2(\"Tridip\", \"Data Science\", 123)\n",
    "\n",
    "student2.get_student_details()\n"
   ]
  },
  {
   "cell_type": "markdown",
   "id": "28e3f7b9-5f84-4361-b9c9-10e2d7d1dec8",
   "metadata": {},
   "source": [
    "### Q3. What is abc module in python? Why is it used?"
   ]
  },
  {
   "cell_type": "markdown",
   "id": "05b9166e-a288-4a3b-b2dd-b97a27de28e0",
   "metadata": {},
   "source": [
    "#### The `@abc` notation in Python is a decorator that is used in conjunction with the abstract base classes provided by the `abc` module. It allows you to define abstract methods and abstract properties in a class, indicating that the class is intended to be used as an abstract base class.\n",
    "\n",
    "#### The `@abc` decorator is used to create abstract base classes. Here's an example to illustrate its usage:"
   ]
  },
  {
   "cell_type": "code",
   "execution_count": null,
   "id": "5bd0f9ae-5322-45b4-879f-b6564472eecc",
   "metadata": {},
   "outputs": [],
   "source": [
    "import abc\n",
    "\n",
    "class AbstractClassExample:\n",
    "\n",
    "    @abc.abstractmethod\n",
    "    def abstract_method(self):\n",
    "        pass\n",
    "\n",
    "    @abc.abstractmethod\n",
    "    def another_abstract_method(self):\n",
    "        pass\n",
    "\n",
    "class ConcreteClassExample(AbstractClassExample):\n",
    "\n",
    "    def abstract_method(self):\n",
    "        print(\"Abstract method implementation in ConcreteClassExample\")\n",
    "\n",
    "    def another_abstract_method(self):\n",
    "        print(\"Another abstract method implementation in ConcreteClassExample\")\n",
    "\n"
   ]
  },
  {
   "cell_type": "markdown",
   "id": "95ce0127-679b-4e4a-908b-d23bf9b97a50",
   "metadata": {},
   "source": [
    "#### In this example, `AbstractClassExample` is an abstract base class that defines two abstract methods: `abstract_method()` and `another_abstract_method()`. These methods are decorated with `@abc.abstractmethod` to indicate that they must be overridden by any concrete subclass.\n"
   ]
  },
  {
   "cell_type": "markdown",
   "id": "2b9f9b3f-42ac-437b-8f37-e2e95d6d4a7e",
   "metadata": {},
   "source": [
    "### Q4. How can we achieve data abstraction?"
   ]
  },
  {
   "cell_type": "markdown",
   "id": "9a2fd8ec-c8ba-4da3-912d-d25f9514112d",
   "metadata": {},
   "source": [
    "#### In Python, we can achieve data abstraction using the following techniques:\n",
    "\n",
    "#### 1. Classes and Objects: In Python we can define classes to represent entities in code. A class encapsulates data attributes and methods that operate on those attributes. By creating objects of the class, we can access and manipulate the data.\n",
    "\n",
    "#### 2. Access Modifiers: In Python, we can use access modifiers to control the visibility of attributes within a class. By convention, attributes that should not be accessed directly from outside the class are prefixed with an underscore (_). The underscore convention serves as a signal to other programmers that the attribute is intended to be private or internal to the class.\n",
    "\n",
    "#### 3. Getters and Setters: Python doesn't have built-in support for traditional getters and setters like some other languages, but we can use the `@property` decorator and setter methods to achieve a similar effect. The `@property` decorator allows you to define a method as a getter, which can be used to retrieve the value of an attribute. Setter methods can be defined using the `@attribute_name.setter` decorator, which allows you to perform additional logic or validations when setting the value of an attribute.\n",
    "\n",
    "#### 4. Abstract Base Classes (ABCs): The `abc` module in Python provides the infrastructure for defining abstract base classes. By inheriting from `ABC` and using the `@abstractmethod` decorator, we can define abstract methods that must be implemented by subclasses. Abstract base classes can act as interfaces, defining a contract for classes to follow, while leaving the specific implementation details to the subclasses.\n"
   ]
  },
  {
   "cell_type": "markdown",
   "id": "8b52a791-e246-4279-b6f2-b68f42ad97d0",
   "metadata": {},
   "source": [
    "### Q5. Can we create an instance of an abstract class? Explain your answer."
   ]
  },
  {
   "cell_type": "markdown",
   "id": "30b6839c-6944-43d9-92b6-5421d7ae8c03",
   "metadata": {},
   "source": [
    "#### No, we cannot create an instance of an abstract class in Python. \n",
    "\n",
    "#### An abstract class is a class that is meant to be subclassed and serves as a blueprint for other classes. It contains one or more abstract methods that do not have any implementation. Abstract methods are defined using the `@abstractmethod` decorator and must be overridden in concrete subclasses.\n",
    "\n",
    "#### The purpose of an abstract class is to provide a common interface and shared behavior for its subclasses. It represents a concept or a generalization, but it cannot be instantiated directly because it lacks complete implementation details.\n",
    "\n",
    "#### Attempting to create an instance of an abstract class in Python will result in a `TypeError` with a message stating that the abstract class cannot be instantiated. Here's an example to illustrate the point:\n",
    "\n"
   ]
  },
  {
   "cell_type": "code",
   "execution_count": 48,
   "id": "0d9dc691-2ac0-4c21-a232-6f9dd26134ca",
   "metadata": {},
   "outputs": [
    {
     "ename": "TypeError",
     "evalue": "Can't instantiate abstract class AbstractClass with abstract method abstract_method",
     "output_type": "error",
     "traceback": [
      "\u001b[0;31m---------------------------------------------------------------------------\u001b[0m",
      "\u001b[0;31mTypeError\u001b[0m                                 Traceback (most recent call last)",
      "Cell \u001b[0;32mIn [48], line 14\u001b[0m\n\u001b[1;32m     11\u001b[0m         \u001b[38;5;28mprint\u001b[39m(\u001b[38;5;124m\"\u001b[39m\u001b[38;5;124mAbstract method implementation in ConcreteClass\u001b[39m\u001b[38;5;124m\"\u001b[39m)\n\u001b[1;32m     13\u001b[0m \u001b[38;5;66;03m# Trying to create an instance of the abstract class\u001b[39;00m\n\u001b[0;32m---> 14\u001b[0m abstract_instance \u001b[38;5;241m=\u001b[39m \u001b[43mAbstractClass\u001b[49m\u001b[43m(\u001b[49m\u001b[43m)\u001b[49m\n",
      "\u001b[0;31mTypeError\u001b[0m: Can't instantiate abstract class AbstractClass with abstract method abstract_method"
     ]
    }
   ],
   "source": [
    "from abc import ABC, abstractmethod\n",
    "\n",
    "class AbstractClass(ABC):\n",
    "\n",
    "    @abstractmethod\n",
    "    def abstract_method(self):\n",
    "        pass\n",
    "\n",
    "class ConcreteClass(AbstractClass):\n",
    "    def abstract_method(self):\n",
    "        print(\"Abstract method implementation in ConcreteClass\")\n",
    "\n",
    "# Trying to create an instance of the abstract class\n",
    "abstract_instance = AbstractClass()  # Raises TypeError\n"
   ]
  },
  {
   "cell_type": "markdown",
   "id": "caffbe3d-1323-4c6b-b367-b5df8b00c511",
   "metadata": {},
   "source": [
    "In the above example, `AbstractClass` is an abstract class with one abstract method, `abstract_method()`. The `ConcreteClass` is a concrete subclass that provides an implementation for the abstract method.\n",
    "\n",
    "When you attempt to create an instance of `AbstractClass`, as shown in the last line, it will raise a `TypeError` because abstract classes cannot be instantiated. Instead, you should create instances of concrete subclasses that inherit from the abstract class and provide implementations for all the abstract methods."
   ]
  }
 ],
 "metadata": {
  "kernelspec": {
   "display_name": "Python 3 (ipykernel)",
   "language": "python",
   "name": "python3"
  },
  "language_info": {
   "codemirror_mode": {
    "name": "ipython",
    "version": 3
   },
   "file_extension": ".py",
   "mimetype": "text/x-python",
   "name": "python",
   "nbconvert_exporter": "python",
   "pygments_lexer": "ipython3",
   "version": "3.10.6"
  }
 },
 "nbformat": 4,
 "nbformat_minor": 5
}
