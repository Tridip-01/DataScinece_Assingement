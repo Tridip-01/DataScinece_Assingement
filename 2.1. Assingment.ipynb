{
 "cells": [
  {
   "cell_type": "markdown",
   "id": "a6c1d9d1-bbc3-479f-a283-3c54465b03f6",
   "metadata": {},
   "source": [
    "### Q1. How do you comment code in Python? What are the different types of comments?"
   ]
  },
  {
   "cell_type": "markdown",
   "id": "8f06bd16-2f49-4ffd-89e7-ccab051c71b3",
   "metadata": {},
   "source": [
    "We can add comments to our code to provide explanations or clarify certain parts of the code. Comments are not executed by the interpreter and are meant for readers to understand the code better. \n",
    "\n",
    "Python supports two types of comments:\n",
    "\n",
    "One is singleline comments- To add a singleline comment, we can use the hash symbol (#) followed by the comment text. Everything after the hash symbol on the same line is considered a comment and is ignored by the interpreter. Here's an example:\n",
    "\n",
    "#This is how we write singleline comment in python. \n",
    "\n",
    "Second is multiline comments: for the  multiline comments Python does not have a specific syntax or symbol. However, we can use triple quotes (''' or \"\"\") to create multiline strings, which are often used as comments. Python ignores string literals that are not assigned to a variable or used as docstrings, multi-line strings can be used as a form of multiline comments. Here's an example:\n",
    "\n",
    "\"\"\"\n",
    "This is how we write multiline\n",
    "comment in python.\n",
    "\n",
    "\"\"\"\n",
    "Although multiline strings are not technically comments, they serve a similar purpose and are commonly used for long explanations or documentation."
   ]
  },
  {
   "cell_type": "markdown",
   "id": "1cadc191-a702-4401-a58a-bbc77260d7ab",
   "metadata": {},
   "source": [
    "### Q2. What are variables in Python? How do you declare and assign values to variables?"
   ]
  },
  {
   "cell_type": "markdown",
   "id": "98f78496-0253-4d72-9cdc-4ee03fb9d976",
   "metadata": {},
   "source": [
    "In Python, variables are used to store and manipulate data. A variable is like a container that holds a value, and the value can be of various types, such as numbers, strings, lists, etc.\n",
    "\n",
    "To declare a variable in Python, we simply choose a name for the variable and use the assignment operator (=) to assign a value to it. Here's an example:\n",
    "\n",
    "x = 29\n",
    "\n",
    "In the above example, we declare a variable named x and assign it the value of 29. Now, x holds the value 29, and we can use x in our code to refer to that value.\n",
    "\n",
    "Python is a dynamically typed language, which means we don't need to explicitly specify the type of a variable. The type of the variable is inferred based on the value assigned to it. For example:\n",
    "\n",
    "name = \"Tridip Karmakar\"  # Here, name is a string variable\n",
    "age = 26      # Here, age is an integer variable\n",
    "height = 5.10     # Here, height is a floating-point variable\n",
    "\n",
    "we can also assign new values to variables later in our code:\n",
    "\n",
    "x = 29     # Initial assignment\n",
    "x = 39     # Reassignment\n",
    "\n",
    "In the above example, x is first assigned the value 29, and then it is reassigned the value 39. After the reassignment, the value of x becomes 39.\n",
    "\n",
    "Python allows us to assign values to multiple variables in a single line using multiple assignments or unpacking. Here's an example:\n",
    "\n",
    "x = y = z = 0  # Assigning the value 0 to all three variables\n",
    "a, b, c = 1, 2, 3  # Unpacking: Assigning different values to multiple variables\n",
    "\n",
    "In the first line, the value 0 is assigned to variables x, y, and z. In the second line, different values 1, 2, and 3 are assigned to variables a, b, and c, respectively.\n"
   ]
  },
  {
   "cell_type": "markdown",
   "id": "18775d69-c016-415b-807e-e9e4bc982e96",
   "metadata": {},
   "source": [
    "### Q3. How do you convert one data type to another in Python?"
   ]
  },
  {
   "cell_type": "markdown",
   "id": "37368f95-43df-490a-8075-b1f834ac9763",
   "metadata": {},
   "source": [
    "We can convert one data type to another using type conversion functions or constructors specific to each data type. Here are some commonly used methods for type conversion:\n",
    "\n",
    "int(): This function converts a value to an integer data type. For example:\n",
    "\n",
    "\n",
    "a = 56.89\n",
    "b = int(b)  # b will be 56\n",
    "\n",
    "float(): This function converts a value to a floating-point data type. For example:\n",
    "\n",
    "a = 15\n",
    "b = float(a)  # b will be 15.0\n",
    "\n",
    "str(): This function converts a value to a string data type. For example:\n",
    "\n",
    "a = 56\n",
    "b = str(a)  # b will be \"56\"\n",
    "\n",
    "list(): This function converts an iterable or sequence to a list. For example:\n",
    "\n",
    "a = (19, 78, 90)\n",
    "b = list(a)  # b will be [19, 78, 90]\n",
    "\n",
    "tuple(): This function converts an iterable or sequence to a tuple. For example:\n",
    "\n",
    "a = [78, 88, 99]\n",
    "b = tuple(a)  # a will be (78, 88, 99)\n",
    "\n",
    "dict(): This function converts a sequence of key-value pairs to a dictionary. For example:\n",
    "\n",
    "a = [(\"b\", 19), (\"c\", 100)]\n",
    "b = dict(a)  # b will be {\"b\": 19, \"c\": 100}\n",
    "\n",
    "bool(): This function converts a value to a boolean data type. It returns False for numeric zero values or empty containers, and True for non-zero numbers or non-empty containers. For example:\n",
    "\n",
    "a = 1\n",
    "b = bool(a)  # a will be True"
   ]
  },
  {
   "cell_type": "markdown",
   "id": "21b26a6b-d2f6-4d4e-8e2a-f313463599ac",
   "metadata": {},
   "source": [
    "### Q4. How do you write and execute a Python script from the command line?"
   ]
  },
  {
   "cell_type": "markdown",
   "id": "2795df27-c554-4231-b770-5444406e9d64",
   "metadata": {},
   "source": [
    "To write and execute a Python script from the command line, we can follow these steps:\n",
    "\n",
    "Open a text editor and create a new file. For example, we can use a text editor like Notepad or Visual Studio Code.\n",
    "\n",
    "Write your Python code in the text editor and save the file with a .py extension. For example, we can save the file as my_python_script.py.\n",
    "\n",
    "Open the command prompt or terminal on our computer. The steps to open the command prompt vary depending on the operating system you're using:\n",
    "\n",
    "On Windows: Press Win + R, type cmd, and press Enter.\n",
    "In the command prompt or terminal, navigate to the directory where we saved our Python script. Use the cd command (change directory) to move to the appropriate location. For example:\n",
    "\n",
    "cd D:\\Data Science Classes Material\\Python Classes\n",
    "\n",
    "Once we're in the correct directory, we can run the Python script using the python command followed by the name of our script file. For example:\n",
    "\n",
    "my_python_script.py\n",
    "\n",
    "Press Enter to execute the command. The Python interpreter will run our script, and the output will be displayed in the command prompt or terminal."
   ]
  },
  {
   "cell_type": "markdown",
   "id": "ac05982c-8c20-4f37-bb90-f572a8054948",
   "metadata": {},
   "source": [
    "### Q5. Given a list my_list = [1, 2, 3, 4, 5], write the code to slice the list and obtain the sub-list [2, 3]."
   ]
  },
  {
   "cell_type": "code",
   "execution_count": 1,
   "id": "a3d32b3a-473a-4c01-a52e-30343ac5dc8a",
   "metadata": {},
   "outputs": [
    {
     "data": {
      "text/plain": [
       "[2, 3]"
      ]
     },
     "execution_count": 1,
     "metadata": {},
     "output_type": "execute_result"
    }
   ],
   "source": [
    "my_list = [1, 2, 3, 4, 5]  \n",
    "sublist = my_list[1:3]     #Here we obtain the sub-list\n",
    "sublist"
   ]
  },
  {
   "cell_type": "markdown",
   "id": "81de3574-1486-448e-ad20-ad343dcaca7f",
   "metadata": {},
   "source": [
    "### Q6. What is a complex number in mathematics, and how is it represented in Python?"
   ]
  },
  {
   "cell_type": "code",
   "execution_count": 1,
   "id": "86474353-5587-4859-93ae-fd95922bd821",
   "metadata": {},
   "outputs": [
    {
     "data": {
      "text/plain": [
       "complex"
      ]
     },
     "execution_count": 1,
     "metadata": {},
     "output_type": "execute_result"
    }
   ],
   "source": [
    "complesNumber = 2 + 3j # using \"j\" keyword we can create a complex number in python \n",
    "type(complesNumber)"
   ]
  },
  {
   "cell_type": "markdown",
   "id": "f6b216b7-f2aa-4c16-882e-2c16c2989434",
   "metadata": {},
   "source": [
    "### Q7. What is the correct way to declare a variable named age and assign the value 25 to it?"
   ]
  },
  {
   "cell_type": "code",
   "execution_count": 10,
   "id": "e5a10e7d-35a3-4863-89df-c008404dd022",
   "metadata": {},
   "outputs": [],
   "source": [
    "age = 25 # Variable name is age and we assign the value is 25"
   ]
  },
  {
   "cell_type": "markdown",
   "id": "1e8cf073-a928-45a9-a762-cac4e112a54e",
   "metadata": {},
   "source": [
    "### Q8. Declare a variable named price and assign the value 9.99 to it. What data type does this variable\n",
    "### belong to?"
   ]
  },
  {
   "cell_type": "code",
   "execution_count": 12,
   "id": "eb8f50c0-2ba3-4730-b40a-c42747a4a737",
   "metadata": {},
   "outputs": [
    {
     "data": {
      "text/plain": [
       "float"
      ]
     },
     "execution_count": 12,
     "metadata": {},
     "output_type": "execute_result"
    }
   ],
   "source": [
    "price = 9.99 # Here i assign value to variable \n",
    "type(price)  # type function shows that the type of variable"
   ]
  },
  {
   "cell_type": "markdown",
   "id": "88ab7ef5-8e7b-428c-aebc-222891e955e3",
   "metadata": {},
   "source": [
    "### Q9. Create a variable named name and assign your full name to it as a string. How would you print the value of this variable?"
   ]
  },
  {
   "cell_type": "code",
   "execution_count": 13,
   "id": "a95b659a-4319-47d4-928d-aa33bb2dcb79",
   "metadata": {},
   "outputs": [
    {
     "name": "stdout",
     "output_type": "stream",
     "text": [
      "Tridip Karmakar\n"
     ]
    }
   ],
   "source": [
    "name = \"Tridip Karmakar\" # In variable i assign my name as value \n",
    "print(name)    # I print the value of the name variable "
   ]
  },
  {
   "cell_type": "markdown",
   "id": "e731b787-ebf3-4d07-8eb1-8e034dcecc6c",
   "metadata": {},
   "source": [
    "### Q10. Given the string \"Hello, World!\", extract the substring \"World\"."
   ]
  },
  {
   "cell_type": "code",
   "execution_count": 18,
   "id": "cdf928c3-d7cb-4df6-b83e-49e2d30f4839",
   "metadata": {},
   "outputs": [
    {
     "data": {
      "text/plain": [
       "'World'"
      ]
     },
     "execution_count": 18,
     "metadata": {},
     "output_type": "execute_result"
    }
   ],
   "source": [
    "newString = \"Hello, World\"\n",
    "newString[-5:]  # Using backward slicing i create a substring"
   ]
  },
  {
   "cell_type": "markdown",
   "id": "20cd8f8e-b3b9-4394-8483-6ab0c0651f20",
   "metadata": {},
   "source": [
    "### Q11. Create a variable named \"is_student\" and assign it a boolean value indicating whether you are currently a student or not."
   ]
  },
  {
   "cell_type": "code",
   "execution_count": 2,
   "id": "39ab3c6d-dce4-49f1-85b3-d7de0a206500",
   "metadata": {},
   "outputs": [
    {
     "data": {
      "text/plain": [
       "bool"
      ]
     },
     "execution_count": 2,
     "metadata": {},
     "output_type": "execute_result"
    }
   ],
   "source": [
    "is_student = True # Ture is showing that i'm currently a student of PW.\n",
    "type(is_student)"
   ]
  }
 ],
 "metadata": {
  "kernelspec": {
   "display_name": "Python 3 (ipykernel)",
   "language": "python",
   "name": "python3"
  },
  "language_info": {
   "codemirror_mode": {
    "name": "ipython",
    "version": 3
   },
   "file_extension": ".py",
   "mimetype": "text/x-python",
   "name": "python",
   "nbconvert_exporter": "python",
   "pygments_lexer": "ipython3",
   "version": "3.10.6"
  }
 },
 "nbformat": 4,
 "nbformat_minor": 5
}
