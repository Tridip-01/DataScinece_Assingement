{
 "cells": [
  {
   "cell_type": "markdown",
   "id": "775bff8c-d01d-4f24-8d89-e289ff59c905",
   "metadata": {},
   "source": [
    "#### Q1. what is on Exception in python? Write the difference between Exceptions and Syntax errors. "
   ]
  },
  {
   "cell_type": "markdown",
   "id": "3f52d46b-d116-4056-b788-b15a88e25e01",
   "metadata": {},
   "source": [
    "#### In Python, an \"exception\" is an event that occurs during the execution of a program, which disrupts the normal flow of instructions. It indicates that something unexpected or erroneous has happened. When an exception occurs, it is said to be \"raised\" or thrown, creating an exception object that contains information about the exception type and additional details.\n",
    "#### Exceptions are different from syntax errors. Here are the main differences,\n",
    "\n",
    "#### 1. Exceptions:\n",
    "   - Exceptions occur during the execution of a program.\n",
    "   - They represent unexpected or exceptional situations, such as division by zero or accessing an invalid index in a list.\n",
    "   - Exceptions can be raised explicitly using the `raise` statement.\n",
    "   - Exceptions disrupt the normal flow of the program and can lead to the termination of the program if not handled.\n",
    "   - Exception handling allows programmers to catch and handle exceptions using `try-except` blocks, providing alternative actions or error messages.\n",
    "   - Examples of exceptions in Python include `ZeroDivisionError`, `TypeError`, and `FileNotFoundError`.\n",
    "\n",
    "#### 2. Syntax Errors:\n",
    "   - Syntax errors occur before the program is executed, during the parsing or compiling phase.\n",
    "   - When the code violates the syntax rules or grammar of the Python language then Systax Errors hapen.\n",
    "   - Syntax errors prevent the program from running at all because Python cannot interpret the code correctly.\n",
    "   - Common causes of syntax errors include misspelled keywords, missing colons, or incorrect indentation.\n",
    "   - To fix syntax errors, the programmer needs to identify and correct the specific syntax rule violations.\n",
    "   - Examples of syntax errors include `SyntaxError: invalid syntax` or `IndentationError: unexpected indent`."
   ]
  },
  {
   "cell_type": "markdown",
   "id": "b9575491-5ecd-49cd-8bcb-f5d62f82f211",
   "metadata": {},
   "source": [
    "#### Q2. What happens when an exception is not handled? Explain with on example."
   ]
  },
  {
   "cell_type": "markdown",
   "id": "2d81045c-ba55-43e7-be50-61bbcc5eeb77",
   "metadata": {},
   "source": [
    "#### When an exception is not handled, it leads to an abnormal termination of the program or application. This means that the program will stop executing and may display an error message or crash. Unhandled exceptions can cause the program to become unstable and result in loss of data or unpredictable behavior. for example :\n"
   ]
  },
  {
   "cell_type": "code",
   "execution_count": 11,
   "id": "f0c7ec86-7bc1-44d4-a58f-a0fc5b7a1084",
   "metadata": {},
   "outputs": [
    {
     "ename": "ZeroDivisionError",
     "evalue": "division by zero",
     "output_type": "error",
     "traceback": [
      "\u001b[0;31m---------------------------------------------------------------------------\u001b[0m",
      "\u001b[0;31mZeroDivisionError\u001b[0m                         Traceback (most recent call last)",
      "Cell \u001b[0;32mIn [11], line 5\u001b[0m\n\u001b[1;32m      3\u001b[0m     result \u001b[38;5;241m=\u001b[39m a \u001b[38;5;241m/\u001b[39m b\n\u001b[1;32m      4\u001b[0m     \u001b[38;5;28;01mreturn\u001b[39;00m result\n\u001b[0;32m----> 5\u001b[0m x \u001b[38;5;241m=\u001b[39m \u001b[43mcalculate_devide\u001b[49m\u001b[43m(\u001b[49m\u001b[38;5;241;43m10\u001b[39;49m\u001b[43m,\u001b[49m\u001b[43m \u001b[49m\u001b[38;5;241;43m0\u001b[39;49m\u001b[43m)\u001b[49m\n\u001b[1;32m      6\u001b[0m \u001b[38;5;28mprint\u001b[39m(\u001b[38;5;124m\"\u001b[39m\u001b[38;5;124mResult:\u001b[39m\u001b[38;5;124m\"\u001b[39m, x)\n",
      "Cell \u001b[0;32mIn [11], line 3\u001b[0m, in \u001b[0;36mcalculate_devide\u001b[0;34m(a, b)\u001b[0m\n\u001b[1;32m      2\u001b[0m \u001b[38;5;28;01mdef\u001b[39;00m \u001b[38;5;21mcalculate_devide\u001b[39m(a, b):\n\u001b[0;32m----> 3\u001b[0m     result \u001b[38;5;241m=\u001b[39m \u001b[43ma\u001b[49m\u001b[43m \u001b[49m\u001b[38;5;241;43m/\u001b[39;49m\u001b[43m \u001b[49m\u001b[43mb\u001b[49m\n\u001b[1;32m      4\u001b[0m     \u001b[38;5;28;01mreturn\u001b[39;00m result\n",
      "\u001b[0;31mZeroDivisionError\u001b[0m: division by zero"
     ]
    }
   ],
   "source": [
    "## without handling exceptions and logging - \n",
    "def calculate_devide(a, b):\n",
    "    result = a / b\n",
    "    return result\n",
    "x = calculate_devide(10, 0)\n",
    "print(\"Result:\", x) # output : this code produce error 'ZeroDivisionError: division by zero'\n"
   ]
  },
  {
   "cell_type": "markdown",
   "id": "1378b4dc-c06b-408e-8975-48ea90684e9a",
   "metadata": {},
   "source": [
    "#### when we run the code, an unhandled exception occurs because the `ZeroDivisionError` is not caught by any `try-except` block. Instead of gracefully handling the error, the program terminates abruptly and displays an error message"
   ]
  },
  {
   "cell_type": "markdown",
   "id": "bc65b2f8-9837-47e6-bd29-2c50a48edfac",
   "metadata": {},
   "source": [
    "#### Now, To handle this error, we use a `try-except` block. The code inside the `try` block executes normally until an exception is encountered. In this case, the `ZeroDivisionError` exception is raised."
   ]
  },
  {
   "cell_type": "code",
   "execution_count": 9,
   "id": "29b3b492-f372-41f4-825d-8cc661a59a2a",
   "metadata": {},
   "outputs": [],
   "source": [
    "## handling exceptions - \n",
    "import logging \n",
    "logging.basicConfig(filename= \"error.log\", level= logging.INFO)\n",
    "def calculate_devide(a, b):\n",
    "    result = None\n",
    "    try :\n",
    "        result = a / b\n",
    "    except ZeroDivisionError as e :\n",
    "        logging.error(\"Please enter Valid number \",exc_info=False)\n",
    "    return result\n",
    "x = calculate_devide(10, 0)\n"
   ]
  },
  {
   "cell_type": "markdown",
   "id": "4b6a71ff-fb7c-4fa1-bdf8-bed145cbfd4d",
   "metadata": {},
   "source": [
    "#### Q3. Which Python statements are used to catch and handle exceptions? Explain with an example."
   ]
  },
  {
   "cell_type": "markdown",
   "id": "46dd1132-e78f-4d7a-89b3-45e22dc96b4b",
   "metadata": {},
   "source": [
    "#### The `try-except` statements are used to catch and handle exceptions. The `try` block contains the code that may raise an exception, and the `except` block specifies how to handle the exception if it occurs. For Example :-"
   ]
  },
  {
   "cell_type": "code",
   "execution_count": 3,
   "id": "4a71e3b2-849f-4d68-b343-353e5e8c4fcd",
   "metadata": {},
   "outputs": [],
   "source": [
    "import logging \n",
    "logging.basicConfig(filename= \"error.log\", level= logging.INFO)\n",
    "def divide(a, b):\n",
    "    try:\n",
    "        result = a / b\n",
    "        logging.info(\"Division result: %s\", result)    \n",
    "    except ZeroDivisionError:\n",
    "        logging.error(\"Error: Cannot divide by zero\")\n",
    "    \n",
    "divide(10, 2)"
   ]
  },
  {
   "cell_type": "markdown",
   "id": "6f1d4663-7a9d-44ad-95b7-1011182c5fb3",
   "metadata": {},
   "source": [
    "#### By using `try-except` statements, we can catch specific exceptions and handle them appropriately, allowing our program to gracefully recover from errors and continue execution rather than terminating abruptly."
   ]
  },
  {
   "cell_type": "markdown",
   "id": "169f3958-1d56-40f0-979a-fd5192cf70e8",
   "metadata": {},
   "source": [
    "#### Q4. Explain with on example: \n",
    "#### a. try and else \n",
    "#### b. finally \n",
    "#### c. raise\n"
   ]
  },
  {
   "cell_type": "markdown",
   "id": "9b7a36ef-f979-4216-8218-cd4ef654691b",
   "metadata": {},
   "source": [
    "#### The try and else statements can be used together to handle exceptions in a specific way when no exceptions occur within the try block. The code inside the else block will be executed only if no exceptions are raised in the try block. Here's an example:"
   ]
  },
  {
   "cell_type": "code",
   "execution_count": 8,
   "id": "20b1931a-56cc-4f9e-8982-54ebe276ec72",
   "metadata": {},
   "outputs": [],
   "source": [
    "import logging\n",
    "\n",
    "logging.basicConfig(filename=\"error.log\", level= logging.INFO)\n",
    "\n",
    "def devide(a,b) :\n",
    "    try :\n",
    "        result = a / b\n",
    "    except ZeroDivisionError :\n",
    "        logging.error(\"Error: Cannot divide by zero\")\n",
    "    else :\n",
    "        logging.info(\"The result will be \", result )"
   ]
  },
  {
   "cell_type": "markdown",
   "id": "4a1cdee9-2826-402b-9108-b31f478ca1c6",
   "metadata": {},
   "source": [
    "#### The finally block is used in conjunction with the try block and provides a section of code that will be executed regardless of whether an exception occurs or not. This block is commonly used to perform cleanup actions or release resources that need to be done regardless of the outcome of the try block. Here's an example:"
   ]
  },
  {
   "cell_type": "code",
   "execution_count": 2,
   "id": "1b63618d-af37-446b-95ca-0b0b1bb17839",
   "metadata": {},
   "outputs": [],
   "source": [
    "import logging\n",
    "\n",
    "logging.basicConfig(filename=\"error1.log\", level=logging.INFO)\n",
    "def open_and_read_file(filename) :\n",
    "    try :\n",
    "        file = open(filename,'r')\n",
    "        contents = file.read()\n",
    "        logging.info(\"File Contents: %s\", contents)\n",
    "    except FileExistsError :\n",
    "        logging.error(f\"Error: File {filename} not fournd\")\n",
    "    finally :\n",
    "        if \"file\" in locals() :\n",
    "            file.close()\n",
    "            logging.info(\"FIle closed\")\n",
    "open_and_read_file(\"read.txt\")"
   ]
  },
  {
   "cell_type": "markdown",
   "id": "a72ba2fc-0b76-4e2b-be4f-4cebeb13befe",
   "metadata": {},
   "source": [
    "#### The raise statement in Python is used to explicitly raise an exception during program execution. It allows you to generate and trigger an exception at any point in your code. When you raise an exception, it interrupts the normal flow of the program and transfers control to the exception handling mechanism."
   ]
  },
  {
   "cell_type": "code",
   "execution_count": 8,
   "id": "1b09474f-746a-43fd-a004-ded7fbf112d9",
   "metadata": {},
   "outputs": [],
   "source": [
    "import logging\n",
    "\n",
    "logging.basicConfig(filename=\"error.log\", level=logging.INFO)\n",
    "def calculate_squre_root(number) :\n",
    "    try :\n",
    "        if number <0 :\n",
    "            raise ValueError(\"Cannot calculate squre root of a negative number\")\n",
    "        else :\n",
    "            return number ** 0.5\n",
    "    except ValueError as error :\n",
    "        logging.error(\"Error occured: \" + str(error))\n",
    "\n",
    "calculate_squre_root(-5)"
   ]
  },
  {
   "cell_type": "markdown",
   "id": "03e16b90-3c45-416d-82ec-ff78c53b2eb7",
   "metadata": {},
   "source": [
    "#### Q5. What are Custom Exceptions in python? Why do we need Custom Exceptions? Explain with on example. "
   ]
  },
  {
   "cell_type": "markdown",
   "id": "7fa0b0d9-3c57-4184-86a7-c68622952fb0",
   "metadata": {},
   "source": [
    "#### In Python, custom exceptions are special types of errors that we can create ourselves to handle specific problems or situations in our programs. They allow us to define our own types of errors with unique names and messages.\n"
   ]
  },
  {
   "cell_type": "markdown",
   "id": "acf92763-f01f-4015-861a-ec73fd6f4c32",
   "metadata": {},
   "source": [
    "#### 1. Improved Error Handling: By defining custom exceptions, we can provide more specific and meaningful error messages to users or developers. This makes it easier to identify and understand the cause of the exception and helps in troubleshooting and debugging.\n",
    "\n",
    "#### 2. Distinctive Exception Types: Custom exceptions allow us to create exception types that are specific to our application domain or business logic. This can make our code more expressive and readable, as well as help differentiate between different types of errors or exceptional scenarios.\n",
    "\n",
    "#### 3. Modularity and Reusability: By organizing our code with custom exceptions, we can encapsulate error handling logic within the relevant parts of our codebase. This promotes modularity and reusability, as we can catch and handle specific exceptions at appropriate levels and reuse exception classes in multiple parts of your code.\n",
    "\n",
    "#### 4. Clearer Control Flow: Custom exceptions can help define the flow of control in our program by allowing us to catch and handle exceptions at different levels or stages of execution. This enables us to handle exceptional cases gracefully and take appropriate actions, such as retrying operations, rolling back transactions, or providing fallback strategies."
   ]
  },
  {
   "cell_type": "code",
   "execution_count": 25,
   "id": "53c7866b-6f09-4ae3-ab26-8f77629f022a",
   "metadata": {},
   "outputs": [],
   "source": [
    "import logging\n",
    "\n",
    "class WithdrawalError(Exception) :\n",
    "    pass\n",
    "class InsufficientFundsError(WithdrawalError):\n",
    "    pass\n",
    "class NegativeAmountError(InsufficientFundsError):\n",
    "    pass\n",
    "logging.basicConfig(filename=\"error.log\",level=logging.INFO)\n",
    "\n",
    "\n",
    "def withdraw(amount, balance) :\n",
    "    try :\n",
    "        if amount < 0 :\n",
    "            raise NegativeAmountError (\"Withdrawl amoutn cannont be negetive\")\n",
    "        if amount > balance :\n",
    "            raise InsufficientFundsError(\"Insuffiends fund for withdrawl\")\n",
    "        else :\n",
    "            balance -= amount\n",
    "            return balance  \n",
    "    except WithdrawalError as error :\n",
    "        logging.error(\"Withdral error: \"  + str(error))\n",
    "        \n",
    "result = withdraw(6000,5000)\n",
    "result"
   ]
  },
  {
   "cell_type": "markdown",
   "id": "0f0a1d52-9585-44de-8072-01e416369091",
   "metadata": {},
   "source": [
    "#### By creating custom exceptions and organizing them in this way, we can better identify and handle different types of errors that can occur during the withdrawal process. It makes our code more organized, readable, and allows us to provide meaningful feedback to users or other developers when something goes wrong."
   ]
  },
  {
   "cell_type": "markdown",
   "id": "06084d05-61ff-4535-9b85-dc7e40ba72dc",
   "metadata": {},
   "source": [
    "#### Q6. Create a custom exception class. Use this class to handle on exception."
   ]
  },
  {
   "cell_type": "code",
   "execution_count": 33,
   "id": "d19d1dab-1a84-4586-b7ec-bf727e90e1e2",
   "metadata": {},
   "outputs": [
    {
     "name": "stdout",
     "output_type": "stream",
     "text": [
      "Custom Exception: Cannot devided by zero\n"
     ]
    }
   ],
   "source": [
    "class CustomException(Exception) :\n",
    "    def __init__(self, message) :\n",
    "        self.massage = message\n",
    "        \n",
    "def devide(a, b) :\n",
    "    try :\n",
    "        if b == 0 :\n",
    "            raise CustomException(\"Cannot devided by zero\")\n",
    "        else:\n",
    "            result = a/b\n",
    "        return result\n",
    "    except CustomException as error :\n",
    "        print(\"Custom Exception: \"+  error.massage)\n",
    "devide(10,0)"
   ]
  },
  {
   "cell_type": "code",
   "execution_count": null,
   "id": "b009e4fa-5cec-4b01-8853-ad503dc647d3",
   "metadata": {},
   "outputs": [],
   "source": []
  }
 ],
 "metadata": {
  "kernelspec": {
   "display_name": "Python 3 (ipykernel)",
   "language": "python",
   "name": "python3"
  },
  "language_info": {
   "codemirror_mode": {
    "name": "ipython",
    "version": 3
   },
   "file_extension": ".py",
   "mimetype": "text/x-python",
   "name": "python",
   "nbconvert_exporter": "python",
   "pygments_lexer": "ipython3",
   "version": "3.10.6"
  }
 },
 "nbformat": 4,
 "nbformat_minor": 5
}
