{
 "cells": [
  {
   "cell_type": "markdown",
   "id": "c055d31d-2f74-4cee-89dd-68f52e1ac287",
   "metadata": {},
   "source": [
    "### Q1. Explain Class and Object with respect to Object-Oriented Programming. Give a suitable example."
   ]
  },
  {
   "cell_type": "markdown",
   "id": "ce6b71dd-576f-4617-9db2-000d5d1ce964",
   "metadata": {},
   "source": [
    "#### In object-oriented programming, a class is a blueprint that defines the characteristics and methods that an object of that class will possess. It acts as a blueprint for creating individual objects, also known as instances. An object, on the other hand, is a specific instance of a class that encapsulates attributes and methods associated with that class.\n",
    "\n",
    "#### For example of a class called \"Bike\" The Bike class would define the common properties and methods that all Bike share. These properties might include attributes such as color, model, and year, while methods could include methods like start(), accelerate(), and brake().\n"
   ]
  },
  {
   "cell_type": "code",
   "execution_count": 5,
   "id": "8b698145-0a70-4455-a268-d06ae07af254",
   "metadata": {},
   "outputs": [],
   "source": [
    "class Bike:\n",
    "    def __init__(self, color, model, year):\n",
    "        self.color = color\n",
    "        self.model = model\n",
    "        self.year = year\n",
    "\n",
    "    def start(self):\n",
    "        print(\"The bike has started.\")\n",
    "\n",
    "    def accelerate(self):\n",
    "        print(\"The bike is accelerating.\")\n",
    "\n",
    "    def brake(self):\n",
    "        print(\"The bike is braking.\")\n"
   ]
  },
  {
   "cell_type": "markdown",
   "id": "c7032ccf-78c3-47c4-83e6-f629b3637997",
   "metadata": {},
   "source": [
    "#### In the example above, we define the bike class with its attributes (color, model, and year) and methods (start(), accelerate(), and brake()). The `__init__()` method is a special method known as the constructor, which is called when creating a new object of the class. It initializes the attributes of the object using the provided values.\n",
    "\n",
    "#### Once the class is defined, we can create multiple instances (objects) of the Car class with different attribute values:"
   ]
  },
  {
   "cell_type": "code",
   "execution_count": 15,
   "id": "469e2398-94ff-4bf2-8ccf-7ba8e6cdf0c0",
   "metadata": {},
   "outputs": [],
   "source": [
    "BMW = Bike(\"Red\", \"BMW G310 RR\", 2023)\n",
    "Hero = Bike(\"Blue\", \"Hero Xpulse 200\", 2020)"
   ]
  },
  {
   "cell_type": "markdown",
   "id": "26d860c0-912f-4e9b-9fc2-9bfdcdc1ac52",
   "metadata": {},
   "source": [
    "#### Here, BMW and Hero are two distinct objects of the Bike class. They each have their own unique set of attribute values. We can access the attributes and invoke the methods of these objects using dot notation:"
   ]
  },
  {
   "cell_type": "code",
   "execution_count": 21,
   "id": "e6ec6ba4-494b-4044-97b5-0ef4252cd40c",
   "metadata": {},
   "outputs": [
    {
     "name": "stdout",
     "output_type": "stream",
     "text": [
      "Red\n",
      "The car has started.\n",
      "The car is accelerating.\n"
     ]
    }
   ],
   "source": [
    "print(BMW.color) \n",
    "Hero.start() \n",
    "BMW.accelerate()"
   ]
  },
  {
   "cell_type": "markdown",
   "id": "99cb87b6-ca8b-4201-8ae0-449cdd4cf665",
   "metadata": {},
   "source": [
    "#### In summary, a class is a blueprint that defines the structure and methods of objects, while an object is a specific instance of that class with its own set of attribute values and the ability to invoke the methods defined in the class."
   ]
  },
  {
   "cell_type": "markdown",
   "id": "370f1bfb-a342-4056-993b-d30cfa14c3a9",
   "metadata": {},
   "source": [
    "### Q2. Name the four pillars of OOPs."
   ]
  },
  {
   "cell_type": "markdown",
   "id": "ded34197-32be-4951-b41c-0872b217a6f6",
   "metadata": {},
   "source": [
    "#### The four pillars of OOPs are:\n",
    "\n",
    "#### 1. Encapsulation: Encapsulation refers to the bundling of attributes and the methods that operate on that data within a single unit called a class. It allows         the data to be hidden from the outside world and can only be accessed through the defined methods. Encapsulation helps in achieving data abstraction and           provides control over the accessibility and modification of the data.\n",
    "#### 2. Inheritance: Inheritance enables the creation of new derived classes based on parent classes. The derived classes inherit the attributes and methods of the base class, allowing code reuse and the extension of functionality. Inheritance promotes code organization, modularity, and the concept of \"is-a\" relationships.\n",
    "#### 3. Polymorphism: Polymorphism means the ability of an object to take on many forms. It allows objects of different classes to be treated as objects of a common base class. Polymorphism enables the use of a single interface to represent different types of objects, providing flexibility and extensibility in code design. Polymorphism is typically achieved through method overriding and method overloading.\n",
    "#### 4. Abstraction: Abstraction involves the concept of simplifying complex systems by representing essential features while hiding unnecessary details. It focuses on defining the essential behaviors and properties of an object or a class while suppressing the implementation details. Abstraction helps in managing the complexity of software systems, making them more understandable and maintainable. It also provides a level of abstraction that allows objects to be treated conceptually rather than dealing with low-level implementation specifics."
   ]
  },
  {
   "cell_type": "markdown",
   "id": "83231d58-5527-45a0-a521-82b436811a47",
   "metadata": {},
   "source": [
    "### Q3. Explain why the __init__() function is used. Give a suitable example."
   ]
  },
  {
   "cell_type": "markdown",
   "id": "1b5bf2fc-d7ab-4503-a0d8-4cddd9c38c64",
   "metadata": {},
   "source": [
    "#### In OOPs, the `__init__()` function is a special method known as the constructor. It is automatically called when an object of a class is created. The primary purpose of the `__init__()` function is to initialize the attributes of the object with the provided values or with default values.\n",
    "\n",
    "#### Here's an example to usage of the `__init__()` function:"
   ]
  },
  {
   "cell_type": "code",
   "execution_count": 26,
   "id": "ef2f1a8b-fca5-4587-8853-bc2532b9dcd3",
   "metadata": {},
   "outputs": [
    {
     "name": "stdout",
     "output_type": "stream",
     "text": [
      "Tridip\n",
      "Hi, my name is Tridip and I'm 25 years old.\n"
     ]
    }
   ],
   "source": [
    "class student:\n",
    "    def __init__(self, name, age):\n",
    "        self.name = name\n",
    "        self.age = age\n",
    "\n",
    "    def introduce(self):\n",
    "        print(f\"Hi, my name is {self.name} and I'm {self.age} years old.\")\n",
    "\n",
    "\n",
    "# Creating an instance of student class\n",
    "student1 = student(\"Tridip\", 25)\n",
    "print(student1.name)\n",
    "student1.introduce()\n"
   ]
  },
  {
   "cell_type": "markdown",
   "id": "c036bff7-8b7c-4c9e-a913-a653231705d7",
   "metadata": {},
   "source": [
    "#### In the example above, we have a class called `student` with two attributes (`name` and `age`) and a method `introduce()` which prints a message introducing the person. The `__init__()` function is defined within the class to initialize the attributes of the object.\n",
    "\n",
    "#### When we create an instance of the `student` class using `student1 = student(\"Tridip\", 25)`, the `__init__()` function is automatically called. The arguments `\"Tridip\"` and `25` are passed to the `__init__()` function, which assigns these values to the `name` and `age` attributes of the `Student1` object. Consequently, `student1.name` will be `\"Tridip\"` and `student1.age` will be `25`.\n",
    "\n",
    "#### The `__init__()` function allows us to set the initial state of an object by providing values for its attributes. It ensures that every object created from the class will have its attributes properly initialized. By defining the `__init__()` function, we can enforce certain requirements or perform necessary setup actions when creating objects of a class.\n"
   ]
  },
  {
   "cell_type": "markdown",
   "id": "05779c10-3ae6-4924-9577-49342e18394a",
   "metadata": {},
   "source": [
    "### Q4. Why self is used in OOPs?"
   ]
  },
  {
   "cell_type": "markdown",
   "id": "d04f6be1-f5fd-4769-ab70-1ba975c454b4",
   "metadata": {},
   "source": [
    "#### In OOPs, the `self` keyword is used as a reference to the instance of a class. It is a convention in Python to use `self` as the first parameter in class methods. The purpose of `self` is to allow access to the attributes and methods of the instance within the class.\n",
    "\n",
    "#### Here are a few reasons why `self` is used in OOP:\n",
    "\n",
    "#### 1. Accessing instance attributes: By using `self.attribute_name`, we can access the attributes specific to the instance of the class. `self` refers to the current object, allowing us to differentiate between attributes of different instances. For example:"
   ]
  },
  {
   "cell_type": "code",
   "execution_count": 30,
   "id": "b22761b3-bf72-4790-9e64-243a76d8a849",
   "metadata": {},
   "outputs": [
    {
     "name": "stdout",
     "output_type": "stream",
     "text": [
      "Hello, my name is Tridip.\n"
     ]
    }
   ],
   "source": [
    "class student:\n",
    "    def __init__(self, name):\n",
    "        self.name = name\n",
    "\n",
    "    def greet(self):\n",
    "        print(f\"Hello, my name is {self.name}.\")\n",
    "\n",
    "student1 = student(\"Tridip\")\n",
    "student1.greet() \n",
    "\n"
   ]
  },
  {
   "cell_type": "markdown",
   "id": "481735a2-ae02-4d8b-8784-97912ee280cf",
   "metadata": {},
   "source": [
    "#### 2. Invoking instance methods: `self` is used to invoke methods defined within the class. When a method is called using `self.method_name`, it is executed in the context of the instance, allowing access to its attributes and other methods. For example:"
   ]
  },
  {
   "cell_type": "code",
   "execution_count": 31,
   "id": "403feaa9-7d6e-4dd0-8a57-7b58c782b012",
   "metadata": {},
   "outputs": [
    {
     "name": "stdout",
     "output_type": "stream",
     "text": [
      "78.5\n"
     ]
    }
   ],
   "source": [
    "class Circle:\n",
    "    def __init__(self, radius):\n",
    "        self.radius = radius\n",
    "\n",
    "    def calculate_area(self):\n",
    "        area = 3.14 * self.radius ** 2\n",
    "        return area\n",
    "\n",
    "circle1 = Circle(5)\n",
    "print(circle1.calculate_area())\n"
   ]
  },
  {
   "cell_type": "markdown",
   "id": "5d892e13-8d39-4881-978c-db0f902cb131",
   "metadata": {},
   "source": [
    "#### 3. Differentiating between local and instance variables: By using `self`, we can distinguish between local variables and instance variables with the same name. It helps in resolving any naming conflicts and ensures that the instance variables are accessed correctly within the class."
   ]
  },
  {
   "cell_type": "code",
   "execution_count": 33,
   "id": "4ea5237a-6ae5-4029-b88f-e0e99ce51392",
   "metadata": {},
   "outputs": [
    {
     "name": "stdout",
     "output_type": "stream",
     "text": [
      "Area: 10\n",
      "Instance Area: 12.5\n"
     ]
    }
   ],
   "source": [
    "class Rectangle:\n",
    "    def __init__(self, length, width):\n",
    "        self.length = length\n",
    "        self.width = width\n",
    "\n",
    "    def calculate_area(self):\n",
    "        area = self.length * self.width\n",
    "        return area\n",
    "\n",
    "    def print_area(self):\n",
    "        area = 10 \n",
    "        print(\"Area:\", area)  # Output: Area: 10\n",
    "        print(\"Instance Area:\", self.calculate_area())  # Output: Instance Area: 50\n",
    "\n",
    "rectangle1 = Rectangle(2.5, 5)\n",
    "rectangle1.print_area()"
   ]
  },
  {
   "cell_type": "markdown",
   "id": "fbdea566-9186-4a1b-b9b8-c5c61dea01d7",
   "metadata": {},
   "source": [
    "#### In summary, `self` is used in OOP to refer to the instance of a class, providing access to its attributes and methods. It ensures proper access and differentiation of instance-specific data and behavior within the class."
   ]
  },
  {
   "cell_type": "markdown",
   "id": "3374f19b-9a26-4996-b298-8a84712324a4",
   "metadata": {},
   "source": [
    "### Q5. What is inheritance? Give an example for each type of inheritance."
   ]
  },
  {
   "cell_type": "markdown",
   "id": "83e9b532-02d1-4c8f-83c9-7834dd737edb",
   "metadata": {},
   "source": [
    "#### Inheritance is a fundamental concept in OOPs that allows the creation of derived classes based on parent classes. The derived classes inherit the attributes and methods of the base class, thereby promoting code reuse, modularity, and extending functionality. Inheritance is typically categorized into four types:\n",
    "\n",
    "#### 1. Single Inheritance: Single inheritance refers to the relationship where a derived class inherits from a single base class. It involves the creation of a hierarchy with one base class and one derived class. Here's an example:"
   ]
  },
  {
   "cell_type": "code",
   "execution_count": 35,
   "id": "2ffba560-e8fb-4c26-a591-7e6a7a194ba8",
   "metadata": {},
   "outputs": [
    {
     "name": "stdout",
     "output_type": "stream",
     "text": [
      "BMW is starting.\n",
      "Red BMW is being driven.\n"
     ]
    }
   ],
   "source": [
    "\n",
    "class Vehicle:\n",
    "    def __init__(self, name):\n",
    "        self.name = name\n",
    "\n",
    "    def start(self):\n",
    "        print(f\"{self.name} is starting.\")\n",
    "\n",
    "\n",
    "class Car(Vehicle):\n",
    "    def __init__(self, name, color):\n",
    "        super().__init__(name)\n",
    "        self.color = color\n",
    "\n",
    "    def drive(self):\n",
    "        print(f\"{self.color} {self.name} is being driven.\")\n",
    "\n",
    "\n",
    "car1 = Car(\"BMW\", \"Red\")\n",
    "car1.start()  \n",
    "car1.drive()  "
   ]
  },
  {
   "cell_type": "markdown",
   "id": "f21371fe-16a8-425f-a392-9bda9c323f7a",
   "metadata": {},
   "source": [
    "#### 2. Multiple Inheritance: Multiple inheritance involves a derived class inheriting from more than one base class. It allows the derived class to inherit attributes and methods from multiple parent classes. Here's an example:"
   ]
  },
  {
   "cell_type": "code",
   "execution_count": 36,
   "id": "cf448b07-a6a1-43d8-b2e0-ce11eb278e0c",
   "metadata": {},
   "outputs": [
    {
     "name": "stdout",
     "output_type": "stream",
     "text": [
      "Animal is breathing.\n",
      "Mammal is feeding milk.\n",
      "Cat is purring.\n"
     ]
    }
   ],
   "source": [
    "class Animal:\n",
    "    def breathe(self):\n",
    "        print(\"Animal is breathing.\")\n",
    "\n",
    "\n",
    "class Mammal:\n",
    "    def feed_milk(self):\n",
    "        print(\"Mammal is feeding milk.\")\n",
    "\n",
    "\n",
    "class Cat(Animal, Mammal):\n",
    "    def purr(self):\n",
    "        print(\"Cat is purring.\")\n",
    "\n",
    "\n",
    "cat1 = Cat()\n",
    "cat1.breathe()    \n",
    "cat1.feed_milk()  \n",
    "cat1.purr()       "
   ]
  },
  {
   "cell_type": "markdown",
   "id": "574e8de7-0de2-4ad2-9d3b-2648167ed59f",
   "metadata": {},
   "source": [
    "#### 3. Multilevel Inheritance: Multilevel inheritance involves a derived class inheriting from another derived class. It forms a hierarchical inheritance structure. Here's an example:"
   ]
  },
  {
   "cell_type": "code",
   "execution_count": 37,
   "id": "2c78f331-1451-4032-9102-993f8d66bfd9",
   "metadata": {},
   "outputs": [
    {
     "name": "stdout",
     "output_type": "stream",
     "text": [
      "Animal is breathing.\n",
      "Mammal is feeding milk.\n",
      "Cat is purring.\n"
     ]
    }
   ],
   "source": [
    "class Animal:\n",
    "    def breathe(self):\n",
    "        print(\"Animal is breathing.\")\n",
    "\n",
    "\n",
    "class Mammal(Animal):\n",
    "    def feed_milk(self):\n",
    "        print(\"Mammal is feeding milk.\")\n",
    "\n",
    "\n",
    "class Cat(Mammal):\n",
    "    def purr(self):\n",
    "        print(\"Cat is purring.\")\n",
    "\n",
    "\n",
    "cat1 = Cat()\n",
    "cat1.breathe()    \n",
    "cat1.feed_milk()  \n",
    "cat1.purr()       "
   ]
  },
  {
   "cell_type": "markdown",
   "id": "7c6eaa8d-c222-4021-b33a-565c9a772bac",
   "metadata": {},
   "source": [
    "#### In the example above, the `Mammal` class inherits from the `Animal` class, and the `Cat` class inherits from the `Mammal` class. As a result, the `Cat` class can access the `breathe()` method from `Animal`, the `feed_milk()` method from `Mammal`, and its own method"
   ]
  },
  {
   "cell_type": "code",
   "execution_count": null,
   "id": "9c6e39aa-ee63-40b9-95a6-8a5307dd2818",
   "metadata": {},
   "outputs": [],
   "source": []
  }
 ],
 "metadata": {
  "kernelspec": {
   "display_name": "Python 3 (ipykernel)",
   "language": "python",
   "name": "python3"
  },
  "language_info": {
   "codemirror_mode": {
    "name": "ipython",
    "version": 3
   },
   "file_extension": ".py",
   "mimetype": "text/x-python",
   "name": "python",
   "nbconvert_exporter": "python",
   "pygments_lexer": "ipython3",
   "version": "3.10.6"
  }
 },
 "nbformat": 4,
 "nbformat_minor": 5
}
