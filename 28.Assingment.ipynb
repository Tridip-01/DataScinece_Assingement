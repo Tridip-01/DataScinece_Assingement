{
 "cells": [
  {
   "cell_type": "markdown",
   "id": "6d30e66a-e9fb-4d11-8a40-528552946ea9",
   "metadata": {
    "tags": []
   },
   "source": [
    "### Q1. What are the three measures of central tendency?"
   ]
  },
  {
   "cell_type": "markdown",
   "id": "eff0dd99-7bc4-40ba-abfe-d02030b4ac70",
   "metadata": {},
   "source": [
    "The three measures of central tendency are:\n",
    "\n",
    "1.Mean: The mean is the average of a set of values. To calculate it, we sum up all the values and then divide by the total number of values. The mean is sensitive to extreme values (outliers) in the data.\n",
    "\n",
    "2.Median: The median is the middle value in a data set when the values are arranged in order. If there's an even number of values, the median is the average of the two middle values. The median is less affected by extreme values compared to the mean.\n",
    "\n",
    "3.Mode: The mode is the value that occurs most frequently in a data set. There can be one mode (unimodal), more than one mode (multimodal), or no mode at all. The mode is useful for categorical or discrete data.\n",
    "\n",
    "These measures provide different ways to summarize and understand the central or typical value in a data set. The choice of which measure to use depends on the nature of the data and the specific questions you want to answer."
   ]
  },
  {
   "cell_type": "markdown",
   "id": "bca7ec59-a17c-415c-8e7e-362920872c9b",
   "metadata": {},
   "source": [
    "#### Q2. What is the difference between the mean, median, and mode? How are they used to measure the\n",
    "central tendency of a dataset?"
   ]
  },
  {
   "cell_type": "markdown",
   "id": "ea8d7261-d460-46f5-82a9-cfc948b9f526",
   "metadata": {},
   "source": [
    "The mean, median, and mode are three different measures of central tendency used to describe the typical or central value of a dataset. Here are the key differences between them and how they are used:\n",
    "\n",
    "1. Mean:\n",
    "   - Calculation: The mean is calculated by summing up all the values in the dataset and then dividing by the total number of values.\n",
    "   - Use: It provides an average value for the dataset. It is the most commonly used measure of central tendency.\n",
    "   - Sensitivity to Outliers: The mean is sensitive to extreme values (outliers) in the data, and a single outlier can significantly affect the mean.\n",
    "\n",
    "2. Median:\n",
    "   - Calculation: The median is the middle value in a dataset when the values are arranged in order. If there's an even number of values, the median is the average of the two middle values.\n",
    "   - Use: It represents the middle value of the dataset and is less affected by outliers. It's useful when dealing with skewed data or datasets with extreme values.\n",
    "   - Sensitivity to Outliers: The median is less sensitive to outliers compared to the mean.\n",
    "\n",
    "3. Mode:\n",
    "   - Calculation: The mode is the value that occurs most frequently in a dataset.\n",
    "   - Use: It identifies the most common value in the dataset. It's particularly useful for categorical or discrete data.\n",
    "   - Sensitivity to Outliers: The mode is not influenced by outliers since it's based on frequency counts.\n"
   ]
  },
  {
   "cell_type": "markdown",
   "id": "49729087-192c-47e9-9e8a-175e79bac0a8",
   "metadata": {},
   "source": [
    "#### Q3. Measure the three measures of central tendency for the given height data:\n",
    "[178,177,176,177,178.2,178,175,179,180,175,178.9,176.2,177,172.5,178,176.5]"
   ]
  },
  {
   "cell_type": "code",
   "execution_count": 4,
   "id": "89c707f3-4f0b-46fe-ba9e-295f709d1e62",
   "metadata": {},
   "outputs": [
    {
     "name": "stdout",
     "output_type": "stream",
     "text": [
      "The mean of the height is: 177.01875\n",
      "The median of the heght is: 177.0\n",
      "The mode of the heght is: ModeResult(mode=array([177.]), count=array([3]))\n"
     ]
    },
    {
     "name": "stderr",
     "output_type": "stream",
     "text": [
      "/tmp/ipykernel_77/4124619234.py:6: FutureWarning: Unlike other reduction functions (e.g. `skew`, `kurtosis`), the default behavior of `mode` typically preserves the axis it acts along. In SciPy 1.11.0, this behavior will change: the default value of `keepdims` will become False, the `axis` over which the statistic is taken will be eliminated, and the value None will no longer be accepted. Set `keepdims` to True or False to avoid this warning.\n",
      "  height_mode = stats.mode(height)\n"
     ]
    }
   ],
   "source": [
    "from scipy import stats\n",
    "import numpy as np\n",
    "height = [178,177,176,177,178.2,178,175,179,180,175,178.9,176.2,177,172.5,178,176.5]\n",
    "height_mean = np.mean(height)\n",
    "height_median = np.median(height)\n",
    "height_mode = stats.mode(height)\n",
    "\n",
    "print(\"The mean of the height is:\", height_mean)\n",
    "print(\"The median of the heght is:\", height_median)\n",
    "print(\"The mode of the heght is:\", height_mode)\n"
   ]
  },
  {
   "cell_type": "markdown",
   "id": "b0fd2014-ce5c-4210-b2ca-a93388ff5125",
   "metadata": {},
   "source": [
    "#### Q4. Find the standard deviation for the given data:\n",
    "[178,177,176,177,178.2,178,175,179,180,175,178.9,176.2,177,172.5,178,176.5]"
   ]
  },
  {
   "cell_type": "code",
   "execution_count": 17,
   "id": "7cbc56c9-547d-490f-a0a6-fcde24d70846",
   "metadata": {},
   "outputs": [
    {
     "name": "stdout",
     "output_type": "stream",
     "text": [
      "The standeared deviation is: 1.7885814036548633\n"
     ]
    }
   ],
   "source": [
    "val = [178,177,176,177,178.2,178,175,179,180,175,178.9,176.2,177,172.5,178,176.5]\n",
    "val_std = np.std(val)\n",
    "print(\"The standeared deviation is:\", val_std)"
   ]
  },
  {
   "cell_type": "markdown",
   "id": "2299464a-994d-4000-9bc9-35f946c55c63",
   "metadata": {},
   "source": [
    "#### Q5. How are measures of dispersion such as range, variance, and standard deviation used to describe the spread of a dataset? Provide an example."
   ]
  },
  {
   "cell_type": "markdown",
   "id": "b14818b4-5403-4d43-af8b-eb39648643c4",
   "metadata": {},
   "source": [
    "Measures of dispersion, including range, variance, and standard deviation, are used to quantify and describe the extent to which data points in a dataset deviate from the central tendency (mean, median, mode). They provide valuable insights into the spread, variability, and consistency of data. Here's how each measure is used, along with an example:\n",
    "\n",
    "1. Range:\n",
    "   - Definition: The range is the simplest measure of dispersion and represents the difference between the maximum and minimum values in a dataset.\n",
    "   - Use: It provides a quick, rough estimate of the spread of data but is highly sensitive to outliers.\n",
    "   - Example: Consider the following dataset of test scores: [60, 70, 75, 80, 95]. The range is 95 (maximum) - 60 (minimum) = 35.\n",
    "\n",
    "2. Variance:\n",
    "   - Definition: Variance measures how data points deviate from the mean. It calculates the average of the squared differences between each data point and the mean.\n",
    "   - Use: Variance quantifies the overall spread of data while giving more weight to larger deviations. However, it provides a measure of variability, not in the original units.\n",
    "   - Example: For the test scores mentioned earlier, the variance is calculated as follows:\n",
    "     - Mean = (60 + 70 + 75 + 80 + 95) / 5 = 76.\n",
    "     - Variance = [(60 - 76)² + (70 - 76)² + (75 - 76)² + (80 - 76)² + (95 - 76)²] / 5 = 158.4.\n",
    "\n",
    "3. Standard Deviation:\n",
    "   - Definition: Standard deviation is the square root of the variance. It provides a measure of the average deviation of data points from the mean and is expressed in the same units as the data.\n",
    "   - Use: Standard deviation is the most commonly used measure of dispersion. It quantifies the spread while maintaining the original units of measurement.\n",
    "   - Example: Using the same test scores, the standard deviation is the square root of the variance, which is approximately 12.58.\n"
   ]
  },
  {
   "cell_type": "markdown",
   "id": "4a30bdc0-f062-495b-9e49-f7b5128ae1ad",
   "metadata": {},
   "source": [
    "#### Q6. What is a Venn diagram?"
   ]
  },
  {
   "cell_type": "markdown",
   "id": "3f976d12-299f-40cf-a8aa-6169dc5c686d",
   "metadata": {},
   "source": [
    "A Venn diagram is a graphical representation used to illustrate the relationships and commonalities between different sets of data. It consists of overlapping circles or ellipses, each representing a specific set or category. The points of intersection between these circles represent elements that belong to multiple sets, highlighting the shared characteristics or data points.\n",
    "\n",
    "Key features of a Venn diagram:\n",
    "\n",
    "Circles or Ellipses: Each circle or ellipse corresponds to a specific set or category. The elements within each set are represented within the boundaries of the corresponding circle.\n",
    "\n",
    "Overlap: When two or more circles intersect, the overlapping region represents elements that belong to multiple sets, indicating their shared characteristics.\n",
    "\n",
    "Non-overlapping Areas: The non-overlapping regions of each circle represent elements that are unique to that set and do not belong to any other set."
   ]
  },
  {
   "cell_type": "markdown",
   "id": "28eb49cb-9d56-441f-b32d-743b6712f4bc",
   "metadata": {},
   "source": [
    "#### Q7. For the two given sets A = (2,3,4,5,6,7) & B = (0,2,6,8,10). Find: (i) A ∩ B (ii) A ⋃ B"
   ]
  },
  {
   "cell_type": "code",
   "execution_count": 15,
   "id": "6573400a-3036-49ca-984c-994769f9d78b",
   "metadata": {},
   "outputs": [
    {
     "name": "stdout",
     "output_type": "stream",
     "text": [
      "Intersection of A and B is : {2, 6}\n",
      "Union of A and B is : {0, 2, 3, 4, 5, 6, 7, 8, 10}\n"
     ]
    }
   ],
   "source": [
    "import numpy as np \n",
    "A,B = {2,3,4,5,6,7},{0,2,6,8,10}\n",
    "intersection_Set= A.intersection(B)\n",
    "union_set= A.union(B)\n",
    "\n",
    "print(\"Intersection of A and B is :\",intersection_Set)\n",
    "print(\"Union of A and B is :\",union_set)"
   ]
  },
  {
   "cell_type": "markdown",
   "id": "212162d0-bad6-4e29-82ed-ae7000801201",
   "metadata": {},
   "source": [
    "#### Q8. What do you understand about skewness in data?"
   ]
  },
  {
   "cell_type": "markdown",
   "id": "0b4caa43-2d92-4a0f-b5d7-79372b18ab50",
   "metadata": {},
   "source": [
    "Skewness in data refers to the measure of the asymmetry or lack of symmetry in the distribution of data points within a dataset. It quantifies the extent to which the data deviates from a perfectly symmetric or normal distribution. Skewness is an essential concept in statistics and data analysis, as it provides valuable insights into the shape and characteristics of data distributions.\n",
    "\n",
    "Key points about skewness in data:\n",
    "\n",
    "1. Symmetry: In a perfectly symmetric dataset, the mean, median, and mode are all equal and located at the center of the distribution. Such a dataset has zero skewness.\n",
    "\n",
    "2. Positive Skewness (Right-skewed): When the right tail (larger values) of the distribution is longer or stretched than the left tail (smaller values), the data is said to be positively skewed. In a positively skewed distribution, the mean is typically greater than the median. The majority of data points are concentrated on the left side of the distribution, with a few extreme values on the right.\n",
    "\n",
    "3. Negative Skewness (Left-skewed): When the left tail (smaller values) of the distribution is longer or stretched than the right tail (larger values), the data is said to be negatively skewed. In a negatively skewed distribution, the mean is typically less than the median. The majority of data points are concentrated on the right side of the distribution, with a few extreme values on the left.\n",
    "\n",
    "4. Skewness Coefficient: Skewness is quantified using a skewness coefficient or index. A positive skewness coefficient indicates positive skewness, while a negative skewness coefficient indicates negative skewness. A skewness coefficient of zero signifies a perfectly symmetric distribution.\n",
    "\n",
    "5. Causes of Skewness: Skewness can be caused by various factors, including outliers or extreme values, natural constraints in the data (e.g., age cannot be negative), or the inherent nature of the data itself (e.g., income data often exhibits positive skewness due to a few high-income individuals).\n"
   ]
  },
  {
   "cell_type": "markdown",
   "id": "3807c20f-b3f4-4d03-82ce-6642227840eb",
   "metadata": {},
   "source": [
    "#### Q9. If a data is right skewed then what will be the position of median with respect to mean?"
   ]
  },
  {
   "cell_type": "markdown",
   "id": "820c8c92-1e0b-41b1-8ecc-dc5ed8855f97",
   "metadata": {},
   "source": [
    "In a right-skewed distribution (positively skewed), the position of the median is typically to the left of the mean. Here's why:\n",
    "\n",
    "1. Right Skewness (Positively Skewed): In a right-skewed distribution, the tail of the distribution is stretched out towards the right, indicating that there are a few extreme values on the right side of the distribution. Most of the data points are concentrated on the left side.\n",
    "\n",
    "2. Mean vs. Median: The mean (average) is sensitive to extreme values or outliers. When there are outliers on the right side (higher values) of the distribution, they pull the mean towards the right. As a result, the mean is greater than the median.\n",
    "\n",
    "3. Median: The median is the middle value of the dataset when it's arranged in ascending order. Because most of the data points are on the left side, the median tends to be closer to the center of the distribution, to the left of the mean.\n"
   ]
  },
  {
   "cell_type": "markdown",
   "id": "65972c3c-2f80-4182-ac49-d0f673d036d1",
   "metadata": {},
   "source": [
    "#### Q10. Explain the difference between covariance and correlation. How are these measures used in statistical analysis?"
   ]
  },
  {
   "cell_type": "markdown",
   "id": "4e582435-be65-4d60-929b-00515e799414",
   "metadata": {},
   "source": [
    "Covariance and correlation are both measures used to quantify the relationship between two variables in statistics. However, they serve slightly different purposes and have distinct characteristics:\n",
    "\n",
    "Covariance:\n",
    "1. Definition: Covariance measures the degree to which two random variables change together. It quantifies whether an increase in one variable corresponds to an increase, decrease, or no change in the other variable.\n",
    "2. Range: Covariance can take any value, positive or negative. A positive covariance indicates a positive relationship (both variables tend to increase or decrease together), a negative covariance indicates a negative relationship (one variable tends to increase when the other decreases), and a covariance near zero indicates little to no linear relationship.\n",
    "3. Units: Covariance is not scaled and depends on the units of the variables being measured. Therefore, it can be challenging to interpret the magnitude of covariance.\n",
    "4. Formula: The formula for covariance between two variables X and Y is: \n",
    "   {Cov}(X, Y) = cov(x,y)=sum_{i=1}^n ={(x_i−x̄)(y_i−ȳ)}/{n-1}\n",
    "\n",
    "   Where n is the number of data points, (X_i) and (Y_i) are individual data points, and {x̄} and {ȳ} are the means of X and Y, respectively.\n",
    "\n",
    "Correlation:\n",
    "1. Definition: Correlation is a standardized measure of the strength and direction of the linear relationship between two variables. It quantifies the degree to which two variables are linearly related.\n",
    "2. Range: Correlation values range between -1 and 1. A correlation of 1 indicates a perfect positive linear relationship, -1 indicates a perfect negative linear relationship, and 0 indicates no linear relationship.\n",
    "3. Units: Correlation is unitless and does not depend on the units of the variables. This makes it easier to compare the strength of relationships between different pairs of variables.\n",
    "4. Formula: The formula for the Pearson correlation coefficient  between X and Y is:\n",
    "   ρ (x,y)={cov(x,y)}/{σx , σy}\n",
    "Use in Statistical Analysis:\n",
    "- Covariance: Covariance can be used to identify the direction of the relationship between two variables, whether positive or negative. It's commonly used in finance to analyze the risk and return of assets in a portfolio. However, it doesn't provide a standardized measure of the strength of the relationship, and its interpretation can be challenging due to units dependence.\n",
    "\n",
    "- Correlation: Correlation is widely used in statistics and data analysis because of its standardization and ease of interpretation. It's used to:\n",
    "  - Determine the strength and direction of the linear relationship between two variables.\n",
    "  - Assess the degree to which changes in one variable are associated with changes in another.\n",
    "  - Identify patterns and associations in data.\n",
    "  - Make predictions and assess the validity of regression models.\n",
    "  - Explore cause-and-effect relationships and dependencies.\n"
   ]
  },
  {
   "cell_type": "markdown",
   "id": "e16b4392-cee6-46d1-93d2-83cb9642700c",
   "metadata": {},
   "source": [
    "#### Q11. What is the formula for calculating the sample mean? Provide an example calculation for a dataset."
   ]
  },
  {
   "cell_type": "markdown",
   "id": "8ed95d37-3101-4d41-9fce-5d3315b350ca",
   "metadata": {},
   "source": [
    "The formula for calculating the sample mean (average) of a dataset is:\n",
    "\n",
    "Sample Mean = Sum of all data points \\ Total number of data points\n",
    "\n",
    "Here's an example calculation:\n",
    "\n",
    "Suppose we have the following dataset of exam scores:\n",
    "\n",
    "Scores = [85, 90, 78, 92, 88] \n",
    "\n",
    "To calculate the sample mean:\n",
    "\n",
    "1. Add up all the data points:\n",
    "85 + 90 + 78 + 92 + 88 = 433 \n",
    "\n",
    "2. Count the total number of data points, which in this case is 5.\n",
    "\n",
    "3. Apply the formula:\n",
    "Sample Mean = 433 / 5 = 86.6\n",
    "\n",
    "So, the sample mean of this dataset is 86.6."
   ]
  },
  {
   "cell_type": "code",
   "execution_count": 26,
   "id": "58d2d1ed-1671-4fb2-9dbb-1a7183375a60",
   "metadata": {},
   "outputs": [
    {
     "name": "stdout",
     "output_type": "stream",
     "text": [
      "The Sample mean is : 86.6\n"
     ]
    }
   ],
   "source": [
    "import numpy as np \n",
    "scores = [85, 90, 78, 92, 88]\n",
    "sample_mean = np.mean(scores)\n",
    "print(\"The Sample mean is :\",sample_mean )"
   ]
  },
  {
   "cell_type": "markdown",
   "id": "5fccb64f-b17e-4ff1-95f4-de2c165bd4d5",
   "metadata": {},
   "source": [
    "#### Q12. For a normal distribution data what is the relationship between its measure of central tendency?"
   ]
  },
  {
   "cell_type": "markdown",
   "id": "22662a68-7fc3-42f7-97cd-853af5758556",
   "metadata": {},
   "source": [
    "In a normal distribution, the three measures of central tendency (mean, median, and mode) have a specific relationship:\n",
    "\n",
    "1. Mean (Average): The mean of a normally distributed dataset is equal to the median. This means that if we were to plot the data on a histogram or a line graph, the point where the distribution is symmetrically divided into two equal halves is at the mean, and this point is also the median.\n",
    "\n",
    "2. Median: The median of a normally distributed dataset is equal to the mean. This is because the normal distribution is symmetric, and the center of symmetry is where the median and mean coincide.\n",
    "\n",
    "3. Mode: In a perfectly normal distribution, every data point has the same frequency, so every value is a mode. In practice, normal distributions may not have a distinct mode unless there's some specific pattern or multiple peaks in the data."
   ]
  },
  {
   "cell_type": "markdown",
   "id": "48dba3bf-7888-4a0e-8ba3-59e5b6cfe4c9",
   "metadata": {},
   "source": [
    "#### Q13. How is covariance different from correlation?"
   ]
  },
  {
   "cell_type": "markdown",
   "id": "d3d2e4d5-bfab-47bb-8e56-95825838e0dc",
   "metadata": {},
   "source": [
    "Covariance and correlation are related statistical concepts that both deal with the relationship between two variables, but they differ in several key ways:\n",
    "\n",
    "1. Definition:\n",
    "\n",
    "- Covariance: Covariance measures the degree to which two random variables change together. It quantifies whether an increase in one variable corresponds to an increase, decrease, or no change in the other variable. In other words, it indicates whether there is a linear relationship between the two variables.\n",
    "- Correlation: Correlation is a standardized measure of the strength and direction of the linear relationship between two variables. It quantifies the degree to which two variables are linearly related. Correlation also includes information about the relative scales of the variables.\n",
    "\n",
    "2. Range:\n",
    "\n",
    "- Covariance: Covariance can take any value, positive or negative. A positive covariance indicates a positive relationship (both variables tend to increase or decrease together), a negative covariance indicates a negative relationship (one variable tends to increase when the other decreases), and a covariance near zero indicates little to no linear relationship.\n",
    "- Correlation: Correlation values range between -1 and 1. A correlation of 1 indicates a perfect positive linear relationship, -1 indicates a perfect negative linear relationship, and 0 indicates no linear relationship. Correlation provides a more standardized measure of the strength of the relationship.\n",
    "\n",
    "3. Units:\n",
    "\n",
    "- Covariance: Covariance is not scaled and depends on the units of the variables being measured. Therefore, it can be challenging to interpret the magnitude of covariance.\n",
    "- Correlation:** Correlation is unitless and does not depend on the units of the variables. This makes it easier to compare the strength of relationships between different pairs of variables.\n",
    "\n",
    "4. Standardization:\n",
    "\n",
    "- Covariance: Covariance is not standardized, so its magnitude depends on the scales of the variables. This can make it difficult to compare covariances between different pairs of variables.\n",
    "- Correlation: Correlation is standardized, which means that its values are not affected by the scales of the variables. This standardization makes correlation a more useful measure for comparing relationships between different pairs of variables.\n",
    "\n",
    "Use Cases:\n",
    "\n",
    "- Covariance: Covariance is used to identify the direction of the relationship between two variables (positive or negative). It is sometimes used in financial analysis to analyze the risk and return of assets in a portfolio. However, its interpretation can be challenging due to units dependence.\n",
    "\n",
    "- Correlation: Correlation is widely used in statistics and data analysis because of its standardization and ease of interpretation. It is used to determine the strength and direction of linear relationships, assess the degree of association between variables, make predictions, and explore cause-and-effect relationships.\n"
   ]
  },
  {
   "cell_type": "markdown",
   "id": "6d079b80-b899-40de-9fc4-63cc7b174bb6",
   "metadata": {},
   "source": [
    "#### Q14. How do outliers affect measures of central tendency and dispersion? Provide an example."
   ]
  },
  {
   "cell_type": "markdown",
   "id": "0192653d-875a-4512-8171-97ea2b6a5769",
   "metadata": {},
   "source": [
    "Outliers can significantly affect measures of central tendency (mean, median, mode) and measures of dispersion (variance, standard deviation, range) in a dataset. Here's how:\n",
    "\n",
    "Measures of Central Tendency:\n",
    "\n",
    "1. Mean: Outliers have a substantial impact on the mean. Since the mean is the sum of all values divided by the number of values, extreme outliers can pull the mean in their direction. For example, in a dataset of income where most people earn around rs.50,000, a single outlier earning rs.1,000,000 can significantly inflate the mean.\n",
    "\n",
    "2. Median: The median is less affected by outliers. It represents the middle value when the data is sorted, so a few extreme values have minimal influence on it. In the example above, the median would still be close to rs.50,000.\n",
    "\n",
    "3. Mode: The mode, or most frequent value, may not be influenced at all by outliers unless they create a new peak in the distribution.\n",
    "\n",
    "Measures of Dispersion:\n",
    "\n",
    "1. Variance and Standard Deviation: Outliers increase the spread of data, leading to larger variances and standard deviations. These measures are sensitive to extreme values, giving them more weight.\n",
    "\n",
    "2. Range: Outliers can significantly increase the range, which is the difference between the maximum and minimum values.\n",
    "\n",
    "Here's an example:\n",
    "\n",
    "Consider a dataset of the ages of students in a high school class:\n",
    "\n",
    "\n",
    "15, 16, 17, 15, 17, 16, 15, 16, 16, 70\n",
    "\n",
    "\n",
    "- Mean without Outlier: (15 + 16 + 17 + 15 + 17 + 16 + 15 + 16 + 16) / 9 = 16.44 (approx)\n",
    "- Mean with Outlier: (15 + 16 + 17 + 15 + 17 + 16 + 15 + 16 + 16 + 70) / 10 = 22.3 (approx)\n",
    "\n",
    "The mean is significantly affected by the outlier (age 70), increasing from 16.44 to 22.3.\n",
    "\n",
    "- Median without Outlier: 16 (middle value)\n",
    "- Median with Outlier: 16 (middle value)\n",
    "\n",
    "The median remains the same regardless of the outlier.\n",
    "\n",
    "- Range without Outlier: 17 - 15 = 2\n",
    "- Range with Outlier: 70 - 15 = 55\n",
    "\n",
    "The range is greatly affected by the outlier, increasing from 2 to 55.\n",
    "\n",
    "In summary, outliers can distort the measures of central tendency, especially the mean, and can increase measures of dispersion like range, variance, and standard deviation. It's essential to consider and sometimes handle outliers appropriately when analyzing data."
   ]
  }
 ],
 "metadata": {
  "kernelspec": {
   "display_name": "Python 3 (ipykernel)",
   "language": "python",
   "name": "python3"
  },
  "language_info": {
   "codemirror_mode": {
    "name": "ipython",
    "version": 3
   },
   "file_extension": ".py",
   "mimetype": "text/x-python",
   "name": "python",
   "nbconvert_exporter": "python",
   "pygments_lexer": "ipython3",
   "version": "3.10.6"
  }
 },
 "nbformat": 4,
 "nbformat_minor": 5
}
