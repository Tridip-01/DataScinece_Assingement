{
 "cells": [
  {
   "cell_type": "markdown",
   "id": "dec7dc01-b930-42a0-ae7b-d6e9a8004a18",
   "metadata": {},
   "source": [
    "Q1. Create one variable containing following type of data:\n",
    "(i) string\n",
    "(ii) list\n",
    "(iii) float\n",
    "(iv) tuple"
   ]
  },
  {
   "cell_type": "code",
   "execution_count": 8,
   "id": "454de771-ae0b-4c01-b5ae-72afcec79bcb",
   "metadata": {},
   "outputs": [
    {
     "name": "stdout",
     "output_type": "stream",
     "text": [
      "<class 'str'> <class 'list'> <class 'float'> <class 'tuple'>\n"
     ]
    }
   ],
   "source": [
    "val_1 = 'tridip'\n",
    "val_2 = [\"Tridp\",\"Karmakar\",2025,2+3j,1]\n",
    "val_3 = 100.7\n",
    "val_4 =  (\"Tridp\",\"Karmakar\",2025,2+3j,1)\n",
    "\n",
    "print(type(val_1),type(val_2),type(val_3),type(val_4))\n"
   ]
  },
  {
   "cell_type": "markdown",
   "id": "ab2ed2a6-7233-44dd-a888-32f5bbe1394f",
   "metadata": {},
   "source": [
    "Q2. Given are some following variables containing data:\n",
    "(i) var1 = ' '\n",
    "(ii) var2 = '[ DS , ML , Python]'\n",
    "(iii) var3 = [ ‘DS’ , ’ML’ , ‘Python’ ]\n",
    "(iv) var4 = 1.\n",
    "\n",
    "What will be the data type of the above given variable."
   ]
  },
  {
   "cell_type": "code",
   "execution_count": 27,
   "id": "e8d6cfff-e99a-4468-8447-0bccd790ace3",
   "metadata": {},
   "outputs": [
    {
     "name": "stdout",
     "output_type": "stream",
     "text": [
      "Data type of var1 : <class 'str'> , var2 : <class 'str'> , var3 : <class 'list'> , var4 : <class 'float'>\n"
     ]
    }
   ],
   "source": [
    "var1 = ' '\n",
    "var2 = '[ DS , ML , Python]'\n",
    "var3 = [ 'DS' , 'ML' , 'Python' ]\n",
    "var4 = 1.\n",
    "\n",
    "print('Data type of var1 :' ,type(var1),',','var2 :' ,type(var1),',','var3 :' \n",
    "      ,type(var3),',','var4 :' ,type(var4))"
   ]
  },
  {
   "cell_type": "markdown",
   "id": "07657a96-064a-461c-a526-50b6e8589f0f",
   "metadata": {},
   "source": [
    "Q3. Explain the use of the following operators using an example:\n",
    "(i) /\n",
    "(ii) %\n",
    "(iii) //\n",
    "(iv) **"
   ]
  },
  {
   "cell_type": "markdown",
   "id": "22e6912a-62a5-43d8-956a-ea6f8fe43689",
   "metadata": {},
   "source": [
    "(i) The '/' operator is used for division. It performs normal division, return as a floating-point number. \n",
    "example: 10 / 3\n",
    "The result would be 3.3333333333333335.\n",
    "\n",
    "(ii) The '%' operator is called the modulo. It returns the remainder when one number is divided by another. \n",
    "example: 10 % 3\n",
    "The remainder when dividing 10 by 3 is 1. Therefore, the result would be 1.\n",
    "\n",
    "(iii) The '//' operator is known as the floor division operator. Division and returns the largest integer less than or equal to the division result.For example: 10 // 3\n",
    "result would be 3.3333333333333335. The operator returns the 3 in int data type, \n",
    "\n",
    "(iv) The '**' operator is the exponentiation operator. It raises a number to the power of another number.\n",
    "example: 2 ** 3\n",
    "In this example, 2 to the power of 3. The result would be 8."
   ]
  },
  {
   "cell_type": "markdown",
   "id": "5547d673-9dd7-4c44-81fc-b3eb7c121da1",
   "metadata": {},
   "source": [
    "Q4. Create a list of length 10 of your choice containing multiple types of data. Using for loop print the\n",
    "element and its data type."
   ]
  },
  {
   "cell_type": "code",
   "execution_count": 55,
   "id": "04459be0-44df-4c36-8353-9f77e87a75d0",
   "metadata": {},
   "outputs": [
    {
     "name": "stdout",
     "output_type": "stream",
     "text": [
      "1 eliments : Tridip & it's Data Type : <class 'str'>\n",
      "2 eliments : b'TRIDIP' & it's Data Type : <class 'bytes'>\n",
      "3 eliments : {1, 20.3, 'pwskills'} & it's Data Type : <class 'set'>\n",
      "4 eliments : 133.6 & it's Data Type : <class 'float'>\n",
      "5 eliments : 23 & it's Data Type : <class 'int'>\n",
      "6 eliments : (1, 23, 3, 'tuple') & it's Data Type : <class 'tuple'>\n",
      "7 eliments : (2+3j) & it's Data Type : <class 'complex'>\n",
      "8 eliments : {'key': 'value'} & it's Data Type : <class 'dict'>\n",
      "9 eliments : True & it's Data Type : <class 'bool'>\n",
      "10 eliments : ['data Science', 'iburon'] & it's Data Type : <class 'list'>\n"
     ]
    }
   ],
   "source": [
    "List1 = ['Tridip', b'TRIDIP', {1,'pwskills',20.3},133.6,23,(1,23,3,'tuple'),2+3j,{'key':'value'},True,['data Science','iburon']]\n",
    "count = 0\n",
    "for i in List1 : # iterat through for loops in list1\n",
    "    count +=1\n",
    "    print(f\"{count} eliments :\",i,\"& it's Data Type :\", type(i))"
   ]
  },
  {
   "cell_type": "markdown",
   "id": "9742c7c2-c45e-42de-91e7-0d8db72612c2",
   "metadata": {},
   "source": [
    "Q5. Using a while loop, verify if the number A is purely divisible by number B and if so then how many\n",
    "times it can be divisible."
   ]
  },
  {
   "cell_type": "code",
   "execution_count": 14,
   "id": "cf7dde36-d175-4944-834f-464aa388345c",
   "metadata": {},
   "outputs": [
    {
     "name": "stdout",
     "output_type": "stream",
     "text": [
      "Enter A :\n"
     ]
    },
    {
     "name": "stdin",
     "output_type": "stream",
     "text": [
      " 3\n"
     ]
    },
    {
     "name": "stdout",
     "output_type": "stream",
     "text": [
      "Enter B :\n"
     ]
    },
    {
     "name": "stdin",
     "output_type": "stream",
     "text": [
      " 2\n"
     ]
    },
    {
     "name": "stdout",
     "output_type": "stream",
     "text": [
      "A is not purely divisible by B\n"
     ]
    }
   ],
   "source": [
    "print(\"Enter A :\") # Input of A\n",
    "a = int(input())\n",
    "print(\"Enter B :\") # Input of B\n",
    "b = int(input())\n",
    "count = 0\n",
    "\n",
    "if a % b == 0 :  # if function for else function\n",
    "    while a % b == 0 :  # checking that A is purly divisible by B or not \n",
    "        a = a//b\n",
    "        count += 1\n",
    "    print (f\"A is {count} times purly divisible by B\")  # printing that how many times its divisible \n",
    "else :\n",
    "    print (\"A is not purely divisible by B\") # printing that its not divisible by B"
   ]
  },
  {
   "cell_type": "markdown",
   "id": "d4a3fee5-a70f-4550-b882-1fc2639b16a5",
   "metadata": {},
   "source": [
    "Q6. Create a list containing 25 int type data. Using for loop and if-else condition print if the element is\n",
    "divisible by 3 or not."
   ]
  },
  {
   "cell_type": "code",
   "execution_count": 26,
   "id": "eb55fb9a-cb70-4111-94d0-3b25e134febb",
   "metadata": {},
   "outputs": [
    {
     "name": "stdout",
     "output_type": "stream",
     "text": [
      "0\n",
      "3\n",
      "6\n",
      "9\n",
      "12\n",
      "15\n",
      "18\n",
      "21\n",
      "24\n"
     ]
    }
   ],
   "source": [
    "list2 = []\n",
    "\n",
    "for i in range(0,26): # range function genarate 25 int and using loop function iterat one by one \n",
    "    list2.append(i) # using append function i append it one by one into blank list\n",
    "    if i % 3 == 0 : # if i is divisible by 3 the it will print.\n",
    "        print(i)"
   ]
  },
  {
   "cell_type": "markdown",
   "id": "e93e0203-2171-4f3b-82c3-f3f29d2c2988",
   "metadata": {},
   "source": [
    "Q7. What do you understand about mutable and immutable data types? Give examples for both showing\n",
    "this property."
   ]
  },
  {
   "cell_type": "code",
   "execution_count": 33,
   "id": "c676632f-7016-41db-8ff0-2d9606d66e6d",
   "metadata": {},
   "outputs": [
    {
     "name": "stdout",
     "output_type": "stream",
     "text": [
      "Immutable Object is : Tridip Karmakar\n",
      "mmutable Object is : [1, 2, 3, 4]\n"
     ]
    }
   ],
   "source": [
    "## Mutable and immutable are the ability to modify or change an object after it has been created.\n",
    "## Immutable objects cannot be changed once they are created. Any attempt to modify an immutable object will result in \n",
    "## creating a new object with the updated value.\n",
    "## Strings and Integer are immutable. \n",
    "val3 = \"Tridip\"\n",
    "val4 = val3 + \" Karmakar\"  # This creates a new string object\n",
    "print(\"Immutable Object is :\",val4)  # Output: Hello World\n",
    "\n",
    "## Mutable objects can be modified after they are created. Changes made to a mutable object will affect the object itself. like list\n",
    "list5 = [1, 2, 3]\n",
    "list5.append(4)  # its add 4 to end of the list\n",
    "print(\"mmutable Object is :\",list5)  \n"
   ]
  }
 ],
 "metadata": {
  "kernelspec": {
   "display_name": "Python 3 (ipykernel)",
   "language": "python",
   "name": "python3"
  },
  "language_info": {
   "codemirror_mode": {
    "name": "ipython",
    "version": 3
   },
   "file_extension": ".py",
   "mimetype": "text/x-python",
   "name": "python",
   "nbconvert_exporter": "python",
   "pygments_lexer": "ipython3",
   "version": "3.10.6"
  }
 },
 "nbformat": 4,
 "nbformat_minor": 5
}
