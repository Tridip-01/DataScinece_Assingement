{
 "cells": [
  {
   "cell_type": "markdown",
   "id": "106859d0-2b8e-4555-8092-9bf3fe1f83ce",
   "metadata": {},
   "source": [
    "Consider following code to answer further questions:\n",
    "import pandas as pd\n",
    "course_name = [‘Data Science’, ‘Machine Learning’, ‘Big Data’, ‘Data Engineer’]\n",
    "duration = [2,3,6,4]\n",
    "df = pd.DataFrame(data = {‘course_name’ : course_name, ‘duration’ : duration})"
   ]
  },
  {
   "cell_type": "code",
   "execution_count": 2,
   "id": "25c73ad6-36dc-4ca8-b4bb-61f0fe0c9cb4",
   "metadata": {},
   "outputs": [
    {
     "data": {
      "text/html": [
       "<div>\n",
       "<style scoped>\n",
       "    .dataframe tbody tr th:only-of-type {\n",
       "        vertical-align: middle;\n",
       "    }\n",
       "\n",
       "    .dataframe tbody tr th {\n",
       "        vertical-align: top;\n",
       "    }\n",
       "\n",
       "    .dataframe thead th {\n",
       "        text-align: right;\n",
       "    }\n",
       "</style>\n",
       "<table border=\"1\" class=\"dataframe\">\n",
       "  <thead>\n",
       "    <tr style=\"text-align: right;\">\n",
       "      <th></th>\n",
       "      <th>course_name</th>\n",
       "      <th>duration</th>\n",
       "    </tr>\n",
       "  </thead>\n",
       "  <tbody>\n",
       "    <tr>\n",
       "      <th>0</th>\n",
       "      <td>Data Science</td>\n",
       "      <td>2</td>\n",
       "    </tr>\n",
       "    <tr>\n",
       "      <th>1</th>\n",
       "      <td>Machine Learning</td>\n",
       "      <td>3</td>\n",
       "    </tr>\n",
       "    <tr>\n",
       "      <th>2</th>\n",
       "      <td>Big Data</td>\n",
       "      <td>6</td>\n",
       "    </tr>\n",
       "    <tr>\n",
       "      <th>3</th>\n",
       "      <td>Data Engineer</td>\n",
       "      <td>4</td>\n",
       "    </tr>\n",
       "  </tbody>\n",
       "</table>\n",
       "</div>"
      ],
      "text/plain": [
       "        course_name  duration\n",
       "0      Data Science         2\n",
       "1  Machine Learning         3\n",
       "2          Big Data         6\n",
       "3     Data Engineer         4"
      ]
     },
     "execution_count": 2,
     "metadata": {},
     "output_type": "execute_result"
    }
   ],
   "source": [
    "import pandas as pd\n",
    "import logging\n",
    "logging.basicConfig(filename= \"error.log\", level= logging.INFO)\n",
    "course_name = ['Data Science', 'Machine Learning', 'Big Data', 'Data Engineer']\n",
    "duration = [2,3,6,4]\n",
    "df = pd.DataFrame(data = {'course_name' : course_name, 'duration' : duration})\n",
    "df"
   ]
  },
  {
   "cell_type": "markdown",
   "id": "0284cb11-595d-429e-ac67-4a6c03714b99",
   "metadata": {},
   "source": [
    "#### Q1. Write a code to print the data present in the second row of the dataframe, df."
   ]
  },
  {
   "cell_type": "markdown",
   "id": "26388c03-101d-42c5-90ac-2ed77061e7e2",
   "metadata": {},
   "source": [
    "Using loc function we can get the second row output by name of index or usig iloc function we get the sale value as per index integer positions."
   ]
  },
  {
   "cell_type": "code",
   "execution_count": 3,
   "id": "b8bee8d1-1100-4935-bdb3-0fe45f36c805",
   "metadata": {},
   "outputs": [
    {
     "data": {
      "text/plain": [
       "course_name    Machine Learning\n",
       "duration                      3\n",
       "Name: 1, dtype: object"
      ]
     },
     "execution_count": 3,
     "metadata": {},
     "output_type": "execute_result"
    }
   ],
   "source": [
    "df.loc[1]"
   ]
  },
  {
   "cell_type": "markdown",
   "id": "25fcf9ce-bb29-41df-b442-250cbb339fba",
   "metadata": {},
   "source": [
    "#### Q2. What is the difference between the functions loc and iloc in pandas.DataFrame?"
   ]
  },
  {
   "cell_type": "markdown",
   "id": "cffec7be-efd0-41f9-bd46-e2889efad218",
   "metadata": {},
   "source": [
    "In the pandas DataFrame, loc and iloc are used for indexing and selecting data, but they have different ways of referencing rows and columns.\n",
    "1. loc:\n",
    "The loc indexer is label-based. It is used to select rows and columns based on their labels or index names. We provide the row labels and column labels as arguments to the loc method. The syntax is: df.loc[row_label, column_label].\n",
    "\n"
   ]
  },
  {
   "cell_type": "code",
   "execution_count": 7,
   "id": "41503ac4-4fd3-49e6-bf0d-0c9064fe4ef0",
   "metadata": {},
   "outputs": [
    {
     "name": "stdout",
     "output_type": "stream",
     "text": [
      "1\n",
      "5\n"
     ]
    }
   ],
   "source": [
    "import pandas as pd\n",
    "data = {'a': [1, 2, 3],\n",
    "        'b': [4, 5, 6],\n",
    "        'c': [7, 8, 9]}\n",
    "df = pd.DataFrame(data, index=['x', 'y', 'z'])\n",
    "print(df.loc['x', 'a'])  \n",
    "print(df.loc['y', 'b'])  "
   ]
  },
  {
   "cell_type": "markdown",
   "id": "1cb4562e-e9e6-4882-998f-c45a2c01b48f",
   "metadata": {},
   "source": [
    "2. iloc:\n",
    "The iloc indexer is integer - based. It is used to select rows and columns based on their integer positions, similar to how we would index lists or arrays. We provide the row indices and column indices as arguments to the iloc method. The syntax is: df.iloc[row_index, column_index]."
   ]
  },
  {
   "cell_type": "code",
   "execution_count": 8,
   "id": "bd7e6e15-145c-4362-b3b6-42a4a8a0ff1e",
   "metadata": {},
   "outputs": [
    {
     "name": "stdout",
     "output_type": "stream",
     "text": [
      "4\n",
      "8\n"
     ]
    }
   ],
   "source": [
    "print(df.iloc[0, 1])  # Output: 4 (Value at row 0, column 1)\n",
    "print(df.iloc[1, 2])  # Output: 9 (Value at row 1, column 2)"
   ]
  },
  {
   "cell_type": "markdown",
   "id": "91b2f741-0f5a-4679-8788-006a5cf12cc6",
   "metadata": {},
   "source": [
    "#### Q3. Reindex the given dataframe using a variable, reindex = [3,0,1,2] and store it in the variable, new_df then find the output for both new_df.loc[2] and new_df.iloc[2]."
   ]
  },
  {
   "cell_type": "code",
   "execution_count": 9,
   "id": "31c1f886-0006-49c9-a75d-285c72a88ffd",
   "metadata": {},
   "outputs": [
    {
     "data": {
      "text/html": [
       "<div>\n",
       "<style scoped>\n",
       "    .dataframe tbody tr th:only-of-type {\n",
       "        vertical-align: middle;\n",
       "    }\n",
       "\n",
       "    .dataframe tbody tr th {\n",
       "        vertical-align: top;\n",
       "    }\n",
       "\n",
       "    .dataframe thead th {\n",
       "        text-align: right;\n",
       "    }\n",
       "</style>\n",
       "<table border=\"1\" class=\"dataframe\">\n",
       "  <thead>\n",
       "    <tr style=\"text-align: right;\">\n",
       "      <th></th>\n",
       "      <th>course_name</th>\n",
       "      <th>duration</th>\n",
       "    </tr>\n",
       "  </thead>\n",
       "  <tbody>\n",
       "    <tr>\n",
       "      <th>3</th>\n",
       "      <td>Data Science</td>\n",
       "      <td>2</td>\n",
       "    </tr>\n",
       "    <tr>\n",
       "      <th>0</th>\n",
       "      <td>Machine Learning</td>\n",
       "      <td>3</td>\n",
       "    </tr>\n",
       "    <tr>\n",
       "      <th>1</th>\n",
       "      <td>Big Data</td>\n",
       "      <td>6</td>\n",
       "    </tr>\n",
       "    <tr>\n",
       "      <th>2</th>\n",
       "      <td>Data Engineer</td>\n",
       "      <td>4</td>\n",
       "    </tr>\n",
       "  </tbody>\n",
       "</table>\n",
       "</div>"
      ],
      "text/plain": [
       "        course_name  duration\n",
       "3      Data Science         2\n",
       "0  Machine Learning         3\n",
       "1          Big Data         6\n",
       "2     Data Engineer         4"
      ]
     },
     "execution_count": 9,
     "metadata": {},
     "output_type": "execute_result"
    }
   ],
   "source": [
    "import pandas as pd\n",
    "course_name = ['Data Science', 'Machine Learning', 'Big Data', 'Data Engineer']\n",
    "duration = [2,3,6,4]\n",
    "reindex = [3,0,1,2]\n",
    "new_df = pd.DataFrame(data = {'course_name' : course_name, 'duration' : duration} ,index = reindex)\n",
    "new_df"
   ]
  },
  {
   "cell_type": "code",
   "execution_count": 10,
   "id": "4ef65be8-f733-4cea-8d3a-9eb5e6636877",
   "metadata": {},
   "outputs": [
    {
     "data": {
      "text/plain": [
       "course_name    Data Engineer\n",
       "duration                   4\n",
       "Name: 2, dtype: object"
      ]
     },
     "execution_count": 10,
     "metadata": {},
     "output_type": "execute_result"
    }
   ],
   "source": [
    "new_df.loc[2] # the output will be as per index name"
   ]
  },
  {
   "cell_type": "code",
   "execution_count": 11,
   "id": "a545b332-4791-48f6-9588-17824bd243c4",
   "metadata": {},
   "outputs": [
    {
     "data": {
      "text/plain": [
       "course_name    Big Data\n",
       "duration              6\n",
       "Name: 1, dtype: object"
      ]
     },
     "execution_count": 11,
     "metadata": {},
     "output_type": "execute_result"
    }
   ],
   "source": [
    "new_df.iloc[2] # the output will be as per index integer positions"
   ]
  },
  {
   "cell_type": "markdown",
   "id": "80f7ef50-e801-42d3-938c-d6c020ac496d",
   "metadata": {},
   "source": [
    "#### Q4. Write a code to find the following statistical measurements for the above dataframe df1:\n",
    "\n",
    "#### (i) mean of each and every column present in the dataframe.\n",
    "#### (ii) standard deviation of column, ‘column_2’"
   ]
  },
  {
   "cell_type": "code",
   "execution_count": 12,
   "id": "1aefd2a5-5716-41b4-8152-1cfbc46e7f33",
   "metadata": {},
   "outputs": [
    {
     "data": {
      "text/html": [
       "<div>\n",
       "<style scoped>\n",
       "    .dataframe tbody tr th:only-of-type {\n",
       "        vertical-align: middle;\n",
       "    }\n",
       "\n",
       "    .dataframe tbody tr th {\n",
       "        vertical-align: top;\n",
       "    }\n",
       "\n",
       "    .dataframe thead th {\n",
       "        text-align: right;\n",
       "    }\n",
       "</style>\n",
       "<table border=\"1\" class=\"dataframe\">\n",
       "  <thead>\n",
       "    <tr style=\"text-align: right;\">\n",
       "      <th></th>\n",
       "      <th>column_1</th>\n",
       "      <th>column_2</th>\n",
       "      <th>column_3</th>\n",
       "      <th>column_4</th>\n",
       "      <th>column_5</th>\n",
       "      <th>column_6</th>\n",
       "    </tr>\n",
       "  </thead>\n",
       "  <tbody>\n",
       "    <tr>\n",
       "      <th>1</th>\n",
       "      <td>0.384518</td>\n",
       "      <td>0.120038</td>\n",
       "      <td>0.607730</td>\n",
       "      <td>0.341930</td>\n",
       "      <td>0.420057</td>\n",
       "      <td>0.194003</td>\n",
       "    </tr>\n",
       "    <tr>\n",
       "      <th>2</th>\n",
       "      <td>0.656205</td>\n",
       "      <td>0.380584</td>\n",
       "      <td>0.274324</td>\n",
       "      <td>0.006638</td>\n",
       "      <td>0.437057</td>\n",
       "      <td>0.333198</td>\n",
       "    </tr>\n",
       "    <tr>\n",
       "      <th>3</th>\n",
       "      <td>0.069818</td>\n",
       "      <td>0.382704</td>\n",
       "      <td>0.067674</td>\n",
       "      <td>0.763606</td>\n",
       "      <td>0.582160</td>\n",
       "      <td>0.706202</td>\n",
       "    </tr>\n",
       "    <tr>\n",
       "      <th>4</th>\n",
       "      <td>0.370787</td>\n",
       "      <td>0.148518</td>\n",
       "      <td>0.532166</td>\n",
       "      <td>0.740227</td>\n",
       "      <td>0.928266</td>\n",
       "      <td>0.264985</td>\n",
       "    </tr>\n",
       "    <tr>\n",
       "      <th>5</th>\n",
       "      <td>0.854358</td>\n",
       "      <td>0.819279</td>\n",
       "      <td>0.479591</td>\n",
       "      <td>0.748773</td>\n",
       "      <td>0.770659</td>\n",
       "      <td>0.399403</td>\n",
       "    </tr>\n",
       "    <tr>\n",
       "      <th>6</th>\n",
       "      <td>0.032342</td>\n",
       "      <td>0.916638</td>\n",
       "      <td>0.938416</td>\n",
       "      <td>0.973645</td>\n",
       "      <td>0.390083</td>\n",
       "      <td>0.067737</td>\n",
       "    </tr>\n",
       "  </tbody>\n",
       "</table>\n",
       "</div>"
      ],
      "text/plain": [
       "   column_1  column_2  column_3  column_4  column_5  column_6\n",
       "1  0.384518  0.120038  0.607730  0.341930  0.420057  0.194003\n",
       "2  0.656205  0.380584  0.274324  0.006638  0.437057  0.333198\n",
       "3  0.069818  0.382704  0.067674  0.763606  0.582160  0.706202\n",
       "4  0.370787  0.148518  0.532166  0.740227  0.928266  0.264985\n",
       "5  0.854358  0.819279  0.479591  0.748773  0.770659  0.399403\n",
       "6  0.032342  0.916638  0.938416  0.973645  0.390083  0.067737"
      ]
     },
     "execution_count": 12,
     "metadata": {},
     "output_type": "execute_result"
    }
   ],
   "source": [
    "import pandas as pd\n",
    "import numpy as np\n",
    "columns = ['column_1', 'column_2', 'column_3', 'column_4', 'column_5', 'column_6']\n",
    "indices = [1,2,3,4,5,6]\n",
    "#Creating a dataframe:\n",
    "df1 = pd.DataFrame(np.random.rand(6,6), columns = columns, index = indices)\n",
    "\n",
    "df1"
   ]
  },
  {
   "cell_type": "code",
   "execution_count": 13,
   "id": "d52d0970-9e14-4a2f-b445-613520c04d88",
   "metadata": {},
   "outputs": [
    {
     "data": {
      "text/plain": [
       "column_1    0.394671\n",
       "column_2    0.461294\n",
       "column_3    0.483317\n",
       "column_4    0.595803\n",
       "column_5    0.588047\n",
       "column_6    0.327588\n",
       "dtype: float64"
      ]
     },
     "execution_count": 13,
     "metadata": {},
     "output_type": "execute_result"
    }
   ],
   "source": [
    "# (i) mean of each and every column present in the dataframe. \n",
    "def mean_df1(x) :\n",
    "    return x.mean()\n",
    "# with the help of apply function we can calculate the mean for each coloumn using external function like exe 1 or internal function like exe 2\n",
    "# exeample 1\n",
    "df1.apply(mean_df1)"
   ]
  },
  {
   "cell_type": "code",
   "execution_count": 14,
   "id": "9d517551-cd1c-4f3e-9f4f-3556e7b0db40",
   "metadata": {},
   "outputs": [
    {
     "data": {
      "text/plain": [
       "column_1    0.394671\n",
       "column_2    0.461294\n",
       "column_3    0.483317\n",
       "column_4    0.595803\n",
       "column_5    0.588047\n",
       "column_6    0.327588\n",
       "dtype: float64"
      ]
     },
     "execution_count": 14,
     "metadata": {},
     "output_type": "execute_result"
    }
   ],
   "source": [
    "# exeample 2\n",
    "df1.apply(lambda x : x.mean())"
   ]
  },
  {
   "cell_type": "code",
   "execution_count": 15,
   "id": "b93a4c57-bfec-4dac-9a0b-c8a665f2b9bf",
   "metadata": {},
   "outputs": [
    {
     "data": {
      "text/plain": [
       "0.33540003874524366"
      ]
     },
     "execution_count": 15,
     "metadata": {},
     "output_type": "execute_result"
    }
   ],
   "source": [
    "#(ii) standard deviation of column, ‘column_2’\n",
    "# using std() function we can calculate the standard deviation of column 2 \n",
    "df1['column_2'].std()"
   ]
  },
  {
   "cell_type": "markdown",
   "id": "1b4ccfd8-87d3-4120-8c3e-c809d3ebb6dd",
   "metadata": {},
   "source": [
    "#### Q5. Replace the data present in the second row of column, ‘column_2’ by a string variable then find the mean of column, column_2. If you are getting errors in executing it then explain why.\n",
    "[Hint: To replace the data use df1.loc[] and equate this to string data of your choice.]"
   ]
  },
  {
   "cell_type": "code",
   "execution_count": 16,
   "id": "c6a6826e-504b-485b-9cca-27890a9d5f8e",
   "metadata": {},
   "outputs": [
    {
     "ename": "TypeError",
     "evalue": "unsupported operand type(s) for +: 'float' and 'str'",
     "output_type": "error",
     "traceback": [
      "\u001b[0;31m---------------------------------------------------------------------------\u001b[0m",
      "\u001b[0;31mTypeError\u001b[0m                                 Traceback (most recent call last)",
      "Cell \u001b[0;32mIn [16], line 2\u001b[0m\n\u001b[1;32m      1\u001b[0m df1\u001b[38;5;241m.\u001b[39mloc[\u001b[38;5;241m2\u001b[39m,\u001b[38;5;124m'\u001b[39m\u001b[38;5;124mcolumn_2\u001b[39m\u001b[38;5;124m'\u001b[39m] \u001b[38;5;241m=\u001b[39m \u001b[38;5;124m'\u001b[39m\u001b[38;5;124mTridip\u001b[39m\u001b[38;5;124m'\u001b[39m \u001b[38;5;66;03m#using loc function iselect the second row and column_2 and replace the value by 'Tridip'\u001b[39;00m\n\u001b[0;32m----> 2\u001b[0m \u001b[43mdf1\u001b[49m\u001b[43m[\u001b[49m\u001b[38;5;124;43m'\u001b[39;49m\u001b[38;5;124;43mcolumn_2\u001b[39;49m\u001b[38;5;124;43m'\u001b[39;49m\u001b[43m]\u001b[49m\u001b[38;5;241;43m.\u001b[39;49m\u001b[43mmean\u001b[49m\u001b[43m(\u001b[49m\u001b[43m)\u001b[49m\n",
      "File \u001b[0;32m/opt/conda/lib/python3.10/site-packages/pandas/core/generic.py:11847\u001b[0m, in \u001b[0;36mNDFrame._add_numeric_operations.<locals>.mean\u001b[0;34m(self, axis, skipna, level, numeric_only, **kwargs)\u001b[0m\n\u001b[1;32m  11829\u001b[0m \u001b[38;5;129m@doc\u001b[39m(\n\u001b[1;32m  11830\u001b[0m     _num_doc,\n\u001b[1;32m  11831\u001b[0m     desc\u001b[38;5;241m=\u001b[39m\u001b[38;5;124m\"\u001b[39m\u001b[38;5;124mReturn the mean of the values over the requested axis.\u001b[39m\u001b[38;5;124m\"\u001b[39m,\n\u001b[0;32m   (...)\u001b[0m\n\u001b[1;32m  11845\u001b[0m     \u001b[38;5;241m*\u001b[39m\u001b[38;5;241m*\u001b[39mkwargs,\n\u001b[1;32m  11846\u001b[0m ):\n\u001b[0;32m> 11847\u001b[0m     \u001b[38;5;28;01mreturn\u001b[39;00m \u001b[43mNDFrame\u001b[49m\u001b[38;5;241;43m.\u001b[39;49m\u001b[43mmean\u001b[49m\u001b[43m(\u001b[49m\u001b[38;5;28;43mself\u001b[39;49m\u001b[43m,\u001b[49m\u001b[43m \u001b[49m\u001b[43maxis\u001b[49m\u001b[43m,\u001b[49m\u001b[43m \u001b[49m\u001b[43mskipna\u001b[49m\u001b[43m,\u001b[49m\u001b[43m \u001b[49m\u001b[43mlevel\u001b[49m\u001b[43m,\u001b[49m\u001b[43m \u001b[49m\u001b[43mnumeric_only\u001b[49m\u001b[43m,\u001b[49m\u001b[43m \u001b[49m\u001b[38;5;241;43m*\u001b[39;49m\u001b[38;5;241;43m*\u001b[39;49m\u001b[43mkwargs\u001b[49m\u001b[43m)\u001b[49m\n",
      "File \u001b[0;32m/opt/conda/lib/python3.10/site-packages/pandas/core/generic.py:11401\u001b[0m, in \u001b[0;36mNDFrame.mean\u001b[0;34m(self, axis, skipna, level, numeric_only, **kwargs)\u001b[0m\n\u001b[1;32m  11393\u001b[0m \u001b[38;5;28;01mdef\u001b[39;00m \u001b[38;5;21mmean\u001b[39m(\n\u001b[1;32m  11394\u001b[0m     \u001b[38;5;28mself\u001b[39m,\n\u001b[1;32m  11395\u001b[0m     axis: Axis \u001b[38;5;241m|\u001b[39m \u001b[38;5;28;01mNone\u001b[39;00m \u001b[38;5;241m|\u001b[39m lib\u001b[38;5;241m.\u001b[39mNoDefault \u001b[38;5;241m=\u001b[39m lib\u001b[38;5;241m.\u001b[39mno_default,\n\u001b[0;32m   (...)\u001b[0m\n\u001b[1;32m  11399\u001b[0m     \u001b[38;5;241m*\u001b[39m\u001b[38;5;241m*\u001b[39mkwargs,\n\u001b[1;32m  11400\u001b[0m ) \u001b[38;5;241m-\u001b[39m\u001b[38;5;241m>\u001b[39m Series \u001b[38;5;241m|\u001b[39m \u001b[38;5;28mfloat\u001b[39m:\n\u001b[0;32m> 11401\u001b[0m     \u001b[38;5;28;01mreturn\u001b[39;00m \u001b[38;5;28;43mself\u001b[39;49m\u001b[38;5;241;43m.\u001b[39;49m\u001b[43m_stat_function\u001b[49m\u001b[43m(\u001b[49m\n\u001b[1;32m  11402\u001b[0m \u001b[43m        \u001b[49m\u001b[38;5;124;43m\"\u001b[39;49m\u001b[38;5;124;43mmean\u001b[39;49m\u001b[38;5;124;43m\"\u001b[39;49m\u001b[43m,\u001b[49m\u001b[43m \u001b[49m\u001b[43mnanops\u001b[49m\u001b[38;5;241;43m.\u001b[39;49m\u001b[43mnanmean\u001b[49m\u001b[43m,\u001b[49m\u001b[43m \u001b[49m\u001b[43maxis\u001b[49m\u001b[43m,\u001b[49m\u001b[43m \u001b[49m\u001b[43mskipna\u001b[49m\u001b[43m,\u001b[49m\u001b[43m \u001b[49m\u001b[43mlevel\u001b[49m\u001b[43m,\u001b[49m\u001b[43m \u001b[49m\u001b[43mnumeric_only\u001b[49m\u001b[43m,\u001b[49m\u001b[43m \u001b[49m\u001b[38;5;241;43m*\u001b[39;49m\u001b[38;5;241;43m*\u001b[39;49m\u001b[43mkwargs\u001b[49m\n\u001b[1;32m  11403\u001b[0m \u001b[43m    \u001b[49m\u001b[43m)\u001b[49m\n",
      "File \u001b[0;32m/opt/conda/lib/python3.10/site-packages/pandas/core/generic.py:11353\u001b[0m, in \u001b[0;36mNDFrame._stat_function\u001b[0;34m(self, name, func, axis, skipna, level, numeric_only, **kwargs)\u001b[0m\n\u001b[1;32m  11343\u001b[0m     warnings\u001b[38;5;241m.\u001b[39mwarn(\n\u001b[1;32m  11344\u001b[0m         \u001b[38;5;124m\"\u001b[39m\u001b[38;5;124mUsing the level keyword in DataFrame and Series aggregations is \u001b[39m\u001b[38;5;124m\"\u001b[39m\n\u001b[1;32m  11345\u001b[0m         \u001b[38;5;124m\"\u001b[39m\u001b[38;5;124mdeprecated and will be removed in a future version. Use groupby \u001b[39m\u001b[38;5;124m\"\u001b[39m\n\u001b[0;32m   (...)\u001b[0m\n\u001b[1;32m  11348\u001b[0m         stacklevel\u001b[38;5;241m=\u001b[39mfind_stack_level(),\n\u001b[1;32m  11349\u001b[0m     )\n\u001b[1;32m  11350\u001b[0m     \u001b[38;5;28;01mreturn\u001b[39;00m \u001b[38;5;28mself\u001b[39m\u001b[38;5;241m.\u001b[39m_agg_by_level(\n\u001b[1;32m  11351\u001b[0m         name, axis\u001b[38;5;241m=\u001b[39maxis, level\u001b[38;5;241m=\u001b[39mlevel, skipna\u001b[38;5;241m=\u001b[39mskipna, numeric_only\u001b[38;5;241m=\u001b[39mnumeric_only\n\u001b[1;32m  11352\u001b[0m     )\n\u001b[0;32m> 11353\u001b[0m \u001b[38;5;28;01mreturn\u001b[39;00m \u001b[38;5;28;43mself\u001b[39;49m\u001b[38;5;241;43m.\u001b[39;49m\u001b[43m_reduce\u001b[49m\u001b[43m(\u001b[49m\n\u001b[1;32m  11354\u001b[0m \u001b[43m    \u001b[49m\u001b[43mfunc\u001b[49m\u001b[43m,\u001b[49m\u001b[43m \u001b[49m\u001b[43mname\u001b[49m\u001b[38;5;241;43m=\u001b[39;49m\u001b[43mname\u001b[49m\u001b[43m,\u001b[49m\u001b[43m \u001b[49m\u001b[43maxis\u001b[49m\u001b[38;5;241;43m=\u001b[39;49m\u001b[43maxis\u001b[49m\u001b[43m,\u001b[49m\u001b[43m \u001b[49m\u001b[43mskipna\u001b[49m\u001b[38;5;241;43m=\u001b[39;49m\u001b[43mskipna\u001b[49m\u001b[43m,\u001b[49m\u001b[43m \u001b[49m\u001b[43mnumeric_only\u001b[49m\u001b[38;5;241;43m=\u001b[39;49m\u001b[43mnumeric_only\u001b[49m\n\u001b[1;32m  11355\u001b[0m \u001b[43m\u001b[49m\u001b[43m)\u001b[49m\n",
      "File \u001b[0;32m/opt/conda/lib/python3.10/site-packages/pandas/core/series.py:4816\u001b[0m, in \u001b[0;36mSeries._reduce\u001b[0;34m(self, op, name, axis, skipna, numeric_only, filter_type, **kwds)\u001b[0m\n\u001b[1;32m   4812\u001b[0m     \u001b[38;5;28;01mraise\u001b[39;00m \u001b[38;5;167;01mNotImplementedError\u001b[39;00m(\n\u001b[1;32m   4813\u001b[0m         \u001b[38;5;124mf\u001b[39m\u001b[38;5;124m\"\u001b[39m\u001b[38;5;124mSeries.\u001b[39m\u001b[38;5;132;01m{\u001b[39;00mname\u001b[38;5;132;01m}\u001b[39;00m\u001b[38;5;124m does not implement \u001b[39m\u001b[38;5;132;01m{\u001b[39;00mkwd_name\u001b[38;5;132;01m}\u001b[39;00m\u001b[38;5;124m.\u001b[39m\u001b[38;5;124m\"\u001b[39m\n\u001b[1;32m   4814\u001b[0m     )\n\u001b[1;32m   4815\u001b[0m \u001b[38;5;28;01mwith\u001b[39;00m np\u001b[38;5;241m.\u001b[39merrstate(\u001b[38;5;28mall\u001b[39m\u001b[38;5;241m=\u001b[39m\u001b[38;5;124m\"\u001b[39m\u001b[38;5;124mignore\u001b[39m\u001b[38;5;124m\"\u001b[39m):\n\u001b[0;32m-> 4816\u001b[0m     \u001b[38;5;28;01mreturn\u001b[39;00m \u001b[43mop\u001b[49m\u001b[43m(\u001b[49m\u001b[43mdelegate\u001b[49m\u001b[43m,\u001b[49m\u001b[43m \u001b[49m\u001b[43mskipna\u001b[49m\u001b[38;5;241;43m=\u001b[39;49m\u001b[43mskipna\u001b[49m\u001b[43m,\u001b[49m\u001b[43m \u001b[49m\u001b[38;5;241;43m*\u001b[39;49m\u001b[38;5;241;43m*\u001b[39;49m\u001b[43mkwds\u001b[49m\u001b[43m)\u001b[49m\n",
      "File \u001b[0;32m/opt/conda/lib/python3.10/site-packages/pandas/core/nanops.py:93\u001b[0m, in \u001b[0;36mdisallow.__call__.<locals>._f\u001b[0;34m(*args, **kwargs)\u001b[0m\n\u001b[1;32m     91\u001b[0m \u001b[38;5;28;01mtry\u001b[39;00m:\n\u001b[1;32m     92\u001b[0m     \u001b[38;5;28;01mwith\u001b[39;00m np\u001b[38;5;241m.\u001b[39merrstate(invalid\u001b[38;5;241m=\u001b[39m\u001b[38;5;124m\"\u001b[39m\u001b[38;5;124mignore\u001b[39m\u001b[38;5;124m\"\u001b[39m):\n\u001b[0;32m---> 93\u001b[0m         \u001b[38;5;28;01mreturn\u001b[39;00m \u001b[43mf\u001b[49m\u001b[43m(\u001b[49m\u001b[38;5;241;43m*\u001b[39;49m\u001b[43margs\u001b[49m\u001b[43m,\u001b[49m\u001b[43m \u001b[49m\u001b[38;5;241;43m*\u001b[39;49m\u001b[38;5;241;43m*\u001b[39;49m\u001b[43mkwargs\u001b[49m\u001b[43m)\u001b[49m\n\u001b[1;32m     94\u001b[0m \u001b[38;5;28;01mexcept\u001b[39;00m \u001b[38;5;167;01mValueError\u001b[39;00m \u001b[38;5;28;01mas\u001b[39;00m e:\n\u001b[1;32m     95\u001b[0m     \u001b[38;5;66;03m# we want to transform an object array\u001b[39;00m\n\u001b[1;32m     96\u001b[0m     \u001b[38;5;66;03m# ValueError message to the more typical TypeError\u001b[39;00m\n\u001b[1;32m     97\u001b[0m     \u001b[38;5;66;03m# e.g. this is normally a disallowed function on\u001b[39;00m\n\u001b[1;32m     98\u001b[0m     \u001b[38;5;66;03m# object arrays that contain strings\u001b[39;00m\n\u001b[1;32m     99\u001b[0m     \u001b[38;5;28;01mif\u001b[39;00m is_object_dtype(args[\u001b[38;5;241m0\u001b[39m]):\n",
      "File \u001b[0;32m/opt/conda/lib/python3.10/site-packages/pandas/core/nanops.py:155\u001b[0m, in \u001b[0;36mbottleneck_switch.__call__.<locals>.f\u001b[0;34m(values, axis, skipna, **kwds)\u001b[0m\n\u001b[1;32m    153\u001b[0m         result \u001b[38;5;241m=\u001b[39m alt(values, axis\u001b[38;5;241m=\u001b[39maxis, skipna\u001b[38;5;241m=\u001b[39mskipna, \u001b[38;5;241m*\u001b[39m\u001b[38;5;241m*\u001b[39mkwds)\n\u001b[1;32m    154\u001b[0m \u001b[38;5;28;01melse\u001b[39;00m:\n\u001b[0;32m--> 155\u001b[0m     result \u001b[38;5;241m=\u001b[39m \u001b[43malt\u001b[49m\u001b[43m(\u001b[49m\u001b[43mvalues\u001b[49m\u001b[43m,\u001b[49m\u001b[43m \u001b[49m\u001b[43maxis\u001b[49m\u001b[38;5;241;43m=\u001b[39;49m\u001b[43maxis\u001b[49m\u001b[43m,\u001b[49m\u001b[43m \u001b[49m\u001b[43mskipna\u001b[49m\u001b[38;5;241;43m=\u001b[39;49m\u001b[43mskipna\u001b[49m\u001b[43m,\u001b[49m\u001b[43m \u001b[49m\u001b[38;5;241;43m*\u001b[39;49m\u001b[38;5;241;43m*\u001b[39;49m\u001b[43mkwds\u001b[49m\u001b[43m)\u001b[49m\n\u001b[1;32m    157\u001b[0m \u001b[38;5;28;01mreturn\u001b[39;00m result\n",
      "File \u001b[0;32m/opt/conda/lib/python3.10/site-packages/pandas/core/nanops.py:418\u001b[0m, in \u001b[0;36m_datetimelike_compat.<locals>.new_func\u001b[0;34m(values, axis, skipna, mask, **kwargs)\u001b[0m\n\u001b[1;32m    415\u001b[0m \u001b[38;5;28;01mif\u001b[39;00m datetimelike \u001b[38;5;129;01mand\u001b[39;00m mask \u001b[38;5;129;01mis\u001b[39;00m \u001b[38;5;28;01mNone\u001b[39;00m:\n\u001b[1;32m    416\u001b[0m     mask \u001b[38;5;241m=\u001b[39m isna(values)\n\u001b[0;32m--> 418\u001b[0m result \u001b[38;5;241m=\u001b[39m \u001b[43mfunc\u001b[49m\u001b[43m(\u001b[49m\u001b[43mvalues\u001b[49m\u001b[43m,\u001b[49m\u001b[43m \u001b[49m\u001b[43maxis\u001b[49m\u001b[38;5;241;43m=\u001b[39;49m\u001b[43maxis\u001b[49m\u001b[43m,\u001b[49m\u001b[43m \u001b[49m\u001b[43mskipna\u001b[49m\u001b[38;5;241;43m=\u001b[39;49m\u001b[43mskipna\u001b[49m\u001b[43m,\u001b[49m\u001b[43m \u001b[49m\u001b[43mmask\u001b[49m\u001b[38;5;241;43m=\u001b[39;49m\u001b[43mmask\u001b[49m\u001b[43m,\u001b[49m\u001b[43m \u001b[49m\u001b[38;5;241;43m*\u001b[39;49m\u001b[38;5;241;43m*\u001b[39;49m\u001b[43mkwargs\u001b[49m\u001b[43m)\u001b[49m\n\u001b[1;32m    420\u001b[0m \u001b[38;5;28;01mif\u001b[39;00m datetimelike:\n\u001b[1;32m    421\u001b[0m     result \u001b[38;5;241m=\u001b[39m _wrap_results(result, orig_values\u001b[38;5;241m.\u001b[39mdtype, fill_value\u001b[38;5;241m=\u001b[39miNaT)\n",
      "File \u001b[0;32m/opt/conda/lib/python3.10/site-packages/pandas/core/nanops.py:706\u001b[0m, in \u001b[0;36mnanmean\u001b[0;34m(values, axis, skipna, mask)\u001b[0m\n\u001b[1;32m    703\u001b[0m     dtype_count \u001b[38;5;241m=\u001b[39m dtype\n\u001b[1;32m    705\u001b[0m count \u001b[38;5;241m=\u001b[39m _get_counts(values\u001b[38;5;241m.\u001b[39mshape, mask, axis, dtype\u001b[38;5;241m=\u001b[39mdtype_count)\n\u001b[0;32m--> 706\u001b[0m the_sum \u001b[38;5;241m=\u001b[39m _ensure_numeric(\u001b[43mvalues\u001b[49m\u001b[38;5;241;43m.\u001b[39;49m\u001b[43msum\u001b[49m\u001b[43m(\u001b[49m\u001b[43maxis\u001b[49m\u001b[43m,\u001b[49m\u001b[43m \u001b[49m\u001b[43mdtype\u001b[49m\u001b[38;5;241;43m=\u001b[39;49m\u001b[43mdtype_sum\u001b[49m\u001b[43m)\u001b[49m)\n\u001b[1;32m    708\u001b[0m \u001b[38;5;28;01mif\u001b[39;00m axis \u001b[38;5;129;01mis\u001b[39;00m \u001b[38;5;129;01mnot\u001b[39;00m \u001b[38;5;28;01mNone\u001b[39;00m \u001b[38;5;129;01mand\u001b[39;00m \u001b[38;5;28mgetattr\u001b[39m(the_sum, \u001b[38;5;124m\"\u001b[39m\u001b[38;5;124mndim\u001b[39m\u001b[38;5;124m\"\u001b[39m, \u001b[38;5;28;01mFalse\u001b[39;00m):\n\u001b[1;32m    709\u001b[0m     count \u001b[38;5;241m=\u001b[39m cast(np\u001b[38;5;241m.\u001b[39mndarray, count)\n",
      "File \u001b[0;32m/opt/conda/lib/python3.10/site-packages/numpy/core/_methods.py:48\u001b[0m, in \u001b[0;36m_sum\u001b[0;34m(a, axis, dtype, out, keepdims, initial, where)\u001b[0m\n\u001b[1;32m     46\u001b[0m \u001b[38;5;28;01mdef\u001b[39;00m \u001b[38;5;21m_sum\u001b[39m(a, axis\u001b[38;5;241m=\u001b[39m\u001b[38;5;28;01mNone\u001b[39;00m, dtype\u001b[38;5;241m=\u001b[39m\u001b[38;5;28;01mNone\u001b[39;00m, out\u001b[38;5;241m=\u001b[39m\u001b[38;5;28;01mNone\u001b[39;00m, keepdims\u001b[38;5;241m=\u001b[39m\u001b[38;5;28;01mFalse\u001b[39;00m,\n\u001b[1;32m     47\u001b[0m          initial\u001b[38;5;241m=\u001b[39m_NoValue, where\u001b[38;5;241m=\u001b[39m\u001b[38;5;28;01mTrue\u001b[39;00m):\n\u001b[0;32m---> 48\u001b[0m     \u001b[38;5;28;01mreturn\u001b[39;00m \u001b[43mumr_sum\u001b[49m\u001b[43m(\u001b[49m\u001b[43ma\u001b[49m\u001b[43m,\u001b[49m\u001b[43m \u001b[49m\u001b[43maxis\u001b[49m\u001b[43m,\u001b[49m\u001b[43m \u001b[49m\u001b[43mdtype\u001b[49m\u001b[43m,\u001b[49m\u001b[43m \u001b[49m\u001b[43mout\u001b[49m\u001b[43m,\u001b[49m\u001b[43m \u001b[49m\u001b[43mkeepdims\u001b[49m\u001b[43m,\u001b[49m\u001b[43m \u001b[49m\u001b[43minitial\u001b[49m\u001b[43m,\u001b[49m\u001b[43m \u001b[49m\u001b[43mwhere\u001b[49m\u001b[43m)\u001b[49m\n",
      "\u001b[0;31mTypeError\u001b[0m: unsupported operand type(s) for +: 'float' and 'str'"
     ]
    }
   ],
   "source": [
    "df1.loc[2,'column_2'] = 'Tridip' #using loc function iselect the second row and column_2 and replace the value by 'Tridip'\n",
    "df1['column_2'].mean() # calculating the mean of the second column"
   ]
  },
  {
   "cell_type": "markdown",
   "id": "bfd61b29-bd4b-42a5-b88e-00f7b3741bfd",
   "metadata": {},
   "source": [
    "In Python, when we calculate the mean of column_2 in a DataFrame 'df' using the .mean() method, the column_2's values should contains numeric data type for the calculation to work correctly. If a column contains string values, then calculation of mean using .mean() will result in an error. This is because string values cannot be directly averaged in a meaningful way.\n",
    "The .mean() method accept numeric values, so it will ignore non-numeric values, including strings, when performing the calculation. If our column contains a mix of numeric and string values, this will lead to an error, as the calculation cannot proceed due to the presence of non-numeric data."
   ]
  },
  {
   "cell_type": "markdown",
   "id": "99583047-021a-47bb-aedb-0044955f27ee",
   "metadata": {},
   "source": [
    "#### 6. What do you understand about the windows function in pandas and list the types of windows functions?"
   ]
  },
  {
   "cell_type": "markdown",
   "id": "0ef72c26-4e33-44c5-ab60-62a00c369e2e",
   "metadata": {},
   "source": [
    "In pandas, window functions are used for performing calculations on a \"window\" of data defined by a certain number of preceding or succeeding rows relative to the current row. These functions are especially useful for analyzing time-series data or any data where the order of rows matters.\n",
    "\n",
    "Window functions in pandas are typically applied using the `.rolling()` method on a pandas Series or DataFrame, followed by an aggregation function. Here's a general overview of window functions and their types:\n",
    "\n",
    "1. **Rolling Window Functions**: These functions compute a value over a sliding window of data points.\n",
    "\n",
    "   - `.rolling().mean()`: Calculates the rolling mean.\n",
    "   - `.rolling().sum()`: Calculates the rolling sum.\n",
    "   - `.rolling().max()`: Calculates the rolling maximum.\n",
    "   - `.rolling().min()`: Calculates the rolling minimum.\n",
    "   - `.rolling().std()`: Calculates the rolling standard deviation.\n",
    "   - `.rolling().var()`: Calculates the rolling variance.\n",
    "\n",
    "Example:\n",
    "```python\n",
    "import pandas as pd\n",
    "\n",
    "data = {'values': [10, 20, 30, 40, 50]}\n",
    "df = pd.DataFrame(data)\n",
    "\n",
    "rolling_mean = df['values'].rolling(window=2).mean()\n",
    "```\n",
    "\n",
    "2. **Expanding Window Functions**: These functions use a window that grows with each new data point.\n",
    "\n",
    "   - `.expanding().mean()`: Calculates the expanding mean.\n",
    "   - `.expanding().sum()`: Calculates the expanding sum.\n",
    "   - `.expanding().max()`: Calculates the expanding maximum.\n",
    "   - `.expanding().min()`: Calculates the expanding minimum.\n",
    "\n",
    "Example:\n",
    "```python\n",
    "import pandas as pd\n",
    "\n",
    "data = {'values': [10, 20, 30, 40, 50]}\n",
    "df = pd.DataFrame(data)\n",
    "\n",
    "expanding_mean = df['values'].expanding().mean()\n",
    "```\n",
    "\n",
    "3. **Exponential Moving Window Functions**: These functions apply more weight to recent data points, making them useful for time-series analysis.\n",
    "\n",
    "   - `.ewm().mean()`: Calculates the exponentially weighted moving average.\n",
    "   - `.ewm().var()`: Calculates the exponentially weighted moving variance.\n",
    "   - `.ewm().std()`: Calculates the exponentially weighted moving standard deviation.\n",
    "\n",
    "Example:\n",
    "```python\n",
    "import pandas as pd\n",
    "\n",
    "data = {'values': [10, 20, 30, 40, 50]}\n",
    "df = pd.DataFrame(data)\n",
    "\n",
    "ewm_mean = df['values'].ewm(span=2).mean()\n",
    "```\n",
    "\n",
    "These window functions allow us to analyze trends, patterns, and other characteristics of our data over specified windows. They are particularly useful when working with time-series data to gain insights into rolling statistics, moving averages, and other temporal aspects."
   ]
  },
  {
   "cell_type": "markdown",
   "id": "2503549e-f231-4526-a007-2c47ea3d979e",
   "metadata": {},
   "source": [
    "#### Q7. Write a code to print only the current month and year at the time of answering this question.\n",
    "#### [Hint: Use pandas.datetime function]"
   ]
  },
  {
   "cell_type": "code",
   "execution_count": 49,
   "id": "382d8466-8e09-4970-ad10-4e7bae67aa98",
   "metadata": {},
   "outputs": [
    {
     "name": "stdout",
     "output_type": "stream",
     "text": [
      "Current month is 08\n",
      "and current year 2023\n"
     ]
    }
   ],
   "source": [
    "import datetime\n",
    "current_datetime = datetime.datetime.now() #using datetime.now() functoin we get the current date time year\n",
    "c_year = current_datetime.strftime(\"%Y\") # we extract year using this function\n",
    "c_month = current_datetime.strftime(\"%m\") # we extract month using this function\n",
    "print(f'Current month is {c_month}')\n",
    "print(f'and current year {c_year}')"
   ]
  },
  {
   "cell_type": "markdown",
   "id": "e416e0ed-f89e-4fe3-9830-52880f3482bb",
   "metadata": {},
   "source": [
    "#### Q8. Write a Python program that takes in two dates as input (in the format YYYY-MM-DD) and calculates the  using Pandas time delta. The program should prompt the user to enter the dates and display the result."
   ]
  },
  {
   "cell_type": "code",
   "execution_count": 60,
   "id": "4b090a85-bf35-42c1-9564-13f43ee2be42",
   "metadata": {},
   "outputs": [
    {
     "name": "stdout",
     "output_type": "stream",
     "text": [
      "enter the 1st date in YYYY-MM-DD format: \n"
     ]
    },
    {
     "name": "stdin",
     "output_type": "stream",
     "text": [
      " 2022-01-09\n"
     ]
    },
    {
     "name": "stdout",
     "output_type": "stream",
     "text": [
      "enter the 2nd date in YYYY-MM-DD format: \n"
     ]
    },
    {
     "name": "stdin",
     "output_type": "stream",
     "text": [
      " 2024-01-09\n"
     ]
    },
    {
     "name": "stdout",
     "output_type": "stream",
     "text": [
      "difference between two days in 730 days 00:00:00 \n"
     ]
    }
   ],
   "source": [
    "import pandas as pd\n",
    "print(\"enter the 1st date in YYYY-MM-DD format: \" )\n",
    "date_inp1 = pd.to_datetime(input())\n",
    "print(\"enter the 2nd date in YYYY-MM-DD format: \" )\n",
    "date_inp2 = pd.to_datetime(input())\n",
    "diffTime = date_inp2-date_inp1\n",
    "diffTime\n",
    "print(f\"difference between two days in {diffTime} \" )"
   ]
  },
  {
   "cell_type": "markdown",
   "id": "0ec001f6-a504-4290-af6a-6d18b60edb7c",
   "metadata": {},
   "source": [
    "#### Q9. Write a Python program that reads a CSV file containing categorical data and converts a specified column to a categorical data type. The program should prompt the user to enter the file path, column name, and category order, and then display the sorted data."
   ]
  },
  {
   "cell_type": "code",
   "execution_count": 170,
   "id": "ef99d906-d371-444b-9aa2-a3ca5d803900",
   "metadata": {},
   "outputs": [
    {
     "name": "stdout",
     "output_type": "stream",
     "text": [
      "Enter the url Link : \n"
     ]
    },
    {
     "name": "stdin",
     "output_type": "stream",
     "text": [
      " SalesData.csv\n"
     ]
    },
    {
     "name": "stdout",
     "output_type": "stream",
     "text": [
      "Enter the culumn name : \n"
     ]
    },
    {
     "name": "stdin",
     "output_type": "stream",
     "text": [
      " STATUS\n"
     ]
    },
    {
     "name": "stdout",
     "output_type": "stream",
     "text": [
      "Enter the categorycal data using ','  : \n"
     ]
    },
    {
     "name": "stdin",
     "output_type": "stream",
     "text": [
      " Shipped\n"
     ]
    },
    {
     "data": {
      "text/html": [
       "<div>\n",
       "<style scoped>\n",
       "    .dataframe tbody tr th:only-of-type {\n",
       "        vertical-align: middle;\n",
       "    }\n",
       "\n",
       "    .dataframe tbody tr th {\n",
       "        vertical-align: top;\n",
       "    }\n",
       "\n",
       "    .dataframe thead th {\n",
       "        text-align: right;\n",
       "    }\n",
       "</style>\n",
       "<table border=\"1\" class=\"dataframe\">\n",
       "  <thead>\n",
       "    <tr style=\"text-align: right;\">\n",
       "      <th></th>\n",
       "      <th>ORDERNUMBER</th>\n",
       "      <th>QUANTITYORDERED</th>\n",
       "      <th>PRICEEACH</th>\n",
       "      <th>ORDERLINENUMBER</th>\n",
       "      <th>SALES</th>\n",
       "      <th>ORDERDATE</th>\n",
       "      <th>STATUS</th>\n",
       "      <th>QTR_ID</th>\n",
       "      <th>MONTH_ID</th>\n",
       "      <th>YEAR_ID</th>\n",
       "      <th>...</th>\n",
       "      <th>ADDRESSLINE1</th>\n",
       "      <th>ADDRESSLINE2</th>\n",
       "      <th>CITY</th>\n",
       "      <th>STATE</th>\n",
       "      <th>POSTALCODE</th>\n",
       "      <th>COUNTRY</th>\n",
       "      <th>TERRITORY</th>\n",
       "      <th>CONTACTLASTNAME</th>\n",
       "      <th>CONTACTFIRSTNAME</th>\n",
       "      <th>DEALSIZE</th>\n",
       "    </tr>\n",
       "  </thead>\n",
       "  <tbody>\n",
       "    <tr>\n",
       "      <th>0</th>\n",
       "      <td>10107</td>\n",
       "      <td>30</td>\n",
       "      <td>95.70</td>\n",
       "      <td>2</td>\n",
       "      <td>2871.00</td>\n",
       "      <td>2/24/2003 0:00</td>\n",
       "      <td>Shipped</td>\n",
       "      <td>1</td>\n",
       "      <td>2</td>\n",
       "      <td>2003</td>\n",
       "      <td>...</td>\n",
       "      <td>897 Long Airport Avenue</td>\n",
       "      <td>NaN</td>\n",
       "      <td>NYC</td>\n",
       "      <td>NY</td>\n",
       "      <td>10022</td>\n",
       "      <td>USA</td>\n",
       "      <td>NaN</td>\n",
       "      <td>Yu</td>\n",
       "      <td>Kwai</td>\n",
       "      <td>Small</td>\n",
       "    </tr>\n",
       "    <tr>\n",
       "      <th>1865</th>\n",
       "      <td>10380</td>\n",
       "      <td>44</td>\n",
       "      <td>79.06</td>\n",
       "      <td>9</td>\n",
       "      <td>3478.64</td>\n",
       "      <td>2/16/2005 0:00</td>\n",
       "      <td>Shipped</td>\n",
       "      <td>1</td>\n",
       "      <td>2</td>\n",
       "      <td>2005</td>\n",
       "      <td>...</td>\n",
       "      <td>C/ Moralzarzal, 86</td>\n",
       "      <td>NaN</td>\n",
       "      <td>Madrid</td>\n",
       "      <td>NaN</td>\n",
       "      <td>28034</td>\n",
       "      <td>Spain</td>\n",
       "      <td>EMEA</td>\n",
       "      <td>Freyre</td>\n",
       "      <td>Diego</td>\n",
       "      <td>Medium</td>\n",
       "    </tr>\n",
       "    <tr>\n",
       "      <th>1868</th>\n",
       "      <td>10108</td>\n",
       "      <td>30</td>\n",
       "      <td>63.07</td>\n",
       "      <td>5</td>\n",
       "      <td>1892.10</td>\n",
       "      <td>03-03-2003 00:00</td>\n",
       "      <td>Shipped</td>\n",
       "      <td>1</td>\n",
       "      <td>3</td>\n",
       "      <td>2003</td>\n",
       "      <td>...</td>\n",
       "      <td>15 McCallum Street - NatWest Center #13-03</td>\n",
       "      <td>NaN</td>\n",
       "      <td>Makati City</td>\n",
       "      <td>NaN</td>\n",
       "      <td>1227 MM</td>\n",
       "      <td>Philippines</td>\n",
       "      <td>Japan</td>\n",
       "      <td>Cruz</td>\n",
       "      <td>Arnold</td>\n",
       "      <td>Small</td>\n",
       "    </tr>\n",
       "    <tr>\n",
       "      <th>1869</th>\n",
       "      <td>10122</td>\n",
       "      <td>34</td>\n",
       "      <td>50.21</td>\n",
       "      <td>9</td>\n",
       "      <td>1707.14</td>\n",
       "      <td>05-08-2003 00:00</td>\n",
       "      <td>Shipped</td>\n",
       "      <td>2</td>\n",
       "      <td>5</td>\n",
       "      <td>2003</td>\n",
       "      <td>...</td>\n",
       "      <td>12, rue des Bouchers</td>\n",
       "      <td>NaN</td>\n",
       "      <td>Marseille</td>\n",
       "      <td>NaN</td>\n",
       "      <td>13008</td>\n",
       "      <td>France</td>\n",
       "      <td>EMEA</td>\n",
       "      <td>Lebihan</td>\n",
       "      <td>Laurence</td>\n",
       "      <td>Small</td>\n",
       "    </tr>\n",
       "    <tr>\n",
       "      <th>1870</th>\n",
       "      <td>10135</td>\n",
       "      <td>27</td>\n",
       "      <td>66.13</td>\n",
       "      <td>6</td>\n",
       "      <td>1785.51</td>\n",
       "      <td>07-02-2003 00:00</td>\n",
       "      <td>Shipped</td>\n",
       "      <td>3</td>\n",
       "      <td>7</td>\n",
       "      <td>2003</td>\n",
       "      <td>...</td>\n",
       "      <td>5677 Strong St.</td>\n",
       "      <td>NaN</td>\n",
       "      <td>San Rafael</td>\n",
       "      <td>CA</td>\n",
       "      <td>97562</td>\n",
       "      <td>USA</td>\n",
       "      <td>NaN</td>\n",
       "      <td>Nelson</td>\n",
       "      <td>Valarie</td>\n",
       "      <td>Small</td>\n",
       "    </tr>\n",
       "    <tr>\n",
       "      <th>...</th>\n",
       "      <td>...</td>\n",
       "      <td>...</td>\n",
       "      <td>...</td>\n",
       "      <td>...</td>\n",
       "      <td>...</td>\n",
       "      <td>...</td>\n",
       "      <td>...</td>\n",
       "      <td>...</td>\n",
       "      <td>...</td>\n",
       "      <td>...</td>\n",
       "      <td>...</td>\n",
       "      <td>...</td>\n",
       "      <td>...</td>\n",
       "      <td>...</td>\n",
       "      <td>...</td>\n",
       "      <td>...</td>\n",
       "      <td>...</td>\n",
       "      <td>...</td>\n",
       "      <td>...</td>\n",
       "      <td>...</td>\n",
       "      <td>...</td>\n",
       "    </tr>\n",
       "    <tr>\n",
       "      <th>2802</th>\n",
       "      <td>10167</td>\n",
       "      <td>38</td>\n",
       "      <td>48.59</td>\n",
       "      <td>15</td>\n",
       "      <td>1846.42</td>\n",
       "      <td>10/23/2003 0:00</td>\n",
       "      <td>NaN</td>\n",
       "      <td>4</td>\n",
       "      <td>10</td>\n",
       "      <td>2003</td>\n",
       "      <td>...</td>\n",
       "      <td>?kergatan 24</td>\n",
       "      <td>NaN</td>\n",
       "      <td>Boras</td>\n",
       "      <td>NaN</td>\n",
       "      <td>S-844 67</td>\n",
       "      <td>Sweden</td>\n",
       "      <td>EMEA</td>\n",
       "      <td>Larsson</td>\n",
       "      <td>Maria</td>\n",
       "      <td>Small</td>\n",
       "    </tr>\n",
       "    <tr>\n",
       "      <th>2809</th>\n",
       "      <td>10248</td>\n",
       "      <td>23</td>\n",
       "      <td>65.52</td>\n",
       "      <td>9</td>\n",
       "      <td>1506.96</td>\n",
       "      <td>05-07-2004 00:00</td>\n",
       "      <td>NaN</td>\n",
       "      <td>2</td>\n",
       "      <td>5</td>\n",
       "      <td>2004</td>\n",
       "      <td>...</td>\n",
       "      <td>897 Long Airport Avenue</td>\n",
       "      <td>NaN</td>\n",
       "      <td>NYC</td>\n",
       "      <td>NY</td>\n",
       "      <td>10022</td>\n",
       "      <td>USA</td>\n",
       "      <td>NaN</td>\n",
       "      <td>Yu</td>\n",
       "      <td>Kwai</td>\n",
       "      <td>Small</td>\n",
       "    </tr>\n",
       "    <tr>\n",
       "      <th>2816</th>\n",
       "      <td>10327</td>\n",
       "      <td>37</td>\n",
       "      <td>86.74</td>\n",
       "      <td>4</td>\n",
       "      <td>3209.38</td>\n",
       "      <td>11-10-2004 00:00</td>\n",
       "      <td>NaN</td>\n",
       "      <td>4</td>\n",
       "      <td>11</td>\n",
       "      <td>2004</td>\n",
       "      <td>...</td>\n",
       "      <td>Vinb'ltet 34</td>\n",
       "      <td>NaN</td>\n",
       "      <td>Kobenhavn</td>\n",
       "      <td>NaN</td>\n",
       "      <td>1734</td>\n",
       "      <td>Denmark</td>\n",
       "      <td>EMEA</td>\n",
       "      <td>Petersen</td>\n",
       "      <td>Jytte</td>\n",
       "      <td>Medium</td>\n",
       "    </tr>\n",
       "    <tr>\n",
       "      <th>2820</th>\n",
       "      <td>10386</td>\n",
       "      <td>43</td>\n",
       "      <td>100.00</td>\n",
       "      <td>4</td>\n",
       "      <td>5417.57</td>\n",
       "      <td>03-01-2005 00:00</td>\n",
       "      <td>NaN</td>\n",
       "      <td>1</td>\n",
       "      <td>3</td>\n",
       "      <td>2005</td>\n",
       "      <td>...</td>\n",
       "      <td>C/ Moralzarzal, 86</td>\n",
       "      <td>NaN</td>\n",
       "      <td>Madrid</td>\n",
       "      <td>NaN</td>\n",
       "      <td>28034</td>\n",
       "      <td>Spain</td>\n",
       "      <td>EMEA</td>\n",
       "      <td>Freyre</td>\n",
       "      <td>Diego</td>\n",
       "      <td>Medium</td>\n",
       "    </tr>\n",
       "    <tr>\n",
       "      <th>2822</th>\n",
       "      <td>10414</td>\n",
       "      <td>47</td>\n",
       "      <td>65.52</td>\n",
       "      <td>9</td>\n",
       "      <td>3079.44</td>\n",
       "      <td>05-06-2005 00:00</td>\n",
       "      <td>NaN</td>\n",
       "      <td>2</td>\n",
       "      <td>5</td>\n",
       "      <td>2005</td>\n",
       "      <td>...</td>\n",
       "      <td>8616 Spinnaker Dr.</td>\n",
       "      <td>NaN</td>\n",
       "      <td>Boston</td>\n",
       "      <td>MA</td>\n",
       "      <td>51003</td>\n",
       "      <td>USA</td>\n",
       "      <td>NaN</td>\n",
       "      <td>Yoshido</td>\n",
       "      <td>Juri</td>\n",
       "      <td>Medium</td>\n",
       "    </tr>\n",
       "  </tbody>\n",
       "</table>\n",
       "<p>2823 rows × 25 columns</p>\n",
       "</div>"
      ],
      "text/plain": [
       "      ORDERNUMBER  QUANTITYORDERED  PRICEEACH  ORDERLINENUMBER    SALES  \\\n",
       "0           10107               30      95.70                2  2871.00   \n",
       "1865        10380               44      79.06                9  3478.64   \n",
       "1868        10108               30      63.07                5  1892.10   \n",
       "1869        10122               34      50.21                9  1707.14   \n",
       "1870        10135               27      66.13                6  1785.51   \n",
       "...           ...              ...        ...              ...      ...   \n",
       "2802        10167               38      48.59               15  1846.42   \n",
       "2809        10248               23      65.52                9  1506.96   \n",
       "2816        10327               37      86.74                4  3209.38   \n",
       "2820        10386               43     100.00                4  5417.57   \n",
       "2822        10414               47      65.52                9  3079.44   \n",
       "\n",
       "             ORDERDATE   STATUS  QTR_ID  MONTH_ID  YEAR_ID  ...  \\\n",
       "0       2/24/2003 0:00  Shipped       1         2     2003  ...   \n",
       "1865    2/16/2005 0:00  Shipped       1         2     2005  ...   \n",
       "1868  03-03-2003 00:00  Shipped       1         3     2003  ...   \n",
       "1869  05-08-2003 00:00  Shipped       2         5     2003  ...   \n",
       "1870  07-02-2003 00:00  Shipped       3         7     2003  ...   \n",
       "...                ...      ...     ...       ...      ...  ...   \n",
       "2802   10/23/2003 0:00      NaN       4        10     2003  ...   \n",
       "2809  05-07-2004 00:00      NaN       2         5     2004  ...   \n",
       "2816  11-10-2004 00:00      NaN       4        11     2004  ...   \n",
       "2820  03-01-2005 00:00      NaN       1         3     2005  ...   \n",
       "2822  05-06-2005 00:00      NaN       2         5     2005  ...   \n",
       "\n",
       "                                    ADDRESSLINE1  ADDRESSLINE2         CITY  \\\n",
       "0                        897 Long Airport Avenue           NaN          NYC   \n",
       "1865                          C/ Moralzarzal, 86           NaN       Madrid   \n",
       "1868  15 McCallum Street - NatWest Center #13-03           NaN  Makati City   \n",
       "1869                        12, rue des Bouchers           NaN    Marseille   \n",
       "1870                             5677 Strong St.           NaN   San Rafael   \n",
       "...                                          ...           ...          ...   \n",
       "2802                                ?kergatan 24           NaN        Boras   \n",
       "2809                     897 Long Airport Avenue           NaN          NYC   \n",
       "2816                                Vinb'ltet 34           NaN    Kobenhavn   \n",
       "2820                          C/ Moralzarzal, 86           NaN       Madrid   \n",
       "2822                          8616 Spinnaker Dr.           NaN       Boston   \n",
       "\n",
       "     STATE POSTALCODE      COUNTRY TERRITORY CONTACTLASTNAME CONTACTFIRSTNAME  \\\n",
       "0       NY      10022          USA       NaN              Yu             Kwai   \n",
       "1865   NaN      28034        Spain      EMEA          Freyre            Diego   \n",
       "1868   NaN    1227 MM  Philippines     Japan            Cruz           Arnold   \n",
       "1869   NaN      13008       France      EMEA         Lebihan         Laurence   \n",
       "1870    CA      97562          USA       NaN          Nelson          Valarie   \n",
       "...    ...        ...          ...       ...             ...              ...   \n",
       "2802   NaN   S-844 67       Sweden      EMEA         Larsson            Maria   \n",
       "2809    NY      10022          USA       NaN              Yu             Kwai   \n",
       "2816   NaN       1734      Denmark      EMEA        Petersen            Jytte   \n",
       "2820   NaN      28034        Spain      EMEA          Freyre            Diego   \n",
       "2822    MA      51003          USA       NaN         Yoshido             Juri   \n",
       "\n",
       "     DEALSIZE  \n",
       "0       Small  \n",
       "1865   Medium  \n",
       "1868    Small  \n",
       "1869    Small  \n",
       "1870    Small  \n",
       "...       ...  \n",
       "2802    Small  \n",
       "2809    Small  \n",
       "2816   Medium  \n",
       "2820   Medium  \n",
       "2822   Medium  \n",
       "\n",
       "[2823 rows x 25 columns]"
      ]
     },
     "execution_count": 170,
     "metadata": {},
     "output_type": "execute_result"
    }
   ],
   "source": [
    "import pandas as pd\n",
    "print(\"Enter the url Link : \")\n",
    "df = pd.read_csv(str(input()))\n",
    "print(\"Enter the culumn name : \")\n",
    "column_name = input()\n",
    "print(\"Enter the categorycal data using ','  : \")\n",
    "category_input = input().split(',') \n",
    "category_order = [item.strip() for item in category_input] # using internal function we remove the data \n",
    "df1 =  pd.DataFrame(df)\n",
    "df1[column_name]= pd.Categorical(df[column_name],categories = category_order, ordered= True) # we categori this df by categorical input\n",
    "sorted_df = df1.sort_values(by=column_name) # in this line store all rows bu column name \n",
    "sorted_df"
   ]
  },
  {
   "cell_type": "markdown",
   "id": "3f20d7c7-668f-42bb-8d7d-04b1b2eb2c9b",
   "metadata": {},
   "source": [
    "#### Q10. Write a Python program that reads a CSV file containing sales data for different products and visualizes the data using a stacked bar chart to show the sales of each product category over time. The program should prompt the user to enter the file path and display the chart."
   ]
  },
  {
   "cell_type": "code",
   "execution_count": 11,
   "id": "4a2fa7a7-d133-486f-82c2-28d85d156e30",
   "metadata": {},
   "outputs": [
    {
     "name": "stdout",
     "output_type": "stream",
     "text": [
      "Enter the url Link : \n"
     ]
    },
    {
     "name": "stdin",
     "output_type": "stream",
     "text": [
      " Sales Data.csv\n"
     ]
    },
    {
     "name": "stdout",
     "output_type": "stream",
     "text": [
      "Enter the product culumn name : \n"
     ]
    },
    {
     "name": "stdin",
     "output_type": "stream",
     "text": [
      " Description\n"
     ]
    },
    {
     "name": "stdout",
     "output_type": "stream",
     "text": [
      "Enter the Sales amount column name : \n"
     ]
    },
    {
     "name": "stdin",
     "output_type": "stream",
     "text": [
      " TaxableValue\n"
     ]
    },
    {
     "data": {
      "text/plain": [
       "<AxesSubplot: xlabel='Description'>"
      ]
     },
     "execution_count": 11,
     "metadata": {},
     "output_type": "execute_result"
    },
    {
     "data": {
      "image/png": "[encoded data removed]",
      "text/plain": [
       "<Figure size 640x480 with 1 Axes>"
      ]
     },
     "metadata": {},
     "output_type": "display_data"
    }
   ],
   "source": [
    "import pandas as pd \n",
    "print(\"Enter the url Link : \")\n",
    "df = pd.read_csv(str(input()))\n",
    "print(\"Enter the product culumn name : \")\n",
    "Product_name = input()\n",
    "print(\"Enter the Sales amount column name : \")\n",
    "Amount_Name = input()\n",
    "df.plot(x = Product_name, y = Amount_Name, kind = 'bar')  # in this line using plot function we can plot the product name and their Value "
   ]
  },
  {
   "cell_type": "markdown",
   "id": "901e77e8-a405-4d00-a697-452b180e3588",
   "metadata": {},
   "source": [
    "#### Q11. You are given a CSV file containing student data that includes the student ID and their test score. Write a Python program that reads the CSV file, calculates the mean, median, and mode of the test scores, and displays the results in a table.\n",
    "#### The program should do the following:\n",
    "#### 1 Prompt the user to enter the file path of the CSV file containing the student data.\n",
    "#### 2 Read the CSV file into a Pandas DataFrame.\n",
    "#### 3 Calculate the mean, median, and mode of the test scores using Pandas tools.\n",
    "#### 4 Display the mean, median, and mode in a table.\n",
    "#### Assume the CSV file contains the following columns:\n",
    "#### 1 Student ID: The ID of the student.\n",
    "#### 2 Test Score: The score of the student's test.\n",
    "#### Example usage of the program:\n",
    "#### Enter the file path of the CSV file containing the student data: student_data.csv\n",
    "\n",
    "```\n",
    "+-----------+--------+\n",
    "| Statistic | Value  |\n",
    "+-----------+--------+\n",
    "| Mean      | 79.6   |\n",
    "| Median    | 82     |\n",
    "| Mode      | 85.90  |\n",
    "+-----------+--------+\n",
    "````\n",
    "#### Assume that the CSV file student_data.csv contains the following data:\n",
    "#### Student ID,Test Score\n",
    "\n",
    "#### 1,85\n",
    "#### 2,90\n",
    "#### 3,80\n",
    "#### 4,75\n",
    "#### 5,85\n",
    "#### 6,82\n",
    "#### 7,78\n",
    "#### 8,85\n",
    "#### 9,90\n",
    "#### 10,85\n",
    "\n",
    "#### The program should calculate the mean, median, and mode of the test scores and display the results in a table."
   ]
  },
  {
   "cell_type": "code",
   "execution_count": 72,
   "id": "a620879e-d8d9-481d-90d6-0ce036646d11",
   "metadata": {},
   "outputs": [
    {
     "name": "stdout",
     "output_type": "stream",
     "text": [
      "Enter the url Link : \n"
     ]
    },
    {
     "name": "stdin",
     "output_type": "stream",
     "text": [
      " student data.csv\n"
     ]
    },
    {
     "name": "stdout",
     "output_type": "stream",
     "text": [
      "Enter the product culumn name of Student score : \n"
     ]
    },
    {
     "name": "stdin",
     "output_type": "stream",
     "text": [
      " test score\n"
     ]
    },
    {
     "data": {
      "text/html": [
       "<div>\n",
       "<style scoped>\n",
       "    .dataframe tbody tr th:only-of-type {\n",
       "        vertical-align: middle;\n",
       "    }\n",
       "\n",
       "    .dataframe tbody tr th {\n",
       "        vertical-align: top;\n",
       "    }\n",
       "\n",
       "    .dataframe thead th {\n",
       "        text-align: right;\n",
       "    }\n",
       "</style>\n",
       "<table border=\"1\" class=\"dataframe\">\n",
       "  <thead>\n",
       "    <tr style=\"text-align: right;\">\n",
       "      <th></th>\n",
       "      <th>Value</th>\n",
       "    </tr>\n",
       "    <tr>\n",
       "      <th>Statistic</th>\n",
       "      <th></th>\n",
       "    </tr>\n",
       "  </thead>\n",
       "  <tbody>\n",
       "    <tr>\n",
       "      <th>Mean</th>\n",
       "      <td>83.5</td>\n",
       "    </tr>\n",
       "    <tr>\n",
       "      <th>Median</th>\n",
       "      <td>85.0</td>\n",
       "    </tr>\n",
       "    <tr>\n",
       "      <th>Mode</th>\n",
       "      <td>85.0</td>\n",
       "    </tr>\n",
       "  </tbody>\n",
       "</table>\n",
       "</div>"
      ],
      "text/plain": [
       "           Value\n",
       "Statistic       \n",
       "Mean        83.5\n",
       "Median      85.0\n",
       "Mode        85.0"
      ]
     },
     "execution_count": 72,
     "metadata": {},
     "output_type": "execute_result"
    }
   ],
   "source": [
    "import pandas as pd \n",
    "print(\"Enter the url Link : \")\n",
    "df = pd.read_csv(str(input()))\n",
    "\n",
    "print(\"Enter the product culumn name of Student score : \")\n",
    "test_Score = input()\n",
    "mean = float(df[str(test_Score)].mean())\n",
    "median = float(df[str(test_Score)].median())\n",
    "mode = float(df[str(test_Score)].mode())\n",
    "data = [mean,median,mode]\n",
    "column = ['Statistic','Value']\n",
    "index = ['Mean','Median','Mode']\n",
    "student_data = pd.DataFrame({'Statistic': index,\n",
    "                             'Value':data\n",
    "                            })\n",
    "student_data.set_index('Statistic', inplace= True)\n",
    "student_data\n"
   ]
  }
 ],
 "metadata": {
  "kernelspec": {
   "display_name": "Python 3 (ipykernel)",
   "language": "python",
   "name": "python3"
  },
  "language_info": {
   "codemirror_mode": {
    "name": "ipython",
    "version": 3
   },
   "file_extension": ".py",
   "mimetype": "text/x-python",
   "name": "python",
   "nbconvert_exporter": "python",
   "pygments_lexer": "ipython3",
   "version": "3.10.6"
  }
 },
 "nbformat": 4,
 "nbformat_minor": 5
}
