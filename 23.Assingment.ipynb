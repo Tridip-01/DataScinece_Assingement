{
 "cells": [
  {
   "cell_type": "code",
   "execution_count": 2,
   "id": "2b0fa93b-a035-4cfb-bf8c-6f32197672c0",
   "metadata": {},
   "outputs": [
    {
     "data": {
      "text/plain": [
       "array(['1', '2', '3', '4', '5'], dtype='<U1')"
      ]
     },
     "execution_count": 2,
     "metadata": {},
     "output_type": "execute_result"
    }
   ],
   "source": [
    "import numpy as np\n",
    "list_ = [ '1' , '2' , '3' , '4' , '5' ]\n",
    "array_list = np.array(object = list_)\n",
    "array_list "
   ]
  },
  {
   "cell_type": "markdown",
   "id": "3f6b9bf1-3b95-4e50-a9e7-a76eada0f579",
   "metadata": {},
   "source": [
    "Q1. Is there any difference in the data type of variables list_ and array_list? If there is then write a code\n",
    "to print the data types of both the variables."
   ]
  },
  {
   "cell_type": "markdown",
   "id": "30e859ae-3983-4e76-97bd-0991833f03d7",
   "metadata": {},
   "source": [
    "List \n",
    "\n",
    "> A List is a basic data structure in Python.\n",
    "> It is a collection of elements, and these elements can be different data types, such as string, integers, floats or even a list.\n",
    "> Lists are flexible and can grow or shrink in size as needed.\n",
    "> List are represented as a simple sequence of elements enclosed in square brackets '[]'.\n",
    "\n",
    "For Example of a list :\n"
   ]
  },
  {
   "cell_type": "code",
   "execution_count": 3,
   "id": "58069fd6-9117-4073-be6e-e4ad94b8d141",
   "metadata": {},
   "outputs": [
    {
     "name": "stdout",
     "output_type": "stream",
     "text": [
      "['1', '2', '3', '4', '5']\n"
     ]
    }
   ],
   "source": [
    "print(list_)"
   ]
  },
  {
   "cell_type": "markdown",
   "id": "322b0af5-afab-4f72-af3f-4c304a4cfa00",
   "metadata": {},
   "source": [
    "Array\n",
    "> An array, particularly in the context of Numpy, is a datat Structure used for numerical computatuins.\n",
    "> It is a honoogeneous collection of elements, meaning that all elements within an array must be of the same data type (for exeample all integers or all floats).\n",
    "> Arrays are typically multi-dimensional and can have one or more dimensions. This allows them to represent data as grid or matrices, whic is praticularly useful in specific and numerical computing.\n",
    "> Arrayd are represented using NumPy's 'np,array() function\n",
    "\n",
    "For exeample of a array:\n"
   ]
  },
  {
   "cell_type": "code",
   "execution_count": 4,
   "id": "2e3cdaf7-705e-469e-8693-43e4808e516d",
   "metadata": {},
   "outputs": [
    {
     "name": "stdout",
     "output_type": "stream",
     "text": [
      "['1' '2' '3' '4' '5']\n"
     ]
    }
   ],
   "source": [
    "print(array_list) #after we creating a list eliments then we convert this list into array using np.array function"
   ]
  },
  {
   "cell_type": "code",
   "execution_count": 8,
   "id": "55cb4886-61d2-4121-81e4-035991845583",
   "metadata": {},
   "outputs": [
    {
     "data": {
      "text/plain": [
       "list"
      ]
     },
     "execution_count": 8,
     "metadata": {},
     "output_type": "execute_result"
    }
   ],
   "source": [
    "type(list_) # this function is use for printing the datatypes of a lsit\n"
   ]
  },
  {
   "cell_type": "code",
   "execution_count": 10,
   "id": "e2da445c-16dd-4558-afac-14a5bc9044fe",
   "metadata": {},
   "outputs": [
    {
     "data": {
      "text/plain": [
       "numpy.ndarray"
      ]
     },
     "execution_count": 10,
     "metadata": {},
     "output_type": "execute_result"
    }
   ],
   "source": [
    "type(array_list) # using the same sunction we can get the datatypes of array."
   ]
  },
  {
   "cell_type": "markdown",
   "id": "7839af8c-8c11-4384-82a4-822ee2187cf8",
   "metadata": {},
   "source": [
    "Q2. Write a code to print the data type of each and every element of both the variables list_ and\n",
    "arra_list."
   ]
  },
  {
   "cell_type": "markdown",
   "id": "ef2bef51-7186-42bc-91e8-e4e8b27e0f77",
   "metadata": {},
   "source": [
    "We can use to iterate through each eliments of both the list and array_list veriables and print data type of each eliment. Here's the code to do that:"
   ]
  },
  {
   "cell_type": "code",
   "execution_count": 16,
   "id": "a2de726d-36e6-4eeb-905f-389b5e867b61",
   "metadata": {},
   "outputs": [
    {
     "name": "stdout",
     "output_type": "stream",
     "text": [
      "Data types in List_ : \n",
      "<class 'str'>\n",
      "<class 'str'>\n",
      "<class 'str'>\n",
      "<class 'str'>\n",
      "<class 'str'>\n",
      "\n",
      "Data types in array_list : \n",
      "<class 'numpy.str_'>\n",
      "<class 'numpy.str_'>\n",
      "<class 'numpy.str_'>\n",
      "<class 'numpy.str_'>\n",
      "<class 'numpy.str_'>\n"
     ]
    }
   ],
   "source": [
    "# Print the data type of each elements in the list\n",
    "print(\"Data types in List_ : \")\n",
    "for eliments in list_ :\n",
    "    print(type(eliments))\n",
    "\n",
    "# Print the data tpes of each elements in the NumPy array  \n",
    "print(\"\\nData types in array_list : \")\n",
    "for elements in array_list :\n",
    "    print(type(elements))"
   ]
  },
  {
   "cell_type": "markdown",
   "id": "31791443-299c-4454-94a5-f2a01410fd72",
   "metadata": {},
   "source": [
    "Q3. Considering the following changes in the variable, array_list:\n",
    "\n",
    "array_list = np.array(object = list_, dtype = int)\n",
    "\n",
    "Will there be any difference in the data type of the elements present in both the variables, list_ and\n",
    "arra_list? If so then print the data types of each and every element present in both the variables, list_\n",
    "and arra_list."
   ]
  },
  {
   "cell_type": "markdown",
   "id": "18647f41-364e-4cf7-a01b-d2d7c15d08f4",
   "metadata": {},
   "source": [
    "Yes there will be difference in the data type of the eliments between 'list_' and array_list after changeing the dtype into the np.array functions, it becically converts all element's data types in int from string. In the below code dtype = int converts the elemants in list_ to interes when creating array_list. As a result, the data types of the elements in array_list will all be integers, even if some elements in the original list_ where of other data types."
   ]
  },
  {
   "cell_type": "code",
   "execution_count": 27,
   "id": "fdf986bd-b6fe-4eff-8f9f-c579da2518cc",
   "metadata": {},
   "outputs": [
    {
     "name": "stdout",
     "output_type": "stream",
     "text": [
      "Data types in List_ : \n",
      "<class 'str'>\n",
      "<class 'str'>\n",
      "<class 'str'>\n",
      "<class 'str'>\n",
      "<class 'str'>\n",
      "\n",
      "Data types in array_list : \n",
      "<class 'numpy.int64'>\n",
      "<class 'numpy.int64'>\n",
      "<class 'numpy.int64'>\n",
      "<class 'numpy.int64'>\n",
      "<class 'numpy.int64'>\n"
     ]
    }
   ],
   "source": [
    "array_list = np.array(object = list_, dtype = int)\n",
    "array_list\n",
    "\n",
    "# Print the data type of each elements in the list\n",
    "print(\"Data types in List_ : \")\n",
    "for eliments in list_ :\n",
    "    print(type(eliments))\n",
    "\n",
    "# Print the data tpes of each elements in the NumPy array  \n",
    "print(\"\\nData types in array_list : \")\n",
    "for elements in array_list :\n",
    "    print(type(elements))"
   ]
  },
  {
   "cell_type": "markdown",
   "id": "a32d0649-ef6a-4074-9b79-090417d3786a",
   "metadata": {},
   "source": [
    "Consider the below code to answer further questions:"
   ]
  },
  {
   "cell_type": "code",
   "execution_count": 29,
   "id": "f56b5a93-8420-496c-aebe-b5fb3148a4e5",
   "metadata": {},
   "outputs": [],
   "source": [
    "import numpy as np\n",
    "num_list = [[1,2,3],[4,5,6]]\n",
    "num_array = np.array(object = num_list)"
   ]
  },
  {
   "cell_type": "markdown",
   "id": "2dc2b403-3efa-4a7f-9ab5-b266fb108711",
   "metadata": {},
   "source": [
    "Q4. Write a code to find the following characteristics of variable, num_array:\n",
    "(i) shape\n",
    "(ii) size"
   ]
  },
  {
   "cell_type": "markdown",
   "id": "75d4e6c0-b8b1-42e1-befd-0ebf6b63a1f9",
   "metadata": {},
   "source": [
    "Using the above code we create a num_array (Numpy array), and the array is two dimentional array and we can find out the shape of the array using the following code :"
   ]
  },
  {
   "cell_type": "code",
   "execution_count": 39,
   "id": "cc7f6128-a775-4bf9-87e6-c4fdb63daa09",
   "metadata": {},
   "outputs": [
    {
     "name": "stdout",
     "output_type": "stream",
     "text": [
      "Number if row is : 2 and number of columns is : 3\n"
     ]
    }
   ],
   "source": [
    "num_array.shape # 2 menans number of row and 3 is number of column\n",
    "\n",
    " \n",
    "print('Number if row is :',num_array.shape[0], 'and number of columns is :',num_array.shape[1])"
   ]
  },
  {
   "cell_type": "markdown",
   "id": "fdd6376c-517c-447d-899f-dcc874212f01",
   "metadata": {},
   "source": [
    "and using the size arttributes we can find out the size of array means the number of eliments we have :"
   ]
  },
  {
   "cell_type": "code",
   "execution_count": 43,
   "id": "04889726-c5fa-4ea9-8249-995ace7876e0",
   "metadata": {},
   "outputs": [
    {
     "name": "stdout",
     "output_type": "stream",
     "text": [
      "Numebr of elements we have : 6\n"
     ]
    }
   ],
   "source": [
    "num_array.size\n",
    "print ('Numebr of elements we have :' , num_array.size) "
   ]
  },
  {
   "cell_type": "markdown",
   "id": "648a973a-b174-433c-8d6f-ac2783910226",
   "metadata": {},
   "source": [
    "Q5. Write a code to create numpy array of 3*3 matrix containing zeros only, using a numpy array\n",
    "creation function.\n",
    "[Hint: The size of the array will be 9 and the shape will be (3,3).]"
   ]
  },
  {
   "cell_type": "code",
   "execution_count": 53,
   "id": "489bebe1-a16a-4915-91e7-8651bf391aaf",
   "metadata": {},
   "outputs": [
    {
     "name": "stdout",
     "output_type": "stream",
     "text": [
      "(3, 3)\n",
      "9\n"
     ]
    }
   ],
   "source": [
    "#Using the np.zeros functions we can create 3*3 matrix containing zeros,\n",
    "size = (3,3)\n",
    "array_zeros = np.zeros(size)\n",
    "\n",
    "\n",
    "print(array_zeros.shape)  # Using shape fucntion we can chechk the size of array (3,3)\n",
    "print(array_zeros.size)   # Usign the size function we can create the shape of array 9"
   ]
  },
  {
   "cell_type": "markdown",
   "id": "bf98fc74-c3a8-41cb-8e50-14ae9188b72a",
   "metadata": {},
   "source": [
    "Q6. Create an identity matrix of shape (5,5) using numpy functions?\n",
    "[Hint: An identity matrix is a matrix containing 1 diagonally and other elements will be 0.]"
   ]
  },
  {
   "cell_type": "code",
   "execution_count": 60,
   "id": "7a86db1f-781e-4bda-afeb-0098b9934639",
   "metadata": {},
   "outputs": [
    {
     "data": {
      "text/plain": [
       "array([[1., 0., 0., 0., 0.],\n",
       "       [0., 1., 0., 0., 0.],\n",
       "       [0., 0., 1., 0., 0.],\n",
       "       [0., 0., 0., 1., 0.],\n",
       "       [0., 0., 0., 0., 1.]])"
      ]
     },
     "execution_count": 60,
     "metadata": {},
     "output_type": "execute_result"
    }
   ],
   "source": [
    "# Uding the below code we can create the identity matrix of 5 eliments 1 and other id 0\n",
    "array_identity = np.identity(5)\n",
    "array_identity\n"
   ]
  },
  {
   "cell_type": "code",
   "execution_count": null,
   "id": "f2219953-9ad1-4c47-b099-cca3a5b6ef61",
   "metadata": {},
   "outputs": [],
   "source": []
  }
 ],
 "metadata": {
  "kernelspec": {
   "display_name": "Python 3 (ipykernel)",
   "language": "python",
   "name": "python3"
  },
  "language_info": {
   "codemirror_mode": {
    "name": "ipython",
    "version": 3
   },
   "file_extension": ".py",
   "mimetype": "text/x-python",
   "name": "python",
   "nbconvert_exporter": "python",
   "pygments_lexer": "ipython3",
   "version": "3.10.6"
  }
 },
 "nbformat": 4,
 "nbformat_minor": 5
}
