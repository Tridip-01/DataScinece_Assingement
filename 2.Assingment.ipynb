{
 "cells": [
  {
   "cell_type": "markdown",
   "id": "a6c1d9d1-bbc3-479f-a283-3c54465b03f6",
   "metadata": {},
   "source": [
    "Q1. How do you comment code in Python? What are the different types of comments?"
   ]
  },
  {
   "cell_type": "raw",
   "id": "ec6d94e1-ed4f-4757-990e-766f3304cfdf",
   "metadata": {},
   "source": [
    "Comments are lines of text of code,it make more understandable. The lines of text that are ignored by the Python interpreter and are meant for human readers. There are two types of comments,\n",
    "\n",
    "One is singleline comments start with the (#) symbol for example:\n",
    "# This is a singleline comment\n",
    "print(\"Tridip Karmakar\")\n",
    "\n",
    "Second is multiline comments or block comments, are used for adding comments that span multiple lines. It is use triple quotes (''' or \"\"\") to achieve the same effect for example.\n",
    "\n",
    "\"\"\"\n",
    "This is a multiline comment.\n",
    "We can use it in paragraph or more than one line comment.\n",
    "\"\"\"\n",
    "print(\"Tridip Karmakar\")\n",
    "\n"
   ]
  },
  {
   "cell_type": "markdown",
   "id": "1cadc191-a702-4401-a58a-bbc77260d7ab",
   "metadata": {},
   "source": [
    "Q2. What are variables in Python? How do you declare and assign values to variables?"
   ]
  },
  {
   "cell_type": "raw",
   "id": "891e54b1-0bd5-4490-b262-23c0b43e38a9",
   "metadata": {},
   "source": [
    "Variables are used to store and manipulate data. A variable is like a container that holds a value, and we can assign different types of values to variables, such as numbers, strings, lists, set etc. Variables allow us to store data and refer to it by its name throughout our code.\n",
    "\n",
    "To declare and assign values to variables simply need to choose a name for the variable and use the assignment operator (=) to assign a value to it. for example:\n",
    "\n",
    "age = 25\n",
    "name = \"John Doe\"\n",
    "\n",
    "age and name is variable and we assign value by using (=) operator."
   ]
  },
  {
   "cell_type": "markdown",
   "id": "18775d69-c016-415b-807e-e9e4bc982e96",
   "metadata": {},
   "source": [
    "Q3. How do you convert one data type to another in Python?"
   ]
  },
  {
   "cell_type": "raw",
   "id": "1150e90f-eda3-4763-a4df-51b386841b67",
   "metadata": {},
   "source": [
    "We can convert one data type to another using type conversion functions or constructors. Python provides several built-in functions and constructors for type conversion. Here are some commonly used ones:\n",
    "\n",
    "int(): Converts a value to an integer data type.\n",
    "float(): Converts a value to a floating-point data type.\n",
    "str(): Converts a value to a string data type.\n",
    "list(): Converts a sequence like a string or tuple to a list data type.\n",
    "tuple(): Converts a sequence like a list or string to a tuple data type.\n",
    "etc"
   ]
  },
  {
   "cell_type": "markdown",
   "id": "21b26a6b-d2f6-4d4e-8e2a-f313463599ac",
   "metadata": {},
   "source": [
    "Q4. How do you write and execute a Python script from the command line?"
   ]
  },
  {
   "cell_type": "raw",
   "id": "26575285-a288-4649-9b70-f30ce0cd5694",
   "metadata": {},
   "source": [
    "To write and execute a Python script from the command line the steps are given below:\n",
    "Open a text editor and create a new file. We can use any text editor of our choice, such as Notepad, Sublime Text, or Visual Studio Code.\n",
    "Need to write Python code in the text file. For example, let's create a simple script that prints \"Hello, world!\": print(\"Hello, world!\")\n",
    "Save the file with a (.py) extension. Foe example python hello.py.\n",
    "Open a command prompt or terminal window.\n",
    "Navigate to the directory where your Python script is saved. We can use the cd (change directory) command to move between directories.\n",
    "Once we're in the correct directory, we can execute the Python script by typing python followed by the name of the script file. In this case, enter the following command: python hello.py\n",
    "Press Enter to execute the command. The Python interpreter will run the script, and we should see the output: Hello, world!"
   ]
  },
  {
   "cell_type": "markdown",
   "id": "ac05982c-8c20-4f37-bb90-f572a8054948",
   "metadata": {},
   "source": [
    "Q5. Given a list my_list = [1, 2, 3, 4, 5], write the code to slice the list and obtain the sub-list [2, 3]."
   ]
  },
  {
   "cell_type": "code",
   "execution_count": 7,
   "id": "a3d32b3a-473a-4c01-a52e-30343ac5dc8a",
   "metadata": {},
   "outputs": [
    {
     "data": {
      "text/plain": [
       "[2, 3]"
      ]
     },
     "execution_count": 7,
     "metadata": {},
     "output_type": "execute_result"
    }
   ],
   "source": [
    "my_list = [1, 2, 3, 4, 5]  \n",
    "sublist = my_list[1:3]     # Here we obtain the sub-list\n",
    "sublist"
   ]
  },
  {
   "cell_type": "markdown",
   "id": "81de3574-1486-448e-ad20-ad343dcaca7f",
   "metadata": {},
   "source": [
    "Q6. What is a complex number in mathematics, and how is it represented in Python?"
   ]
  },
  {
   "cell_type": "code",
   "execution_count": 1,
   "id": "86474353-5587-4859-93ae-fd95922bd821",
   "metadata": {},
   "outputs": [
    {
     "data": {
      "text/plain": [
       "complex"
      ]
     },
     "execution_count": 1,
     "metadata": {},
     "output_type": "execute_result"
    }
   ],
   "source": [
    "complesNumber = 2 + 3j # using \"j\" keyword we can create a complex number in python \n",
    "type(complesNumber)"
   ]
  },
  {
   "cell_type": "markdown",
   "id": "f6b216b7-f2aa-4c16-882e-2c16c2989434",
   "metadata": {},
   "source": [
    "Q7. What is the correct way to declare a variable named age and assign the value 25 to it?"
   ]
  },
  {
   "cell_type": "code",
   "execution_count": 10,
   "id": "e5a10e7d-35a3-4863-89df-c008404dd022",
   "metadata": {},
   "outputs": [],
   "source": [
    "age = 25 # Variable name is age and we assign the value is 25"
   ]
  },
  {
   "cell_type": "markdown",
   "id": "1e8cf073-a928-45a9-a762-cac4e112a54e",
   "metadata": {},
   "source": [
    "Q8. Declare a variable named price and assign the value 9.99 to it. What data type does this variable\n",
    "belong to?"
   ]
  },
  {
   "cell_type": "code",
   "execution_count": 12,
   "id": "eb8f50c0-2ba3-4730-b40a-c42747a4a737",
   "metadata": {},
   "outputs": [
    {
     "data": {
      "text/plain": [
       "float"
      ]
     },
     "execution_count": 12,
     "metadata": {},
     "output_type": "execute_result"
    }
   ],
   "source": [
    "price = 9.99 # Here i assign value to variable \n",
    "type(price)  # type function shows that the type of variable"
   ]
  },
  {
   "cell_type": "markdown",
   "id": "88ab7ef5-8e7b-428c-aebc-222891e955e3",
   "metadata": {},
   "source": [
    "Q9. Create a variable named name and assign your full name to it as a string. How would you print the\n",
    "value of this variable?"
   ]
  },
  {
   "cell_type": "code",
   "execution_count": 13,
   "id": "a95b659a-4319-47d4-928d-aa33bb2dcb79",
   "metadata": {},
   "outputs": [
    {
     "name": "stdout",
     "output_type": "stream",
     "text": [
      "Tridip Karmakar\n"
     ]
    }
   ],
   "source": [
    "name = \"Tridip Karmakar\" # In variable i assign my name as value \n",
    "print(name)    # I print the value of the name variable "
   ]
  },
  {
   "cell_type": "markdown",
   "id": "e731b787-ebf3-4d07-8eb1-8e034dcecc6c",
   "metadata": {},
   "source": [
    "Q10. Given the string \"Hello, World!\", extract the substring \"World\"."
   ]
  },
  {
   "cell_type": "code",
   "execution_count": 18,
   "id": "cdf928c3-d7cb-4df6-b83e-49e2d30f4839",
   "metadata": {},
   "outputs": [
    {
     "data": {
      "text/plain": [
       "'World'"
      ]
     },
     "execution_count": 18,
     "metadata": {},
     "output_type": "execute_result"
    }
   ],
   "source": [
    "newString = \"Hello, World\"\n",
    "newString[-5:]  # Using backward slicing i create a substring"
   ]
  },
  {
   "cell_type": "markdown",
   "id": "20cd8f8e-b3b9-4394-8483-6ab0c0651f20",
   "metadata": {},
   "source": [
    "Q11. Create a variable named \"is_student\" and assign it a boolean value indicating whether you are\n",
    "currently a student or not."
   ]
  },
  {
   "cell_type": "code",
   "execution_count": 2,
   "id": "39ab3c6d-dce4-49f1-85b3-d7de0a206500",
   "metadata": {},
   "outputs": [
    {
     "data": {
      "text/plain": [
       "bool"
      ]
     },
     "execution_count": 2,
     "metadata": {},
     "output_type": "execute_result"
    }
   ],
   "source": [
    "is_student = True # Ture is showing that i'm currently a student of PW.\n",
    "type(is_student)"
   ]
  }
 ],
 "metadata": {
  "kernelspec": {
   "display_name": "Python 3 (ipykernel)",
   "language": "python",
   "name": "python3"
  },
  "language_info": {
   "codemirror_mode": {
    "name": "ipython",
    "version": 3
   },
   "file_extension": ".py",
   "mimetype": "text/x-python",
   "name": "python",
   "nbconvert_exporter": "python",
   "pygments_lexer": "ipython3",
   "version": "3.10.6"
  }
 },
 "nbformat": 4,
 "nbformat_minor": 5
}
