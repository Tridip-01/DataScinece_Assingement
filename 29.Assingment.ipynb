{
 "cells": [
  {
   "cell_type": "markdown",
   "id": "6d30e66a-e9fb-4d11-8a40-528552946ea9",
   "metadata": {
    "tags": []
   },
   "source": [
    "### Q1- Explain the following with an Example : \n",
    "**a) Artificial Intelligence,**\n",
    "**b) Machine Learning,** \n",
    "**c) Deep Learning,**"
   ]
  },
  {
   "cell_type": "markdown",
   "id": "eff0dd99-7bc4-40ba-abfe-d02030b4ac70",
   "metadata": {},
   "source": [
    "### a) Artificial Intelligence (AI)\n",
    "**Explanation:**\n",
    "Artificial Intelligence is a broad field of focused on creating systems that can perform tasks without human intervention. This includes problem-solving, understanding natural language, recognizing patterns, and making decisions.\n",
    "\n",
    "**Example:**\n",
    "AI as a smart assistant like Apple's Siri or Amazon's Alexa. When we ask Siri to set a reminder or play music, it understands our voice commands and responds appropriately, mimicking human intelligence.\n",
    "\n",
    "### b) Machine Learning (ML)\n",
    "**Explanation:**\n",
    "Machine Learning is a subset of AI that involves teaching computers to learn from data. Instead of being explicitly programmed to perform a task, ML algorithms use statistical techniques to learn patterns in data and make decisions based on it.\n",
    "\n",
    "**Example:**\n",
    "When we want to teach a computer to recognize whether an email is spam. So we feed it a large number of emails labelled as \"spam\" or \"not spam.\" The machine learning algorithm then learns patterns in these emails (like certain keywords or phrases) and can predict if new emails are spam based on what it has learned.\n",
    "\n",
    "### c) Deep Learning\n",
    "**Explanation:**\n",
    "Deep Learning is a specialized subfield of machine learning that uses neural networks with many layers to analyze various types of data. It's particularly good at working with large datasets and complex patterns, such as image and speech recognition.\n",
    "\n",
    "**Example:**\n",
    "Technology behind self-driving cars. Deep learning models analyze the data from various sensors and cameras on the car to understand the environment, recognize objects (like pedestrians or other vehicles), and make driving decisions. These models are trained on vast amounts of driving data to improve their accuracy."
   ]
  },
  {
   "cell_type": "markdown",
   "id": "bca7ec59-a17c-415c-8e7e-362920872c9b",
   "metadata": {},
   "source": [
    "#### Q2- What is supervised learning? List some example of supervised learning."
   ]
  },
  {
   "cell_type": "markdown",
   "id": "ea8d7261-d460-46f5-82a9-cfc948b9f526",
   "metadata": {},
   "source": []
  }
 ],
 "metadata": {
  "kernelspec": {
   "display_name": "Python 3 (ipykernel)",
   "language": "python",
   "name": "python3"
  },
  "language_info": {
   "codemirror_mode": {
    "name": "ipython",
    "version": 3
   },
   "file_extension": ".py",
   "mimetype": "text/x-python",
   "name": "python",
   "nbconvert_exporter": "python",
   "pygments_lexer": "ipython3",
   "version": "3.10.6"
  }
 },
 "nbformat": 4,
 "nbformat_minor": 5
}
