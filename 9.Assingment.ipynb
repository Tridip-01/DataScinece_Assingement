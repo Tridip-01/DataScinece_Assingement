{
 "cells": [
  {
   "cell_type": "markdown",
   "id": "db9888f5-7c3e-4feb-868e-08a43506a707",
   "metadata": {},
   "source": [
    "#### Q1. Explain why we have to use the Exception class while creating a Custom Exception. Note: Here Exception class refers to the base class for all the exceptions. "
   ]
  },
  {
   "cell_type": "markdown",
   "id": "26c1dfe0-76d5-4cca-ae27-b7a2a83216ce",
   "metadata": {},
   "source": [
    "#### 1. Inheritance and Hierarchy: The Exception class is the base class for all built-in exceptions in Python. It forms a hierarchy of exception classes, with more specific exception classes inheriting from it. By using the Exception class as the base class for our custom exception, we ensure that our exception is part of this hierarchy. This allows us to take advantage of the existing exception handling mechanisms in Python.\n",
    "\n",
    "#### 2. Exception Handling: Python provides a robust exception handling mechanism using the try, except, and finally statements. By inheriting from the Exception class, our custom exception can be caught and handled using these statements just like any other exception in Python. This makes it easier to write code that handles different types of exceptions uniformly.\n",
    "\n",
    "#### 3. Standardized Behavior: The Exception class defines common behaviors and attributes that are expected from exceptions in Python. These include attributes like args (to store exception arguments), message (to store an error message), and methods like __str__ (to convert the exception to a string representation). By inheriting from Exception, our custom exception inherits these behaviors and ensures consistency with other exceptions in Python.\n",
    "\n",
    "#### 4. Customization and Specialization: While the Exception class provides a generic base for exceptions, we can create more specific custom exceptions by subclassing it. For example, we can create a custom exception for a specific domain or application logic. By building upon the Exception class, we can add additional attributes or methods to our custom exception to suit our specific needs.\n",
    "\n",
    "#### 5.Compatibility and Interoperability: Python has a rich ecosystem of libraries and frameworks that are designed to work with exceptions. Many of these libraries expect exceptions to be based on the Exception class. By following this convention, our custom exception becomes compatible with these libraries, making it easier to integrate our code into existing Python projects and leverage available tools and libraries"
   ]
  },
  {
   "cell_type": "markdown",
   "id": "11e687d1-ecc3-42a7-ae4b-abb2dc0eea7c",
   "metadata": {},
   "source": [
    "#### Q2. Write a python program to print Python Exception Hierarchy. "
   ]
  },
  {
   "cell_type": "code",
   "execution_count": 102,
   "id": "5dbc51a5-0d88-4be0-b5eb-9489d1045f90",
   "metadata": {},
   "outputs": [],
   "source": [
    "import logging\n",
    "\n",
    "logging.basicConfig(filename= \"error.log\", level= logging.INFO)\n",
    "def print_exception_hierarchy(base_exception_class, indent = 0) : # this function received base class as an argument\n",
    "    logging.info(' ' * indent+base_exception_class.__name__) # print the class heading with __name__ method \n",
    "    for subclass in base_exception_class.__subclasses__() : # this function loop through its subclass of its base class \n",
    "        print_exception_hierarchy(subclass,indent +4) # this is recursive function takes the base class name as argument\n",
    "    \n",
    "    \n",
    "print_exception_hierarchy(LookupError) # this is instance of print_exception_hierarchy method"
   ]
  },
  {
   "cell_type": "markdown",
   "id": "3fa77c62-bc0f-4b2d-83db-c7f542837c5b",
   "metadata": {},
   "source": [
    "#### Q3. What errors are defined in the ArithmeticError class? Explain any two with an example."
   ]
  },
  {
   "cell_type": "markdown",
   "id": "de0c1508-58cb-4654-a4fd-39ddd419d237",
   "metadata": {},
   "source": [
    "#### The ArithmeticError class is a base class for mathematical errors in Python. It represents a category of exceptions that occur during arithmetic operations. Some errors defined in the ArithmeticError class include FloatingPointError, ZeroDivisionError, and OverflowError. Let's explain two of these errors with examples:"
   ]
  },
  {
   "cell_type": "code",
   "execution_count": 2,
   "id": "0d403ee6-22e2-4427-a99d-a411072ddbde",
   "metadata": {},
   "outputs": [],
   "source": [
    "import logging\n",
    "\n",
    "logging.basicConfig(filename=\"error.log\", level=logging.DEBUG)\n",
    "\n",
    "def square_root(a, b):\n",
    "    try:\n",
    "        result = a/b \n",
    "        return result\n",
    "    except ArithmeticError as e:\n",
    "        logging.error(e)\n",
    "\n",
    "square_root(10,0) #  somethig devided by 0 is ZeroDivisionError its comes under ArithmeticError class"
   ]
  },
  {
   "cell_type": "markdown",
   "id": "9f1b6ec1-7d45-463c-891c-9898d1e8bc8d",
   "metadata": {},
   "source": [
    "####  Q4. Why LookupError class is used? Explain with an example KeyError and IndexError."
   ]
  },
  {
   "cell_type": "markdown",
   "id": "d3f35c6b-4a07-4832-8aa5-311a390ca0e3",
   "metadata": {},
   "source": [
    "#### The LookupError class in Python is the base class for exceptions that occur when a lookup operation fails. It is a superclass for specific lookup-related exceptions, such as KeyError and IndexError.\n",
    "\n",
    "#### The primary reason for using the LookupError class is to catch and handle lookup-related errors in a more general way. It allows us to handle different lookup failures with a single exception handler, rather than catching each specific exception separately.\n",
    "\n",
    "#### 1. KeyError: KeyError is raised when we try to access a dictionary using a key that does not exist. It indicates that the key we are trying to access is not present in the dictionary."
   ]
  },
  {
   "cell_type": "code",
   "execution_count": 3,
   "id": "4f7013da-5248-429f-98fe-00a0bf35e8e5",
   "metadata": {},
   "outputs": [],
   "source": [
    "Student = {\"Name\" : \"Tridip\", \"Last Name\":\"Karmakar\"}\n",
    "logging.basicConfig(filename=\"error.log\", level=logging.DEBUG)\n",
    "def find_key_value(dictionary,key):\n",
    "    try :\n",
    "        value = dictionary[key]\n",
    "        return logging.info(value)\n",
    "    \n",
    "    except KeyError  :\n",
    "         return logging.error(f\"This {key} key is not present in dictionary\")\n",
    "        \n",
    "find_key_value(Student,\"ID\")"
   ]
  },
  {
   "cell_type": "markdown",
   "id": "96b1435e-5f71-40fd-baa9-9a97a6ac98ff",
   "metadata": {},
   "source": [
    "#### In this code, we attempt to access the \"ID\" key from the Student dictionary. However, since the key does not exist, a KeyError is raised. The except block catches the KeyError exception, and the error message \"This 'ID' key is not present in dictionary\" is printed."
   ]
  },
  {
   "cell_type": "markdown",
   "id": "ff0126ac-34f1-4c76-bde4-ff1a490b7e96",
   "metadata": {},
   "source": [
    "#### 2. IndexError:\n",
    "#### IndexError is raised when you try to access a sequence (such as a list or string) using an invalid index that is out of range. It indicates that the index you are trying to access is not valid for the given sequence. Here's an example:"
   ]
  },
  {
   "cell_type": "code",
   "execution_count": 4,
   "id": "2337a3f2-cece-4bdb-9a4b-3975c0d932f0",
   "metadata": {},
   "outputs": [],
   "source": [
    "my_list = [\"Pw_Skills\",\"Data_Science\",1.22,25]\n",
    "logging.basicConfig(filename=\"error.log\", level=logging.DEBUG)\n",
    "def find_key_value(my_list,index):\n",
    "    try :\n",
    "        value = my_list[index]\n",
    "        return logging.info(value)\n",
    "    \n",
    "    except IndexError  :\n",
    "         return logging.error(f\"No eliment found in index {index}\")\n",
    "        \n",
    "find_key_value(my_list,4)\n"
   ]
  },
  {
   "cell_type": "markdown",
   "id": "475acb71-36f7-4bf7-858b-95cfff3531ee",
   "metadata": {},
   "source": [
    "#### In this code, we attempt to access the element at index 4 in the my_list list. However, since the list contains only four elements with indices 0 to 3, accessing index 4 is out of range and raises an IndexError. The except block catches the IndexError exception, and the error message \"No eliment found in index {index}\"."
   ]
  },
  {
   "cell_type": "markdown",
   "id": "6470e96f-0a0d-43c6-ab79-c5062b628572",
   "metadata": {},
   "source": [
    "#### Q5. Explain ImportError. What is ModuleNotFoundError? "
   ]
  },
  {
   "cell_type": "markdown",
   "id": "575e18a5-0f47-442c-b338-edee620692d5",
   "metadata": {},
   "source": [
    "#### 1. ImportError: ImportError is a base class for exceptions related to importing modules. It is raised when there is an error during the import process, such as when a module cannot be found or when there is an issue with the module's content. ImportError is a general exception that encompasses various import-related errors. For example, if you try to import a module that does not exist, you will encounter an ImportError."
   ]
  },
  {
   "cell_type": "code",
   "execution_count": 14,
   "id": "57a12b84-14af-40ed-a146-eb4b8e5be0e1",
   "metadata": {},
   "outputs": [],
   "source": [
    "try:\n",
    "    import non_existent_module\n",
    "except ImportError as e:\n",
    "    logging.error(\"Import Error: %s\", e)"
   ]
  },
  {
   "cell_type": "markdown",
   "id": "5c521703-9b08-4b72-be81-5d22f43fd295",
   "metadata": {},
   "source": [
    "#### 2. ModuleNotFoundError: ModuleNotFoundError is a subclass of ImportError and provides a more specific error message for cases when a module cannot be found. It is raised when the Python interpreter cannot locate the specified module to import. Starting from Python 3.6, the ModuleNotFoundError was introduced to provide a clearer distinction between errors related to module imports. Prior to Python 3.6, a general ImportError was raised for both cases."
   ]
  },
  {
   "cell_type": "code",
   "execution_count": 15,
   "id": "705c37a2-bedc-4846-ae15-5ae290d9aaf7",
   "metadata": {},
   "outputs": [],
   "source": [
    "try:\n",
    "    import non_existent_module\n",
    "except ModuleNotFoundError as e:\n",
    "    logging.error(\"Module Not Found Error: %s\", e)"
   ]
  },
  {
   "cell_type": "markdown",
   "id": "ddf2d162-1878-48ff-8ca4-58029b8dfb41",
   "metadata": {},
   "source": [
    "#### Q6. List down some best practices for exception handling in python.  "
   ]
  },
  {
   "cell_type": "markdown",
   "id": "60fd4d05-6535-4369-a0f9-916de97fc472",
   "metadata": {},
   "source": [
    "#### There are several best practices that can help our write clean, robust, and maintainable code. Here are some of the key best practices for exception handling in Python:\n",
    "\n",
    "#### 1. Be specific with exception handling: Catch specific exceptions whenever possible instead of using broad exceptions like `Exception` or `BaseException`. This allows us to handle different exceptions differently and provides better clarity and maintainability.\n",
    "\n",
    "#### 2. Use multiple `except` blocks: If we need to handle different exceptions in different ways, then we use multiple `except` blocks instead of a single block. This allows us to handle each exception separately and provide specific error handling logic for each case.\n",
    "\n",
    "#### 3. Handle exceptions gracefully: Provide meaningful error messages or log appropriate information when an exception occurs. This helps with debugging and troubleshooting, especially when our code is running in production.\n",
    "\n",
    "#### 4. Avoid bare `except` statements: We must avoid using bare `except` statements without specifying the exception type. This can catch and hide unexpected exceptions, making it harder to identify and debug issues.\n",
    "\n",
    "#### 5. Use `finally` block for cleanup: Using the `finally` block to perform cleanup operations that should always occur, whether an exception is raised or not. This is useful for releasing resources or closing connections, ensuring that they are properly handled regardless of exceptions.\n",
    "\n",
    "#### 6. Consider using context managers: Context managers, implemented using the `with` statement, are useful for managing resources and ensuring their proper handling. They automatically handle setup and teardown operations, even in the presence of exceptions.\n",
    "\n",
    "#### 7. Reraise exceptions when appropriate: If we catch an exception but cannot handle it adequately, consider reraising the exception using the `raise` statement. This allows the exception to propagate up the call stack and be handled by higher-level code that may have more context and knowledge to handle it.\n",
    "\n",
    "#### 8. Avoid excessive nesting of try-except blocks: Excessive nesting of try-except blocks can make the code harder to read and maintain. We shoud keep the exception handling code as flat and concise as possible.\n",
    "\n",
    "#### 9. Document exceptions in our code: Document the exceptions that can be raised by our functions or methods. This helps other developers understand how to handle potential exceptions and provides useful information for callers of our code.\n",
    "\n",
    "#### 10. Test exception scenarios: Write test cases specifically designed to test exception scenarios in our code. This ensures that our exception handling logic functions as expected and helps catch any unexpected behaviors."
   ]
  }
 ],
 "metadata": {
  "kernelspec": {
   "display_name": "Python 3 (ipykernel)",
   "language": "python",
   "name": "python3"
  },
  "language_info": {
   "codemirror_mode": {
    "name": "ipython",
    "version": 3
   },
   "file_extension": ".py",
   "mimetype": "text/x-python",
   "name": "python",
   "nbconvert_exporter": "python",
   "pygments_lexer": "ipython3",
   "version": "3.10.6"
  }
 },
 "nbformat": 4,
 "nbformat_minor": 5
}
