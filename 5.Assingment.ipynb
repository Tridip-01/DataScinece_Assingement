{
 "cells": [
  {
   "cell_type": "markdown",
   "id": "5e6d7777-865b-437d-8314-1bf083067916",
   "metadata": {},
   "source": [
    "### Q1, Create a vehicle class with an init method having instance variables as name_of_vehicle, max_speed and average_of_vehicle.\n"
   ]
  },
  {
   "cell_type": "code",
   "execution_count": 43,
   "id": "73ac7fb7-9e0d-40fa-9f98-cb16ca1b0e14",
   "metadata": {},
   "outputs": [],
   "source": [
    "class vehicle:   # vehicle class\n",
    "    \n",
    "    def __init__(self,name_of_vehicle,max_speed,average_of_vehicle): # init method with above instances\n",
    "        self.name_of_vehicle = name_of_vehicle\n",
    "        self.max_speed = max_speed\n",
    "        self.average_of_vehicle = average_of_vehicle"
   ]
  },
  {
   "cell_type": "code",
   "execution_count": 58,
   "id": "a41e59ca-54e4-4683-94ba-977d73185285",
   "metadata": {},
   "outputs": [
    {
     "data": {
      "text/plain": [
       "'hyundai_creta'"
      ]
     },
     "execution_count": 58,
     "metadata": {},
     "output_type": "execute_result"
    }
   ],
   "source": [
    "vehicles = vehicle(\"hyundai_creta\",\"165 km/h\",\"16.8 kmpl\")\n",
    "#vehicle = vehicle(\"hyundai_creta\",\"165 km/h\",\"16.8 kmpl\") # create a car Object\n",
    "\n",
    "vehicles.name_of_vehicle  # output : 'hyundai_creta' "
   ]
  },
  {
   "cell_type": "markdown",
   "id": "8dd221b4-8257-421f-bbc5-63f5282ae874",
   "metadata": {},
   "source": [
    "### Q2. Create a child class car from the vehicle class created in Que 1, which will inherit the vehicle class. Create a method named seating_capacity which takes capacity as an argument and returns the name of the vehicle and its seating capacity."
   ]
  },
  {
   "cell_type": "code",
   "execution_count": 62,
   "id": "f28a5e53-b9b3-4160-8a30-62ec7f86c507",
   "metadata": {},
   "outputs": [],
   "source": [
    "class car(vehicle):\n",
    "    def __init__(self,name_of_vehicle,max_speed,average_of_vehicle):\n",
    "        super().__init__(name_of_vehicle,max_speed,average_of_vehicle)\n",
    "        \n",
    "    def setting_capacity(self, capacity):\n",
    "        self.capacity=capacity \n",
    "        return f\"The {self.name_of_vehicle} has a setting capacity of {self.capacity}.\" "
   ]
  },
  {
   "cell_type": "code",
   "execution_count": 63,
   "id": "5229ef6c-83ba-402d-b19c-4f5ed7e2afc2",
   "metadata": {},
   "outputs": [
    {
     "data": {
      "text/plain": [
       "'The hyundai_creta has a setting capacity of 5 Seats.'"
      ]
     },
     "execution_count": 63,
     "metadata": {},
     "output_type": "execute_result"
    }
   ],
   "source": [
    "my_car = car(\"hyundai_creta\",\"165 km/h\",\"16.8 kmpl\")\n",
    "my_car.setting_capacity(\"5 Seats\")"
   ]
  },
  {
   "cell_type": "markdown",
   "id": "c7b20000-8166-40b3-b32e-a119a09313a7",
   "metadata": {},
   "source": [
    "### Q3. What is multiple inheritance? Write a python code to demonstrate multiple inheritance."
   ]
  },
  {
   "cell_type": "markdown",
   "id": "691e9b17-da31-474b-8a0b-b7543fef4e8e",
   "metadata": {},
   "source": [
    "#### Multiple inheritance is a feature of object-oriented programming where a class can inherit attributes and methods from more than one parent class. In multiple inheritance, a child class can inherit and combine the characteristics and behaviors of multiple parent classes.\n",
    "#### Here's an example to illustrate multiple inheritance:"
   ]
  },
  {
   "cell_type": "code",
   "execution_count": 66,
   "id": "1c594818-b35b-40b5-8e24-cebf21f9e57d",
   "metadata": {},
   "outputs": [
    {
     "name": "stdout",
     "output_type": "stream",
     "text": [
      "This is 1st function from 1st parent class.\n",
      "This is 2nd function from 2nd Parent class.\n",
      "This is 3rd function from chield class\n"
     ]
    }
   ],
   "source": [
    "class class1:\n",
    "    def finction1(self):\n",
    "        print(\"This is 1st function from 1st parent class.\")\n",
    "\n",
    "class class2:\n",
    "    def finction2(self):\n",
    "        print(\"This is 2nd function from 2nd Parent class.\")\n",
    "\n",
    "class child_class(class1, class2):\n",
    "    def funciton3(self):\n",
    "        print(\"This is 3rd function from chield class\") \n",
    "\n",
    "# Create an object of ChildClass\n",
    "child_obj = child_class()\n",
    "\n",
    "# Accessing methods from Class1\n",
    "child_obj.finction1()  \n",
    "\n",
    "# Accessing methods from Class2\n",
    "child_obj.finction2()  \n",
    "\n",
    "# Accessing methods from child_Class\n",
    "child_obj.funciton3()  \n"
   ]
  },
  {
   "cell_type": "markdown",
   "id": "7abd7494-e331-4dbe-9889-f276e4dbfb3c",
   "metadata": {},
   "source": [
    "### Q4. What are getter and setter in python? Create a class and create a getter and a setter method in this class."
   ]
  },
  {
   "cell_type": "markdown",
   "id": "9acd117b-75ff-464e-be23-0080821da063",
   "metadata": {},
   "source": [
    "#### Getters and setters are methods that are used to access and modify the values of class attributes (variables) in a controlled manner. They are often referred to as \"getter\" and \"setter\" methods or properties. Getters are methods that allow you to retrieve the value of an attribute, while setters are methods that allow you to modify or set the value of an attribute. By using getters and setters, you can enforce encapsulation and control access to the attributes of a class"
   ]
  },
  {
   "cell_type": "code",
   "execution_count": 76,
   "id": "39be9166-1e01-45c4-b558-813b1b9cf7b0",
   "metadata": {},
   "outputs": [],
   "source": [
    "class balance :    #cretae a class using encapsulation method \n",
    "    def __init__(self, balance):\n",
    "        self.__balance = balance \n",
    "        \n",
    "    def deposit(self, amount) :   \n",
    "        self.__balance = self.__balance + amount \n",
    "        \n",
    "    def withdraw(self,amount) :\n",
    "        if self.__balance >= amount :\n",
    "            self.__balance = self.__balance - amount\n",
    "            return True \n",
    "        else :\n",
    "            return False\n",
    "        \n",
    "    def get_balance(self):   # this  is Getter method \n",
    "        return self.__balance\n",
    "    \n",
    "    def set_new_balance(self, amount): # this is setter method \n",
    "        self.__balance = amount"
   ]
  },
  {
   "cell_type": "code",
   "execution_count": 85,
   "id": "e75e058c-55ad-40f2-b056-6b5a239353fb",
   "metadata": {},
   "outputs": [
    {
     "name": "stdout",
     "output_type": "stream",
     "text": [
      "My balance is : 6000\n",
      "My new balance is : 1000\n"
     ]
    }
   ],
   "source": [
    "my_account = balance(5000)  # creating a object \n",
    "my_account.deposit(6000)  # uding deposite method increase balance\n",
    "my_account.withdraw(5000) # using withdraw method decrease balance\n",
    "print(\"My balance is :\",my_account.get_balance())\n",
    "my_account.set_new_balance(1000)  # using setter method set new balance \n",
    "print (\"My new balance is :\",my_account.get_balance()) # using getter method get new balance "
   ]
  },
  {
   "cell_type": "markdown",
   "id": "7e500a1e-1c8b-48d2-a381-6011e3b8a64d",
   "metadata": {},
   "source": [
    "### Q5.What is method overriding in python? Write a python code to demonstrate method overriding."
   ]
  },
  {
   "cell_type": "markdown",
   "id": "9067194b-be48-4294-8a31-1623fd766af4",
   "metadata": {},
   "source": [
    "#### Method overriding is a feature that allows a subclass to provide a different implementation of a method that is already defined in its superclass. When a method in the subclass has the same name, parameters, and return type as a method in the superclass, it overrides the superclass method.\n",
    "\n",
    "#### The process of method overriding involves redefining a method in the subclass with the same name as a method in the superclass. By doing this, the subclass provides its own implementation of the method, which is used instead of the superclass implementation when the method is called on an instance of the subclass."
   ]
  },
  {
   "cell_type": "code",
   "execution_count": 39,
   "id": "67af8748-8631-4601-97bf-8e4dc07fc003",
   "metadata": {},
   "outputs": [
    {
     "name": "stdout",
     "output_type": "stream",
     "text": [
      "This is data Sciecnce Batch in pwskills \n",
      "Pw accrues inuron\n",
      "Upgrand is also good platform to learn datascience.\n"
     ]
    }
   ],
   "source": [
    "class pwskills:\n",
    "    def datascience(self):\n",
    "        print(\"This is data Sciecnce Batch in pwskills \")\n",
    "\n",
    "class inuron(pwskills):\n",
    "     def datascience(self):\n",
    "        print(\"Pw accrues inuron\")\n",
    "        \n",
    "class upgrad(pwskills):\n",
    "    def datascience(self):\n",
    "        print(\"Upgrand is also good platform to learn datascience.\")\n",
    "\n",
    "# Creating instances of the classes\n",
    "pw = pwskills()\n",
    "inuron = inuron()\n",
    "upgrad = upgrad()\n",
    "\n",
    "# Calling the sound method\n",
    "pw.datascience()  # Output: This is data Sciecnce Batch in pwskills .\n",
    "inuron.datascience()     # Output: Pw accrues inuron.\n",
    "upgrad.datascience()     # Output: Upgrand is also good platform to learn datascience.\n"
   ]
  },
  {
   "cell_type": "markdown",
   "id": "f83ea6c9-cb49-412b-aaf4-d8f61f5ddacb",
   "metadata": {},
   "source": [
    "### so, the subclass overrite superclass methods"
   ]
  }
 ],
 "metadata": {
  "kernelspec": {
   "display_name": "Python 3 (ipykernel)",
   "language": "python",
   "name": "python3"
  },
  "language_info": {
   "codemirror_mode": {
    "name": "ipython",
    "version": 3
   },
   "file_extension": ".py",
   "mimetype": "text/x-python",
   "name": "python",
   "nbconvert_exporter": "python",
   "pygments_lexer": "ipython3",
   "version": "3.10.6"
  }
 },
 "nbformat": 4,
 "nbformat_minor": 5
}
