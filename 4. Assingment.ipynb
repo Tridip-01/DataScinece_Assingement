{
 "cells": [
  {
   "cell_type": "markdown",
   "id": "2e60eddd-8439-4e29-9326-e292b62c205d",
   "metadata": {},
   "source": [
    " ### Q1. Create a python program to sort the given list of tuples based on integer value using a lambda function.  [('Sachin Tendulkar', 34357), ('Ricky Ponting', 27483), ('Jack Kallis', 25534), ('Virat Kohli', 24936)]\n"
   ]
  },
  {
   "cell_type": "code",
   "execution_count": 1,
   "id": "b29b869f-e5ac-4b14-90cb-9e22e72c055e",
   "metadata": {},
   "outputs": [
    {
     "data": {
      "text/plain": [
       "[('Virat Kohli', 24936),\n",
       " ('Jack Kallis', 25534),\n",
       " ('Ricky Ponting', 27483),\n",
       " ('Sachin Tendulkar', 34357)]"
      ]
     },
     "execution_count": 1,
     "metadata": {},
     "output_type": "execute_result"
    }
   ],
   "source": [
    "list1 = [('Sachin Tendulkar', 34357), ('Ricky Ponting', 27483), ('Jack Kallis', 25534), ('Virat Kohli', 24936)]\n",
    "\n",
    "list1.sort(key = lambda x : x[1]) # using lambda function select the key and sort() function short those keys\n",
    "list1"
   ]
  },
  {
   "cell_type": "markdown",
   "id": "e9103d2f-0e58-4361-b422-a9dec577cb05",
   "metadata": {},
   "source": [
    "### Q2. Write a Python Program to find the squares of all the numbers in the given list of integers using lambda and map functions.[1, 2, 3, 4, 5, 6, 7, 8, 9, 10]"
   ]
  },
  {
   "cell_type": "code",
   "execution_count": 10,
   "id": "2c0d227e-cb9e-4fd2-b751-9bd0be9539a7",
   "metadata": {},
   "outputs": [
    {
     "data": {
      "text/plain": [
       "[1, 4, 9, 16, 25, 36, 49, 64, 81, 100]"
      ]
     },
     "execution_count": 10,
     "metadata": {},
     "output_type": "execute_result"
    }
   ],
   "source": [
    "list2 = [1, 2, 3, 4, 5, 6, 7, 8, 9, 10]\n",
    "sqr_list = list(map(lambda x : x**2,list2)) \n",
    "sqr_list"
   ]
  },
  {
   "cell_type": "markdown",
   "id": "76310a6b-7569-4587-89a3-559db980b54e",
   "metadata": {},
   "source": [
    "### Q3. Write a python program to convert the given list of integers into a tuple of strings. Use map and lambda functions Given String: [1, 2, 3, 4, 5, 6, 7, 8, 9, 10] Expected output: ('1', '2', '3', '4', '5', '6', '7', '8', '9', '10')"
   ]
  },
  {
   "cell_type": "code",
   "execution_count": 11,
   "id": "52b7f883-0f8a-4865-b606-611a5c7cc52f",
   "metadata": {},
   "outputs": [
    {
     "data": {
      "text/plain": [
       "('1', '2', '3', '4', '5', '6', '7', '8', '9', '10')"
      ]
     },
     "execution_count": 11,
     "metadata": {},
     "output_type": "execute_result"
    }
   ],
   "source": [
    "list3 = [1, 2, 3, 4, 5, 6, 7, 8, 9, 10]\n",
    "\n",
    "new  = tuple(map(lambda x : str(x), list3))\n",
    "new"
   ]
  },
  {
   "cell_type": "markdown",
   "id": "fcd56a99-a2df-4855-ad27-872e75a1ea6d",
   "metadata": {},
   "source": [
    "### Q4. Write a python program using reduce function to compute the product of a list containing numbers from 1 to 25."
   ]
  },
  {
   "cell_type": "code",
   "execution_count": 14,
   "id": "08589e0f-a1fb-4f7c-93b6-37d5242c0f1a",
   "metadata": {},
   "outputs": [
    {
     "name": "stdout",
     "output_type": "stream",
     "text": [
      "[1, 2, 3, 4, 5, 6, 7, 8, 9, 10, 11, 12, 13, 14, 15, 16, 17, 18, 19, 20, 21, 22, 23, 24, 25]\n",
      "The product of above list : 15511210043330985984000000\n"
     ]
    }
   ],
   "source": [
    "from functools import reduce\n",
    "list4 = []\n",
    "[list4.append(i) for i in range(1,26) ] # create a list of 25 eliment\n",
    "print(list4)\n",
    "\n",
    "product = reduce(lambda x,y : x*y,list4)  # Compute the product of 25 eliment \n",
    "print (f\"The product of above list : {product}\")"
   ]
  },
  {
   "cell_type": "markdown",
   "id": "e145b924-5b06-4382-8158-0499024199ce",
   "metadata": {},
   "source": [
    "### Q5. Write a python program to filter the numbers in a given list that are divisible by 2 and 3 using the filter function. [2, 3, 6, 9, 27, 60, 90, 120, 55, 46]"
   ]
  },
  {
   "cell_type": "code",
   "execution_count": 16,
   "id": "ecf62a39-87b2-4304-a701-e9f8c557ff74",
   "metadata": {},
   "outputs": [
    {
     "data": {
      "text/plain": [
       "[2, 3, 6, 9, 27, 60, 90, 120, 46]"
      ]
     },
     "execution_count": 16,
     "metadata": {},
     "output_type": "execute_result"
    }
   ],
   "source": [
    "list4 = [2, 3, 6, 9, 27, 60, 90, 120, 55, 46]\n",
    "newlist =  list(filter(lambda x : x%2== 0 or x%3==0,list4)) # filter the numbers that are divisible by 2 and 3\n",
    "newlist"
   ]
  },
  {
   "cell_type": "markdown",
   "id": "5711d7bd-563b-40d4-ad00-8857a255854a",
   "metadata": {},
   "source": [
    "### Q6. Write a python program to find palindromes in the given list of strings using lambda and filter function. ['python', 'php', 'aba', 'radar', 'level']"
   ]
  },
  {
   "cell_type": "code",
   "execution_count": 17,
   "id": "19ff968f-a0e6-4b8e-a7a0-3e9cc3541502",
   "metadata": {},
   "outputs": [
    {
     "data": {
      "text/plain": [
       "['php', 'aba', 'radar', 'level']"
      ]
     },
     "execution_count": 17,
     "metadata": {},
     "output_type": "execute_result"
    }
   ],
   "source": [
    "string = ['python', 'php', 'aba', 'radar', 'level']\n",
    "palindromes_list = list(filter(lambda x : x[::-1]==x, string))  # find palindrome using lambda and filter function\n",
    "palindromes_list"
   ]
  }
 ],
 "metadata": {
  "kernelspec": {
   "display_name": "Python 3 (ipykernel)",
   "language": "python",
   "name": "python3"
  },
  "language_info": {
   "codemirror_mode": {
    "name": "ipython",
    "version": 3
   },
   "file_extension": ".py",
   "mimetype": "text/x-python",
   "name": "python",
   "nbconvert_exporter": "python",
   "pygments_lexer": "ipython3",
   "version": "3.10.6"
  }
 },
 "nbformat": 4,
 "nbformat_minor": 5
}
